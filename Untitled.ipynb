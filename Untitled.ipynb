{
 "cells": [
  {
   "cell_type": "code",
   "execution_count": 259,
   "id": "08b07926",
   "metadata": {},
   "outputs": [],
   "source": [
    "import numpy as np \n",
    "import pandas as pd \n",
    "import matplotlib.pyplot as plt\n",
    "from plotly.subplots import make_subplots\n",
    "\n",
    "from datetime import datetime   ## For transform\n",
    "pd.set_option('display.float_format', lambda x: '%.3f' % x)\n",
    "import os\n",
    "import seaborn as sns\n",
    "import pandas as pd\n",
    "import numpy as np\n",
    "import plotly.graph_objects as go\n",
    "import pandas as pd\n",
    "import numpy as np\n",
    "import matplotlib.pyplot as plt\n",
    "from sklearn.metrics import mean_squared_error, r2_score, mean_absolute_error\n",
    "from sklearn.model_selection import train_test_split,GridSearchCV,cross_val_score\n",
    "from sklearn.ensemble import RandomForestRegressor\n",
    "from pandas.api.types import CategoricalDtype  ## For transform\n",
    "from scipy.stats import shapiro  ## For statistical analysis\n",
    "from scipy.stats import stats    ## For statistical analysis\n",
    "from datetime import datetime   ## For transform\n",
    "import warnings\n",
    "warnings.filterwarnings('ignore')\n",
    "pd.plotting.register_matplotlib_converters()\n",
    "from fbprophet import Prophet\n",
    "\n"
   ]
  },
  {
   "cell_type": "code",
   "execution_count": 260,
   "id": "87cffef5",
   "metadata": {
    "scrolled": true
   },
   "outputs": [
    {
     "data": {
      "text/html": [
       "<div>\n",
       "<style scoped>\n",
       "    .dataframe tbody tr th:only-of-type {\n",
       "        vertical-align: middle;\n",
       "    }\n",
       "\n",
       "    .dataframe tbody tr th {\n",
       "        vertical-align: top;\n",
       "    }\n",
       "\n",
       "    .dataframe thead th {\n",
       "        text-align: right;\n",
       "    }\n",
       "</style>\n",
       "<table border=\"1\" class=\"dataframe\">\n",
       "  <thead>\n",
       "    <tr style=\"text-align: right;\">\n",
       "      <th></th>\n",
       "      <th>Month_Year</th>\n",
       "      <th>Avg_players</th>\n",
       "      <th>Gain</th>\n",
       "      <th>Percent_Gain</th>\n",
       "      <th>Peak_Players</th>\n",
       "      <th>URL</th>\n",
       "      <th>Date</th>\n",
       "      <th>Game_Name</th>\n",
       "    </tr>\n",
       "  </thead>\n",
       "  <tbody>\n",
       "  </tbody>\n",
       "</table>\n",
       "</div>"
      ],
      "text/plain": [
       "Empty DataFrame\n",
       "Columns: [Month_Year, Avg_players, Gain, Percent_Gain, Peak_Players, URL, Date, Game_Name]\n",
       "Index: []"
      ]
     },
     "execution_count": 260,
     "metadata": {},
     "output_type": "execute_result"
    }
   ],
   "source": [
    "steam = pd.read_csv('Valve_Player_Dataaaaaaaaaaa.csv')\n",
    "\n",
    "twitch=pd.read_csv(\"Twitch_game_data.csv\")        \n",
    "\n",
    "steam.head(0)\n",
    "#twitch = pd.read_csv('../input/evolution-of-top-games-on-twitch/Twitch_game_data.csv')"
   ]
  },
  {
   "cell_type": "code",
   "execution_count": 261,
   "id": "0c337888",
   "metadata": {
    "scrolled": false
   },
   "outputs": [
    {
     "data": {
      "text/html": [
       "<div>\n",
       "<style scoped>\n",
       "    .dataframe tbody tr th:only-of-type {\n",
       "        vertical-align: middle;\n",
       "    }\n",
       "\n",
       "    .dataframe tbody tr th {\n",
       "        vertical-align: top;\n",
       "    }\n",
       "\n",
       "    .dataframe thead th {\n",
       "        text-align: right;\n",
       "    }\n",
       "</style>\n",
       "<table border=\"1\" class=\"dataframe\">\n",
       "  <thead>\n",
       "    <tr style=\"text-align: right;\">\n",
       "      <th></th>\n",
       "      <th>Game_Name</th>\n",
       "    </tr>\n",
       "  </thead>\n",
       "  <tbody>\n",
       "    <tr>\n",
       "      <th>0</th>\n",
       "      <td>Counter Strike: Global Offensive</td>\n",
       "    </tr>\n",
       "    <tr>\n",
       "      <th>1</th>\n",
       "      <td>Counter Strike: Global Offensive</td>\n",
       "    </tr>\n",
       "    <tr>\n",
       "      <th>2</th>\n",
       "      <td>Counter Strike: Global Offensive</td>\n",
       "    </tr>\n",
       "    <tr>\n",
       "      <th>3</th>\n",
       "      <td>Counter Strike: Global Offensive</td>\n",
       "    </tr>\n",
       "    <tr>\n",
       "      <th>4</th>\n",
       "      <td>Counter Strike: Global Offensive</td>\n",
       "    </tr>\n",
       "    <tr>\n",
       "      <th>...</th>\n",
       "      <td>...</td>\n",
       "    </tr>\n",
       "    <tr>\n",
       "      <th>462</th>\n",
       "      <td>BattleFields 2042</td>\n",
       "    </tr>\n",
       "    <tr>\n",
       "      <th>463</th>\n",
       "      <td>BattleFields 2042</td>\n",
       "    </tr>\n",
       "    <tr>\n",
       "      <th>464</th>\n",
       "      <td>BattleFields 2042</td>\n",
       "    </tr>\n",
       "    <tr>\n",
       "      <th>465</th>\n",
       "      <td>BattleFields 2042</td>\n",
       "    </tr>\n",
       "    <tr>\n",
       "      <th>466</th>\n",
       "      <td>BattleFields 2042</td>\n",
       "    </tr>\n",
       "  </tbody>\n",
       "</table>\n",
       "<p>467 rows × 1 columns</p>\n",
       "</div>"
      ],
      "text/plain": [
       "                            Game_Name\n",
       "0    Counter Strike: Global Offensive\n",
       "1    Counter Strike: Global Offensive\n",
       "2    Counter Strike: Global Offensive\n",
       "3    Counter Strike: Global Offensive\n",
       "4    Counter Strike: Global Offensive\n",
       "..                                ...\n",
       "462                 BattleFields 2042\n",
       "463                 BattleFields 2042\n",
       "464                 BattleFields 2042\n",
       "465                 BattleFields 2042\n",
       "466                 BattleFields 2042\n",
       "\n",
       "[467 rows x 1 columns]"
      ]
     },
     "execution_count": 261,
     "metadata": {},
     "output_type": "execute_result"
    }
   ],
   "source": [
    "steam[['Game_Name']]"
   ]
  },
  {
   "cell_type": "code",
   "execution_count": 262,
   "id": "68ef50ad",
   "metadata": {},
   "outputs": [
    {
     "name": "stdout",
     "output_type": "stream",
     "text": [
      "\n",
      "Steam\tRows:467 X Columns:8\n",
      "\n",
      "Twitch\tRows:13800 X Columns:12\n",
      "\n"
     ]
    }
   ],
   "source": [
    "# Steam and Twitch files informations (shape)\n",
    "print(\"\\nSteam\\tRows:\"+str(len(steam))+\" X \"+\"Columns:\"+str(len(steam.columns))+\"\\n\")\n",
    "print(\"Twitch\\tRows:\"+str(len(twitch))+\" X \"+\"Columns:\"+str(len(twitch.columns))+\"\\n\")\n"
   ]
  },
  {
   "cell_type": "code",
   "execution_count": 263,
   "id": "ff614d53",
   "metadata": {},
   "outputs": [],
   "source": [
    "#I choose 5 games for predict : , Csgo, Battlefield, Apex, Fortress, Rainbow Six \n",
    "\n",
    "\n",
    "csgo = steam[steam['Game_Name'] == 'Counter Strike: Global Offensive']\n",
    "bf_s = steam[steam['Game_Name'] == 'BattleFields 2042']\n",
    "apx_s = steam[steam['Game_Name'] == \"Apex Legends\"]\n",
    "#cod_s = steam[steam['Game_Name'] == \"Call of Duty: Modern Warfare Remastered\"]\n",
    "tf2_s= steam[steam['Game_Name'] == \"Team Fortress 2\"]\n",
    "rss = steam[steam['Game_Name'] == \"Tom Clancy's Rainbow Six Seige\"]\n"
   ]
  },
  {
   "cell_type": "code",
   "execution_count": 264,
   "id": "c2f7861a",
   "metadata": {
    "scrolled": false
   },
   "outputs": [
    {
     "data": {
      "application/vnd.plotly.v1+json": {
       "config": {
        "plotlyServerURL": "https://plot.ly"
       },
       "data": [
        {
         "marker": {
          "color": "blue"
         },
         "showlegend": false,
         "type": "bar",
         "x": [
          "September 2021",
          "August 2021",
          "July 2021",
          "June 2021",
          "May 2021",
          "April 2021",
          "March 2021",
          "February 2021",
          "January 2021",
          "December 2020",
          "November 2020",
          "October 2020",
          "September 2020",
          "August 2020",
          "July 2020",
          "June 2020",
          "May 2020",
          "April 2020",
          "March 2020",
          "February 2020",
          "January 2020",
          "December 2019",
          "November 2019",
          "October 2019",
          "September 2019",
          "August 2019",
          "July 2019",
          "June 2019",
          "May 2019",
          "April 2019",
          "March 2019",
          "February 2019",
          "January 2019",
          "December 2018",
          "November 2018",
          "October 2018",
          "September 2018",
          "August 2018",
          "July 2018",
          "June 2018",
          "May 2018",
          "April 2018",
          "March 2018",
          "February 2018",
          "January 2018",
          "December 2017",
          "November 2017",
          "October 2017",
          "September 2017",
          "August 2017",
          "July 2017",
          "June 2017",
          "May 2017",
          "April 2017",
          "March 2017",
          "February 2017",
          "January 2017",
          "December 2016",
          "November 2016",
          "October 2016",
          "September 2016",
          "August 2016",
          "July 2016",
          "June 2016",
          "May 2016",
          "April 2016",
          "March 2016",
          "February 2016",
          "January 2016",
          "December 2015",
          "November 2015",
          "October 2015",
          "September 2015",
          "August 2015",
          "July 2015",
          "June 2015",
          "May 2015",
          "April 2015",
          "March 2015",
          "February 2015",
          "January 2015",
          "December 2014",
          "November 2014",
          "October 2014",
          "September 2014",
          "August 2014",
          "July 2014",
          "June 2014",
          "May 2014",
          "April 2014",
          "March 2014",
          "February 2014",
          "January 2014",
          "December 2013",
          "November 2013",
          "October 2013",
          "September 2013",
          "August 2013",
          "July 2013",
          "June 2013",
          "May 2013",
          "April 2013",
          "March 2013",
          "February 2013",
          "January 2013",
          "December 2012",
          "November 2012",
          "October 2012",
          "September 2012",
          "August 2012",
          "July 2012"
         ],
         "xaxis": "x",
         "y": [
          512350.92,
          512081.96,
          506067.36,
          549347.08,
          659888.89,
          723346.52,
          740927.82,
          741013.24,
          743209.66,
          717803.75,
          668754.58,
          613666.69,
          606850.32,
          639957.66,
          625900.81,
          671647.46,
          768795.25,
          857604.22,
          671033.29,
          543979.15,
          501196,
          456701.56,
          426080.81,
          408995.31,
          410925.6,
          415097.3,
          393782.83,
          389376.72,
          364417.31,
          351989.92,
          390240.16,
          371358.96,
          401366.87,
          395509.26,
          310085.43,
          325907.82,
          333163.99,
          283531.31,
          273307.26,
          266862.24,
          262170.88,
          289076.7,
          354270.33,
          382457.1,
          382030.53,
          340876.88,
          321131.4,
          341861.26,
          354402.09,
          374425.69,
          377589.04,
          374388.04,
          371829.34,
          392199.19,
          386908.72,
          402385.71,
          393109.53,
          342195.7,
          329045.26,
          333076.46,
          322525.89,
          347229.25,
          353777.56,
          334311.06,
          338738.39,
          375795.87,
          379426.95,
          376285.02,
          365371.09,
          377447.11,
          360925.88,
          362766.09,
          355905.33,
          357535.24,
          329532.38,
          344156.01,
          317286.29,
          291748.74,
          267996.31,
          239934.64,
          234070.68,
          183589.5,
          147329.07,
          133537.7,
          131034.68,
          133185.79,
          106138,
          84163.62,
          84925.02,
          78880.53,
          70143.33,
          59791.37,
          55627.35,
          46788.27,
          29890.52,
          27902.14,
          27678.91,
          25961.85,
          20492.52,
          18119.84,
          18710.34,
          16006,
          15959.89,
          17372.73,
          16164.22,
          14079.39,
          14134.1,
          10739.48,
          16000.75,
          15475.39,
          932.57
         ],
         "yaxis": "y"
        },
        {
         "marker": {
          "color": "lightsalmon"
         },
         "showlegend": false,
         "type": "bar",
         "x": [
          "September 2021",
          "October 2021",
          "November 2021",
          "December 2021",
          "January 2021",
          "February 2021"
         ],
         "xaxis": "x2",
         "y": [
          105397,
          57186,
          47883,
          19328,
          13574,
          8078
         ],
         "yaxis": "y2"
        },
        {
         "marker": {
          "color": "goldenrod"
         },
         "showlegend": false,
         "type": "bar",
         "x": [
          "September 2021",
          "August 2021",
          "July 2021",
          "June 2021",
          "May 2021",
          "April 2021",
          "March 2021",
          "February 2021",
          "January 2021",
          "December 2020",
          "November 2020",
          "October 2020",
          "September 2020",
          "August 2020",
          "July 2020",
          "June 2020",
          "May 2020",
          "April 2020",
          "March 2020",
          "February 2020",
          "January 2020",
          "December 2019",
          "November 2019",
          "October 2019",
          "September 2019",
          "August 2019",
          "July 2019",
          "June 2019",
          "May 2019",
          "April 2019",
          "March 2019",
          "February 2019",
          "January 2019",
          "December 2018",
          "November 2018",
          "October 2018",
          "September 2018",
          "August 2018",
          "July 2018",
          "June 2018",
          "May 2018",
          "April 2018",
          "March 2018",
          "February 2018",
          "January 2018",
          "December 2017",
          "November 2017",
          "October 2017",
          "September 2017",
          "August 2017",
          "July 2017",
          "June 2017",
          "May 2017",
          "April 2017",
          "March 2017",
          "February 2017",
          "January 2017",
          "December 2016",
          "November 2016",
          "October 2016",
          "September 2016",
          "August 2016",
          "July 2016",
          "June 2016",
          "May 2016",
          "April 2016",
          "March 2016",
          "February 2016",
          "January 2016",
          "December 2015"
         ],
         "xaxis": "x3",
         "y": [
          51139.69,
          49906.2,
          53474.02,
          54960.64,
          58274.07,
          74616.41,
          85157.21,
          72382.76,
          77717.42,
          70721.5,
          55307.46,
          62956.21,
          75543.34,
          68205.26,
          76279.2,
          70200.51,
          80099.3,
          108514.57,
          119877.88,
          97667.34,
          94185.78,
          78228.73,
          66499.28,
          65632.48,
          77922.76,
          73956.28,
          77411.07,
          78059.34,
          59172.09,
          61351.45,
          69588.02,
          72997.66,
          79175.76,
          70865.32,
          57902.93,
          62428.64,
          73676.87,
          73816.38,
          68241,
          66376.81,
          63092.81,
          64263.44,
          83112.29,
          68796.24,
          63474.82,
          59411.66,
          41483.67,
          31618.81,
          36448.87,
          33923.18,
          28378.64,
          24083.72,
          23804.07,
          24975.95,
          26079.63,
          30568.27,
          20706.7,
          17176.87,
          15355.49,
          10591.93,
          10411.69,
          13971.23,
          10854.23,
          9002.74,
          7069.7,
          7643.56,
          6125.46,
          9263.47,
          10244.29,
          7941.45
         ],
         "yaxis": "y3"
        },
        {
         "marker": {
          "color": "magenta"
         },
         "showlegend": false,
         "type": "bar",
         "x": [
          "September 2021",
          "August 2021",
          "July 2021",
          "June 2021",
          "May 2021",
          "April 2021",
          "March 2021",
          "February 2021",
          "January 2021",
          "December 2020",
          "November 2020"
         ],
         "xaxis": "x4",
         "y": [
          139647.96,
          169528.17,
          131151.07,
          136439.9,
          164238.01,
          124905.13,
          126121.06,
          120982.64,
          71766.74,
          64469.75,
          74957.26
         ],
         "yaxis": "y4"
        },
        {
         "marker": {
          "color": "yellow"
         },
         "showlegend": false,
         "type": "bar",
         "x": [
          "September 2021",
          "August 2021",
          "July 2021",
          "June 2021",
          "May 2021",
          "April 2021",
          "March 2021",
          "February 2021",
          "January 2021",
          "December 2020",
          "November 2020",
          "October 2020",
          "September 2020",
          "August 2020",
          "July 2020",
          "June 2020",
          "May 2020",
          "April 2020",
          "March 2020",
          "February 2020",
          "January 2020",
          "December 2019",
          "November 2019",
          "October 2019",
          "September 2019",
          "August 2019",
          "July 2019",
          "June 2019",
          "May 2019",
          "April 2019",
          "March 2019",
          "February 2019",
          "January 2019",
          "December 2018",
          "November 2018",
          "October 2018",
          "September 2018",
          "August 2018",
          "July 2018",
          "June 2018",
          "May 2018",
          "April 2018",
          "March 2018",
          "February 2018",
          "January 2018",
          "December 2017",
          "November 2017",
          "October 2017",
          "September 2017",
          "August 2017",
          "July 2017",
          "June 2017",
          "May 2017",
          "April 2017",
          "March 2017",
          "February 2017",
          "January 2017",
          "December 2016",
          "November 2016",
          "October 2016",
          "September 2016",
          "August 2016",
          "July 2016",
          "June 2016",
          "May 2016",
          "April 2016",
          "March 2016",
          "February 2016",
          "January 2016",
          "December 2015",
          "November 2015",
          "October 2015",
          "September 2015",
          "August 2015",
          "July 2015",
          "June 2015",
          "May 2015",
          "April 2015",
          "March 2015",
          "February 2015",
          "January 2015",
          "December 2014",
          "November 2014",
          "October 2014",
          "September 2014",
          "August 2014",
          "July 2014",
          "June 2014",
          "May 2014",
          "April 2014",
          "March 2014",
          "February 2014",
          "January 2014",
          "December 2013",
          "November 2013",
          "October 2013",
          "September 2013",
          "August 2013",
          "July 2013",
          "June 2013",
          "May 2013",
          "April 2013",
          "March 2013",
          "February 2013",
          "January 2013",
          "December 2012",
          "November 2012",
          "October 2012",
          "September 2012",
          "August 2012",
          "July 2012"
         ],
         "xaxis": "x5",
         "y": [
          81854.01,
          75015.97,
          85157.49,
          106222.95,
          89532.22,
          88187,
          88703.56,
          101230.91,
          83148.17,
          82423.51,
          70304.79,
          73594.08,
          68866.24,
          66943.58,
          69301.89,
          65169.91,
          66393.8,
          67187.12,
          67978.93,
          60109.05,
          59597.88,
          61695.9,
          50315.89,
          51993.93,
          48332.88,
          45544.88,
          49538.99,
          43002.54,
          39076.92,
          42505.05,
          45940.01,
          47707.59,
          50511.29,
          50592.4,
          53084.17,
          48766.22,
          41002.12,
          43632.35,
          46149.36,
          44207.43,
          38847.02,
          39180.46,
          36781.88,
          37715.11,
          53432.1,
          51816.11,
          52270.09,
          54963.29,
          50985.18,
          52992.48,
          51861.41,
          52408.06,
          50126.01,
          51733.52,
          49483.19,
          51787.36,
          52436.19,
          50140.76,
          46904.24,
          45910.06,
          48541.21,
          53742.49,
          54459.35,
          51362.73,
          49804.41,
          51434.75,
          52754.37,
          52864.72,
          52763.52,
          52972.94,
          52145.23,
          55256.59,
          55776.77,
          60484.79,
          60778.74,
          56344.56,
          55586.91,
          54533.01,
          54117.72,
          56469.57,
          58550.38,
          58391.58,
          56732.74,
          57976.98,
          55091.58,
          59228.78,
          56704.31,
          53342.72,
          47900.26,
          49671.2,
          49145.6,
          49817.43,
          50662.31,
          47901.53,
          44536.35,
          42808.16,
          43714.36,
          50324.72,
          48700.77,
          50739.88,
          44632.91,
          41942.51,
          43336.2,
          43210.75,
          44255.06,
          43623.98,
          42498.53,
          46978.7,
          50699.07,
          61561.37,
          45566.9
         ],
         "yaxis": "y5"
        }
       ],
       "layout": {
        "annotations": [
         {
          "font": {
           "size": 16
          },
          "showarrow": false,
          "text": "Counter Strike: Global Offensive",
          "x": 0.225,
          "xanchor": "center",
          "xref": "paper",
          "y": 1,
          "yanchor": "bottom",
          "yref": "paper"
         },
         {
          "font": {
           "size": 16
          },
          "showarrow": false,
          "text": "Battlefield V",
          "x": 0.775,
          "xanchor": "center",
          "xref": "paper",
          "y": 1,
          "yanchor": "bottom",
          "yref": "paper"
         },
         {
          "font": {
           "size": 16
          },
          "showarrow": false,
          "text": "Tom Clancy's Rainbow Six Siege",
          "x": 0.225,
          "xanchor": "center",
          "xref": "paper",
          "y": 0.6111111111111112,
          "yanchor": "bottom",
          "yref": "paper"
         },
         {
          "font": {
           "size": 16
          },
          "showarrow": false,
          "text": "Apex Legends",
          "x": 0.775,
          "xanchor": "center",
          "xref": "paper",
          "y": 0.6111111111111112,
          "yanchor": "bottom",
          "yref": "paper"
         },
         {
          "font": {
           "size": 16
          },
          "showarrow": false,
          "text": "Team Fortress 2",
          "x": 0.225,
          "xanchor": "center",
          "xref": "paper",
          "y": 0.22222222222222224,
          "yanchor": "bottom",
          "yref": "paper"
         }
        ],
        "barmode": "group",
        "height": 1500,
        "template": {
         "data": {
          "bar": [
           {
            "error_x": {
             "color": "#2a3f5f"
            },
            "error_y": {
             "color": "#2a3f5f"
            },
            "marker": {
             "line": {
              "color": "#E5ECF6",
              "width": 0.5
             },
             "pattern": {
              "fillmode": "overlay",
              "size": 10,
              "solidity": 0.2
             }
            },
            "type": "bar"
           }
          ],
          "barpolar": [
           {
            "marker": {
             "line": {
              "color": "#E5ECF6",
              "width": 0.5
             },
             "pattern": {
              "fillmode": "overlay",
              "size": 10,
              "solidity": 0.2
             }
            },
            "type": "barpolar"
           }
          ],
          "carpet": [
           {
            "aaxis": {
             "endlinecolor": "#2a3f5f",
             "gridcolor": "white",
             "linecolor": "white",
             "minorgridcolor": "white",
             "startlinecolor": "#2a3f5f"
            },
            "baxis": {
             "endlinecolor": "#2a3f5f",
             "gridcolor": "white",
             "linecolor": "white",
             "minorgridcolor": "white",
             "startlinecolor": "#2a3f5f"
            },
            "type": "carpet"
           }
          ],
          "choropleth": [
           {
            "colorbar": {
             "outlinewidth": 0,
             "ticks": ""
            },
            "type": "choropleth"
           }
          ],
          "contour": [
           {
            "colorbar": {
             "outlinewidth": 0,
             "ticks": ""
            },
            "colorscale": [
             [
              0,
              "#0d0887"
             ],
             [
              0.1111111111111111,
              "#46039f"
             ],
             [
              0.2222222222222222,
              "#7201a8"
             ],
             [
              0.3333333333333333,
              "#9c179e"
             ],
             [
              0.4444444444444444,
              "#bd3786"
             ],
             [
              0.5555555555555556,
              "#d8576b"
             ],
             [
              0.6666666666666666,
              "#ed7953"
             ],
             [
              0.7777777777777778,
              "#fb9f3a"
             ],
             [
              0.8888888888888888,
              "#fdca26"
             ],
             [
              1,
              "#f0f921"
             ]
            ],
            "type": "contour"
           }
          ],
          "contourcarpet": [
           {
            "colorbar": {
             "outlinewidth": 0,
             "ticks": ""
            },
            "type": "contourcarpet"
           }
          ],
          "heatmap": [
           {
            "colorbar": {
             "outlinewidth": 0,
             "ticks": ""
            },
            "colorscale": [
             [
              0,
              "#0d0887"
             ],
             [
              0.1111111111111111,
              "#46039f"
             ],
             [
              0.2222222222222222,
              "#7201a8"
             ],
             [
              0.3333333333333333,
              "#9c179e"
             ],
             [
              0.4444444444444444,
              "#bd3786"
             ],
             [
              0.5555555555555556,
              "#d8576b"
             ],
             [
              0.6666666666666666,
              "#ed7953"
             ],
             [
              0.7777777777777778,
              "#fb9f3a"
             ],
             [
              0.8888888888888888,
              "#fdca26"
             ],
             [
              1,
              "#f0f921"
             ]
            ],
            "type": "heatmap"
           }
          ],
          "heatmapgl": [
           {
            "colorbar": {
             "outlinewidth": 0,
             "ticks": ""
            },
            "colorscale": [
             [
              0,
              "#0d0887"
             ],
             [
              0.1111111111111111,
              "#46039f"
             ],
             [
              0.2222222222222222,
              "#7201a8"
             ],
             [
              0.3333333333333333,
              "#9c179e"
             ],
             [
              0.4444444444444444,
              "#bd3786"
             ],
             [
              0.5555555555555556,
              "#d8576b"
             ],
             [
              0.6666666666666666,
              "#ed7953"
             ],
             [
              0.7777777777777778,
              "#fb9f3a"
             ],
             [
              0.8888888888888888,
              "#fdca26"
             ],
             [
              1,
              "#f0f921"
             ]
            ],
            "type": "heatmapgl"
           }
          ],
          "histogram": [
           {
            "marker": {
             "pattern": {
              "fillmode": "overlay",
              "size": 10,
              "solidity": 0.2
             }
            },
            "type": "histogram"
           }
          ],
          "histogram2d": [
           {
            "colorbar": {
             "outlinewidth": 0,
             "ticks": ""
            },
            "colorscale": [
             [
              0,
              "#0d0887"
             ],
             [
              0.1111111111111111,
              "#46039f"
             ],
             [
              0.2222222222222222,
              "#7201a8"
             ],
             [
              0.3333333333333333,
              "#9c179e"
             ],
             [
              0.4444444444444444,
              "#bd3786"
             ],
             [
              0.5555555555555556,
              "#d8576b"
             ],
             [
              0.6666666666666666,
              "#ed7953"
             ],
             [
              0.7777777777777778,
              "#fb9f3a"
             ],
             [
              0.8888888888888888,
              "#fdca26"
             ],
             [
              1,
              "#f0f921"
             ]
            ],
            "type": "histogram2d"
           }
          ],
          "histogram2dcontour": [
           {
            "colorbar": {
             "outlinewidth": 0,
             "ticks": ""
            },
            "colorscale": [
             [
              0,
              "#0d0887"
             ],
             [
              0.1111111111111111,
              "#46039f"
             ],
             [
              0.2222222222222222,
              "#7201a8"
             ],
             [
              0.3333333333333333,
              "#9c179e"
             ],
             [
              0.4444444444444444,
              "#bd3786"
             ],
             [
              0.5555555555555556,
              "#d8576b"
             ],
             [
              0.6666666666666666,
              "#ed7953"
             ],
             [
              0.7777777777777778,
              "#fb9f3a"
             ],
             [
              0.8888888888888888,
              "#fdca26"
             ],
             [
              1,
              "#f0f921"
             ]
            ],
            "type": "histogram2dcontour"
           }
          ],
          "mesh3d": [
           {
            "colorbar": {
             "outlinewidth": 0,
             "ticks": ""
            },
            "type": "mesh3d"
           }
          ],
          "parcoords": [
           {
            "line": {
             "colorbar": {
              "outlinewidth": 0,
              "ticks": ""
             }
            },
            "type": "parcoords"
           }
          ],
          "pie": [
           {
            "automargin": true,
            "type": "pie"
           }
          ],
          "scatter": [
           {
            "marker": {
             "colorbar": {
              "outlinewidth": 0,
              "ticks": ""
             }
            },
            "type": "scatter"
           }
          ],
          "scatter3d": [
           {
            "line": {
             "colorbar": {
              "outlinewidth": 0,
              "ticks": ""
             }
            },
            "marker": {
             "colorbar": {
              "outlinewidth": 0,
              "ticks": ""
             }
            },
            "type": "scatter3d"
           }
          ],
          "scattercarpet": [
           {
            "marker": {
             "colorbar": {
              "outlinewidth": 0,
              "ticks": ""
             }
            },
            "type": "scattercarpet"
           }
          ],
          "scattergeo": [
           {
            "marker": {
             "colorbar": {
              "outlinewidth": 0,
              "ticks": ""
             }
            },
            "type": "scattergeo"
           }
          ],
          "scattergl": [
           {
            "marker": {
             "colorbar": {
              "outlinewidth": 0,
              "ticks": ""
             }
            },
            "type": "scattergl"
           }
          ],
          "scattermapbox": [
           {
            "marker": {
             "colorbar": {
              "outlinewidth": 0,
              "ticks": ""
             }
            },
            "type": "scattermapbox"
           }
          ],
          "scatterpolar": [
           {
            "marker": {
             "colorbar": {
              "outlinewidth": 0,
              "ticks": ""
             }
            },
            "type": "scatterpolar"
           }
          ],
          "scatterpolargl": [
           {
            "marker": {
             "colorbar": {
              "outlinewidth": 0,
              "ticks": ""
             }
            },
            "type": "scatterpolargl"
           }
          ],
          "scatterternary": [
           {
            "marker": {
             "colorbar": {
              "outlinewidth": 0,
              "ticks": ""
             }
            },
            "type": "scatterternary"
           }
          ],
          "surface": [
           {
            "colorbar": {
             "outlinewidth": 0,
             "ticks": ""
            },
            "colorscale": [
             [
              0,
              "#0d0887"
             ],
             [
              0.1111111111111111,
              "#46039f"
             ],
             [
              0.2222222222222222,
              "#7201a8"
             ],
             [
              0.3333333333333333,
              "#9c179e"
             ],
             [
              0.4444444444444444,
              "#bd3786"
             ],
             [
              0.5555555555555556,
              "#d8576b"
             ],
             [
              0.6666666666666666,
              "#ed7953"
             ],
             [
              0.7777777777777778,
              "#fb9f3a"
             ],
             [
              0.8888888888888888,
              "#fdca26"
             ],
             [
              1,
              "#f0f921"
             ]
            ],
            "type": "surface"
           }
          ],
          "table": [
           {
            "cells": {
             "fill": {
              "color": "#EBF0F8"
             },
             "line": {
              "color": "white"
             }
            },
            "header": {
             "fill": {
              "color": "#C8D4E3"
             },
             "line": {
              "color": "white"
             }
            },
            "type": "table"
           }
          ]
         },
         "layout": {
          "annotationdefaults": {
           "arrowcolor": "#2a3f5f",
           "arrowhead": 0,
           "arrowwidth": 1
          },
          "autotypenumbers": "strict",
          "coloraxis": {
           "colorbar": {
            "outlinewidth": 0,
            "ticks": ""
           }
          },
          "colorscale": {
           "diverging": [
            [
             0,
             "#8e0152"
            ],
            [
             0.1,
             "#c51b7d"
            ],
            [
             0.2,
             "#de77ae"
            ],
            [
             0.3,
             "#f1b6da"
            ],
            [
             0.4,
             "#fde0ef"
            ],
            [
             0.5,
             "#f7f7f7"
            ],
            [
             0.6,
             "#e6f5d0"
            ],
            [
             0.7,
             "#b8e186"
            ],
            [
             0.8,
             "#7fbc41"
            ],
            [
             0.9,
             "#4d9221"
            ],
            [
             1,
             "#276419"
            ]
           ],
           "sequential": [
            [
             0,
             "#0d0887"
            ],
            [
             0.1111111111111111,
             "#46039f"
            ],
            [
             0.2222222222222222,
             "#7201a8"
            ],
            [
             0.3333333333333333,
             "#9c179e"
            ],
            [
             0.4444444444444444,
             "#bd3786"
            ],
            [
             0.5555555555555556,
             "#d8576b"
            ],
            [
             0.6666666666666666,
             "#ed7953"
            ],
            [
             0.7777777777777778,
             "#fb9f3a"
            ],
            [
             0.8888888888888888,
             "#fdca26"
            ],
            [
             1,
             "#f0f921"
            ]
           ],
           "sequentialminus": [
            [
             0,
             "#0d0887"
            ],
            [
             0.1111111111111111,
             "#46039f"
            ],
            [
             0.2222222222222222,
             "#7201a8"
            ],
            [
             0.3333333333333333,
             "#9c179e"
            ],
            [
             0.4444444444444444,
             "#bd3786"
            ],
            [
             0.5555555555555556,
             "#d8576b"
            ],
            [
             0.6666666666666666,
             "#ed7953"
            ],
            [
             0.7777777777777778,
             "#fb9f3a"
            ],
            [
             0.8888888888888888,
             "#fdca26"
            ],
            [
             1,
             "#f0f921"
            ]
           ]
          },
          "colorway": [
           "#636efa",
           "#EF553B",
           "#00cc96",
           "#ab63fa",
           "#FFA15A",
           "#19d3f3",
           "#FF6692",
           "#B6E880",
           "#FF97FF",
           "#FECB52"
          ],
          "font": {
           "color": "#2a3f5f"
          },
          "geo": {
           "bgcolor": "white",
           "lakecolor": "white",
           "landcolor": "#E5ECF6",
           "showlakes": true,
           "showland": true,
           "subunitcolor": "white"
          },
          "hoverlabel": {
           "align": "left"
          },
          "hovermode": "closest",
          "mapbox": {
           "style": "light"
          },
          "paper_bgcolor": "white",
          "plot_bgcolor": "#E5ECF6",
          "polar": {
           "angularaxis": {
            "gridcolor": "white",
            "linecolor": "white",
            "ticks": ""
           },
           "bgcolor": "#E5ECF6",
           "radialaxis": {
            "gridcolor": "white",
            "linecolor": "white",
            "ticks": ""
           }
          },
          "scene": {
           "xaxis": {
            "backgroundcolor": "#E5ECF6",
            "gridcolor": "white",
            "gridwidth": 2,
            "linecolor": "white",
            "showbackground": true,
            "ticks": "",
            "zerolinecolor": "white"
           },
           "yaxis": {
            "backgroundcolor": "#E5ECF6",
            "gridcolor": "white",
            "gridwidth": 2,
            "linecolor": "white",
            "showbackground": true,
            "ticks": "",
            "zerolinecolor": "white"
           },
           "zaxis": {
            "backgroundcolor": "#E5ECF6",
            "gridcolor": "white",
            "gridwidth": 2,
            "linecolor": "white",
            "showbackground": true,
            "ticks": "",
            "zerolinecolor": "white"
           }
          },
          "shapedefaults": {
           "line": {
            "color": "#2a3f5f"
           }
          },
          "ternary": {
           "aaxis": {
            "gridcolor": "white",
            "linecolor": "white",
            "ticks": ""
           },
           "baxis": {
            "gridcolor": "white",
            "linecolor": "white",
            "ticks": ""
           },
           "bgcolor": "#E5ECF6",
           "caxis": {
            "gridcolor": "white",
            "linecolor": "white",
            "ticks": ""
           }
          },
          "title": {
           "x": 0.05
          },
          "xaxis": {
           "automargin": true,
           "gridcolor": "white",
           "linecolor": "white",
           "ticks": "",
           "title": {
            "standoff": 15
           },
           "zerolinecolor": "white",
           "zerolinewidth": 2
          },
          "yaxis": {
           "automargin": true,
           "gridcolor": "white",
           "linecolor": "white",
           "ticks": "",
           "title": {
            "standoff": 15
           },
           "zerolinecolor": "white",
           "zerolinewidth": 2
          }
         }
        },
        "title": {
         "text": "Average players on Steam"
        },
        "xaxis": {
         "anchor": "y",
         "domain": [
          0,
          0.45
         ]
        },
        "xaxis2": {
         "anchor": "y2",
         "domain": [
          0.55,
          1
         ]
        },
        "xaxis3": {
         "anchor": "y3",
         "domain": [
          0,
          0.45
         ]
        },
        "xaxis4": {
         "anchor": "y4",
         "domain": [
          0.55,
          1
         ]
        },
        "xaxis5": {
         "anchor": "y5",
         "domain": [
          0,
          0.45
         ]
        },
        "xaxis6": {
         "anchor": "y6",
         "domain": [
          0.55,
          1
         ]
        },
        "yaxis": {
         "anchor": "x",
         "domain": [
          0.7777777777777778,
          1
         ]
        },
        "yaxis2": {
         "anchor": "x2",
         "domain": [
          0.7777777777777778,
          1
         ]
        },
        "yaxis3": {
         "anchor": "x3",
         "domain": [
          0.3888888888888889,
          0.6111111111111112
         ]
        },
        "yaxis4": {
         "anchor": "x4",
         "domain": [
          0.3888888888888889,
          0.6111111111111112
         ]
        },
        "yaxis5": {
         "anchor": "x5",
         "domain": [
          0,
          0.22222222222222224
         ]
        },
        "yaxis6": {
         "anchor": "x6",
         "domain": [
          0,
          0.22222222222222224
         ]
        }
       }
      },
      "text/html": [
       "<div>                            <div id=\"369e15d1-76a9-4cdb-aa86-3918e9d61dcb\" class=\"plotly-graph-div\" style=\"height:1500px; width:100%;\"></div>            <script type=\"text/javascript\">                require([\"plotly\"], function(Plotly) {                    window.PLOTLYENV=window.PLOTLYENV || {};                                    if (document.getElementById(\"369e15d1-76a9-4cdb-aa86-3918e9d61dcb\")) {                    Plotly.newPlot(                        \"369e15d1-76a9-4cdb-aa86-3918e9d61dcb\",                        [{\"marker\":{\"color\":\"blue\"},\"showlegend\":false,\"x\":[\"September 2021\",\"August 2021\",\"July 2021\",\"June 2021\",\"May 2021\",\"April 2021\",\"March 2021\",\"February 2021\",\"January 2021\",\"December 2020\",\"November 2020\",\"October 2020\",\"September 2020\",\"August 2020\",\"July 2020\",\"June 2020\",\"May 2020\",\"April 2020\",\"March 2020\",\"February 2020\",\"January 2020\",\"December 2019\",\"November 2019\",\"October 2019\",\"September 2019\",\"August 2019\",\"July 2019\",\"June 2019\",\"May 2019\",\"April 2019\",\"March 2019\",\"February 2019\",\"January 2019\",\"December 2018\",\"November 2018\",\"October 2018\",\"September 2018\",\"August 2018\",\"July 2018\",\"June 2018\",\"May 2018\",\"April 2018\",\"March 2018\",\"February 2018\",\"January 2018\",\"December 2017\",\"November 2017\",\"October 2017\",\"September 2017\",\"August 2017\",\"July 2017\",\"June 2017\",\"May 2017\",\"April 2017\",\"March 2017\",\"February 2017\",\"January 2017\",\"December 2016\",\"November 2016\",\"October 2016\",\"September 2016\",\"August 2016\",\"July 2016\",\"June 2016\",\"May 2016\",\"April 2016\",\"March 2016\",\"February 2016\",\"January 2016\",\"December 2015\",\"November 2015\",\"October 2015\",\"September 2015\",\"August 2015\",\"July 2015\",\"June 2015\",\"May 2015\",\"April 2015\",\"March 2015\",\"February 2015\",\"January 2015\",\"December 2014\",\"November 2014\",\"October 2014\",\"September 2014\",\"August 2014\",\"July 2014\",\"June 2014\",\"May 2014\",\"April 2014\",\"March 2014\",\"February 2014\",\"January 2014\",\"December 2013\",\"November 2013\",\"October 2013\",\"September 2013\",\"August 2013\",\"July 2013\",\"June 2013\",\"May 2013\",\"April 2013\",\"March 2013\",\"February 2013\",\"January 2013\",\"December 2012\",\"November 2012\",\"October 2012\",\"September 2012\",\"August 2012\",\"July 2012\"],\"y\":[512350.92,512081.96,506067.36,549347.08,659888.89,723346.52,740927.82,741013.24,743209.66,717803.75,668754.58,613666.69,606850.32,639957.66,625900.81,671647.46,768795.25,857604.22,671033.29,543979.15,501196.0,456701.56,426080.81,408995.31,410925.6,415097.3,393782.83,389376.72,364417.31,351989.92,390240.16,371358.96,401366.87,395509.26,310085.43,325907.82,333163.99,283531.31,273307.26,266862.24,262170.88,289076.7,354270.33,382457.1,382030.53,340876.88,321131.4,341861.26,354402.09,374425.69,377589.04,374388.04,371829.34,392199.19,386908.72,402385.71,393109.53,342195.7,329045.26,333076.46,322525.89,347229.25,353777.56,334311.06,338738.39,375795.87,379426.95,376285.02,365371.09,377447.11,360925.88,362766.09,355905.33,357535.24,329532.38,344156.01,317286.29,291748.74,267996.31,239934.64,234070.68,183589.5,147329.07,133537.7,131034.68,133185.79,106138.0,84163.62,84925.02,78880.53,70143.33,59791.37,55627.35,46788.27,29890.52,27902.14,27678.91,25961.85,20492.52,18119.84,18710.34,16006.0,15959.89,17372.73,16164.22,14079.39,14134.1,10739.48,16000.75,15475.39,932.57],\"type\":\"bar\",\"xaxis\":\"x\",\"yaxis\":\"y\"},{\"marker\":{\"color\":\"lightsalmon\"},\"showlegend\":false,\"x\":[\"September 2021\",\"October 2021\",\"November 2021\",\"December 2021\",\"January 2021\",\"February 2021\"],\"y\":[105397.0,57186.0,47883.0,19328.0,13574.0,8078.0],\"type\":\"bar\",\"xaxis\":\"x2\",\"yaxis\":\"y2\"},{\"marker\":{\"color\":\"goldenrod\"},\"showlegend\":false,\"x\":[\"September 2021\",\"August 2021\",\"July 2021\",\"June 2021\",\"May 2021\",\"April 2021\",\"March 2021\",\"February 2021\",\"January 2021\",\"December 2020\",\"November 2020\",\"October 2020\",\"September 2020\",\"August 2020\",\"July 2020\",\"June 2020\",\"May 2020\",\"April 2020\",\"March 2020\",\"February 2020\",\"January 2020\",\"December 2019\",\"November 2019\",\"October 2019\",\"September 2019\",\"August 2019\",\"July 2019\",\"June 2019\",\"May 2019\",\"April 2019\",\"March 2019\",\"February 2019\",\"January 2019\",\"December 2018\",\"November 2018\",\"October 2018\",\"September 2018\",\"August 2018\",\"July 2018\",\"June 2018\",\"May 2018\",\"April 2018\",\"March 2018\",\"February 2018\",\"January 2018\",\"December 2017\",\"November 2017\",\"October 2017\",\"September 2017\",\"August 2017\",\"July 2017\",\"June 2017\",\"May 2017\",\"April 2017\",\"March 2017\",\"February 2017\",\"January 2017\",\"December 2016\",\"November 2016\",\"October 2016\",\"September 2016\",\"August 2016\",\"July 2016\",\"June 2016\",\"May 2016\",\"April 2016\",\"March 2016\",\"February 2016\",\"January 2016\",\"December 2015\"],\"y\":[51139.69,49906.2,53474.02,54960.64,58274.07,74616.41,85157.21,72382.76,77717.42,70721.5,55307.46,62956.21,75543.34,68205.26,76279.2,70200.51,80099.3,108514.57,119877.88,97667.34,94185.78,78228.73,66499.28,65632.48,77922.76,73956.28,77411.07,78059.34,59172.09,61351.45,69588.02,72997.66,79175.76,70865.32,57902.93,62428.64,73676.87,73816.38,68241.0,66376.81,63092.81,64263.44,83112.29,68796.24,63474.82,59411.66,41483.67,31618.81,36448.87,33923.18,28378.64,24083.72,23804.07,24975.95,26079.63,30568.27,20706.7,17176.87,15355.49,10591.93,10411.69,13971.23,10854.23,9002.74,7069.7,7643.56,6125.46,9263.47,10244.29,7941.45],\"type\":\"bar\",\"xaxis\":\"x3\",\"yaxis\":\"y3\"},{\"marker\":{\"color\":\"magenta\"},\"showlegend\":false,\"x\":[\"September 2021\",\"August 2021\",\"July 2021\",\"June 2021\",\"May 2021\",\"April 2021\",\"March 2021\",\"February 2021\",\"January 2021\",\"December 2020\",\"November 2020\"],\"y\":[139647.96,169528.17,131151.07,136439.9,164238.01,124905.13,126121.06,120982.64,71766.74,64469.75,74957.26],\"type\":\"bar\",\"xaxis\":\"x4\",\"yaxis\":\"y4\"},{\"marker\":{\"color\":\"yellow\"},\"showlegend\":false,\"x\":[\"September 2021\",\"August 2021\",\"July 2021\",\"June 2021\",\"May 2021\",\"April 2021\",\"March 2021\",\"February 2021\",\"January 2021\",\"December 2020\",\"November 2020\",\"October 2020\",\"September 2020\",\"August 2020\",\"July 2020\",\"June 2020\",\"May 2020\",\"April 2020\",\"March 2020\",\"February 2020\",\"January 2020\",\"December 2019\",\"November 2019\",\"October 2019\",\"September 2019\",\"August 2019\",\"July 2019\",\"June 2019\",\"May 2019\",\"April 2019\",\"March 2019\",\"February 2019\",\"January 2019\",\"December 2018\",\"November 2018\",\"October 2018\",\"September 2018\",\"August 2018\",\"July 2018\",\"June 2018\",\"May 2018\",\"April 2018\",\"March 2018\",\"February 2018\",\"January 2018\",\"December 2017\",\"November 2017\",\"October 2017\",\"September 2017\",\"August 2017\",\"July 2017\",\"June 2017\",\"May 2017\",\"April 2017\",\"March 2017\",\"February 2017\",\"January 2017\",\"December 2016\",\"November 2016\",\"October 2016\",\"September 2016\",\"August 2016\",\"July 2016\",\"June 2016\",\"May 2016\",\"April 2016\",\"March 2016\",\"February 2016\",\"January 2016\",\"December 2015\",\"November 2015\",\"October 2015\",\"September 2015\",\"August 2015\",\"July 2015\",\"June 2015\",\"May 2015\",\"April 2015\",\"March 2015\",\"February 2015\",\"January 2015\",\"December 2014\",\"November 2014\",\"October 2014\",\"September 2014\",\"August 2014\",\"July 2014\",\"June 2014\",\"May 2014\",\"April 2014\",\"March 2014\",\"February 2014\",\"January 2014\",\"December 2013\",\"November 2013\",\"October 2013\",\"September 2013\",\"August 2013\",\"July 2013\",\"June 2013\",\"May 2013\",\"April 2013\",\"March 2013\",\"February 2013\",\"January 2013\",\"December 2012\",\"November 2012\",\"October 2012\",\"September 2012\",\"August 2012\",\"July 2012\"],\"y\":[81854.01,75015.97,85157.49,106222.95,89532.22,88187.0,88703.56,101230.91,83148.17,82423.51,70304.79,73594.08,68866.24,66943.58,69301.89,65169.91,66393.8,67187.12,67978.93,60109.05,59597.88,61695.9,50315.89,51993.93,48332.88,45544.88,49538.99,43002.54,39076.92,42505.05,45940.01,47707.59,50511.29,50592.4,53084.17,48766.22,41002.12,43632.35,46149.36,44207.43,38847.02,39180.46,36781.88,37715.11,53432.1,51816.11,52270.09,54963.29,50985.18,52992.48,51861.41,52408.06,50126.01,51733.52,49483.19,51787.36,52436.19,50140.76,46904.24,45910.06,48541.21,53742.49,54459.35,51362.73,49804.41,51434.75,52754.37,52864.72,52763.52,52972.94,52145.23,55256.59,55776.77,60484.79,60778.74,56344.56,55586.91,54533.01,54117.72,56469.57,58550.38,58391.58,56732.74,57976.98,55091.58,59228.78,56704.31,53342.72,47900.26,49671.2,49145.6,49817.43,50662.31,47901.53,44536.35,42808.16,43714.36,50324.72,48700.77,50739.88,44632.91,41942.51,43336.2,43210.75,44255.06,43623.98,42498.53,46978.7,50699.07,61561.37,45566.9],\"type\":\"bar\",\"xaxis\":\"x5\",\"yaxis\":\"y5\"}],                        {\"template\":{\"data\":{\"bar\":[{\"error_x\":{\"color\":\"#2a3f5f\"},\"error_y\":{\"color\":\"#2a3f5f\"},\"marker\":{\"line\":{\"color\":\"#E5ECF6\",\"width\":0.5},\"pattern\":{\"fillmode\":\"overlay\",\"size\":10,\"solidity\":0.2}},\"type\":\"bar\"}],\"barpolar\":[{\"marker\":{\"line\":{\"color\":\"#E5ECF6\",\"width\":0.5},\"pattern\":{\"fillmode\":\"overlay\",\"size\":10,\"solidity\":0.2}},\"type\":\"barpolar\"}],\"carpet\":[{\"aaxis\":{\"endlinecolor\":\"#2a3f5f\",\"gridcolor\":\"white\",\"linecolor\":\"white\",\"minorgridcolor\":\"white\",\"startlinecolor\":\"#2a3f5f\"},\"baxis\":{\"endlinecolor\":\"#2a3f5f\",\"gridcolor\":\"white\",\"linecolor\":\"white\",\"minorgridcolor\":\"white\",\"startlinecolor\":\"#2a3f5f\"},\"type\":\"carpet\"}],\"choropleth\":[{\"colorbar\":{\"outlinewidth\":0,\"ticks\":\"\"},\"type\":\"choropleth\"}],\"contour\":[{\"colorbar\":{\"outlinewidth\":0,\"ticks\":\"\"},\"colorscale\":[[0.0,\"#0d0887\"],[0.1111111111111111,\"#46039f\"],[0.2222222222222222,\"#7201a8\"],[0.3333333333333333,\"#9c179e\"],[0.4444444444444444,\"#bd3786\"],[0.5555555555555556,\"#d8576b\"],[0.6666666666666666,\"#ed7953\"],[0.7777777777777778,\"#fb9f3a\"],[0.8888888888888888,\"#fdca26\"],[1.0,\"#f0f921\"]],\"type\":\"contour\"}],\"contourcarpet\":[{\"colorbar\":{\"outlinewidth\":0,\"ticks\":\"\"},\"type\":\"contourcarpet\"}],\"heatmap\":[{\"colorbar\":{\"outlinewidth\":0,\"ticks\":\"\"},\"colorscale\":[[0.0,\"#0d0887\"],[0.1111111111111111,\"#46039f\"],[0.2222222222222222,\"#7201a8\"],[0.3333333333333333,\"#9c179e\"],[0.4444444444444444,\"#bd3786\"],[0.5555555555555556,\"#d8576b\"],[0.6666666666666666,\"#ed7953\"],[0.7777777777777778,\"#fb9f3a\"],[0.8888888888888888,\"#fdca26\"],[1.0,\"#f0f921\"]],\"type\":\"heatmap\"}],\"heatmapgl\":[{\"colorbar\":{\"outlinewidth\":0,\"ticks\":\"\"},\"colorscale\":[[0.0,\"#0d0887\"],[0.1111111111111111,\"#46039f\"],[0.2222222222222222,\"#7201a8\"],[0.3333333333333333,\"#9c179e\"],[0.4444444444444444,\"#bd3786\"],[0.5555555555555556,\"#d8576b\"],[0.6666666666666666,\"#ed7953\"],[0.7777777777777778,\"#fb9f3a\"],[0.8888888888888888,\"#fdca26\"],[1.0,\"#f0f921\"]],\"type\":\"heatmapgl\"}],\"histogram\":[{\"marker\":{\"pattern\":{\"fillmode\":\"overlay\",\"size\":10,\"solidity\":0.2}},\"type\":\"histogram\"}],\"histogram2d\":[{\"colorbar\":{\"outlinewidth\":0,\"ticks\":\"\"},\"colorscale\":[[0.0,\"#0d0887\"],[0.1111111111111111,\"#46039f\"],[0.2222222222222222,\"#7201a8\"],[0.3333333333333333,\"#9c179e\"],[0.4444444444444444,\"#bd3786\"],[0.5555555555555556,\"#d8576b\"],[0.6666666666666666,\"#ed7953\"],[0.7777777777777778,\"#fb9f3a\"],[0.8888888888888888,\"#fdca26\"],[1.0,\"#f0f921\"]],\"type\":\"histogram2d\"}],\"histogram2dcontour\":[{\"colorbar\":{\"outlinewidth\":0,\"ticks\":\"\"},\"colorscale\":[[0.0,\"#0d0887\"],[0.1111111111111111,\"#46039f\"],[0.2222222222222222,\"#7201a8\"],[0.3333333333333333,\"#9c179e\"],[0.4444444444444444,\"#bd3786\"],[0.5555555555555556,\"#d8576b\"],[0.6666666666666666,\"#ed7953\"],[0.7777777777777778,\"#fb9f3a\"],[0.8888888888888888,\"#fdca26\"],[1.0,\"#f0f921\"]],\"type\":\"histogram2dcontour\"}],\"mesh3d\":[{\"colorbar\":{\"outlinewidth\":0,\"ticks\":\"\"},\"type\":\"mesh3d\"}],\"parcoords\":[{\"line\":{\"colorbar\":{\"outlinewidth\":0,\"ticks\":\"\"}},\"type\":\"parcoords\"}],\"pie\":[{\"automargin\":true,\"type\":\"pie\"}],\"scatter\":[{\"marker\":{\"colorbar\":{\"outlinewidth\":0,\"ticks\":\"\"}},\"type\":\"scatter\"}],\"scatter3d\":[{\"line\":{\"colorbar\":{\"outlinewidth\":0,\"ticks\":\"\"}},\"marker\":{\"colorbar\":{\"outlinewidth\":0,\"ticks\":\"\"}},\"type\":\"scatter3d\"}],\"scattercarpet\":[{\"marker\":{\"colorbar\":{\"outlinewidth\":0,\"ticks\":\"\"}},\"type\":\"scattercarpet\"}],\"scattergeo\":[{\"marker\":{\"colorbar\":{\"outlinewidth\":0,\"ticks\":\"\"}},\"type\":\"scattergeo\"}],\"scattergl\":[{\"marker\":{\"colorbar\":{\"outlinewidth\":0,\"ticks\":\"\"}},\"type\":\"scattergl\"}],\"scattermapbox\":[{\"marker\":{\"colorbar\":{\"outlinewidth\":0,\"ticks\":\"\"}},\"type\":\"scattermapbox\"}],\"scatterpolar\":[{\"marker\":{\"colorbar\":{\"outlinewidth\":0,\"ticks\":\"\"}},\"type\":\"scatterpolar\"}],\"scatterpolargl\":[{\"marker\":{\"colorbar\":{\"outlinewidth\":0,\"ticks\":\"\"}},\"type\":\"scatterpolargl\"}],\"scatterternary\":[{\"marker\":{\"colorbar\":{\"outlinewidth\":0,\"ticks\":\"\"}},\"type\":\"scatterternary\"}],\"surface\":[{\"colorbar\":{\"outlinewidth\":0,\"ticks\":\"\"},\"colorscale\":[[0.0,\"#0d0887\"],[0.1111111111111111,\"#46039f\"],[0.2222222222222222,\"#7201a8\"],[0.3333333333333333,\"#9c179e\"],[0.4444444444444444,\"#bd3786\"],[0.5555555555555556,\"#d8576b\"],[0.6666666666666666,\"#ed7953\"],[0.7777777777777778,\"#fb9f3a\"],[0.8888888888888888,\"#fdca26\"],[1.0,\"#f0f921\"]],\"type\":\"surface\"}],\"table\":[{\"cells\":{\"fill\":{\"color\":\"#EBF0F8\"},\"line\":{\"color\":\"white\"}},\"header\":{\"fill\":{\"color\":\"#C8D4E3\"},\"line\":{\"color\":\"white\"}},\"type\":\"table\"}]},\"layout\":{\"annotationdefaults\":{\"arrowcolor\":\"#2a3f5f\",\"arrowhead\":0,\"arrowwidth\":1},\"autotypenumbers\":\"strict\",\"coloraxis\":{\"colorbar\":{\"outlinewidth\":0,\"ticks\":\"\"}},\"colorscale\":{\"diverging\":[[0,\"#8e0152\"],[0.1,\"#c51b7d\"],[0.2,\"#de77ae\"],[0.3,\"#f1b6da\"],[0.4,\"#fde0ef\"],[0.5,\"#f7f7f7\"],[0.6,\"#e6f5d0\"],[0.7,\"#b8e186\"],[0.8,\"#7fbc41\"],[0.9,\"#4d9221\"],[1,\"#276419\"]],\"sequential\":[[0.0,\"#0d0887\"],[0.1111111111111111,\"#46039f\"],[0.2222222222222222,\"#7201a8\"],[0.3333333333333333,\"#9c179e\"],[0.4444444444444444,\"#bd3786\"],[0.5555555555555556,\"#d8576b\"],[0.6666666666666666,\"#ed7953\"],[0.7777777777777778,\"#fb9f3a\"],[0.8888888888888888,\"#fdca26\"],[1.0,\"#f0f921\"]],\"sequentialminus\":[[0.0,\"#0d0887\"],[0.1111111111111111,\"#46039f\"],[0.2222222222222222,\"#7201a8\"],[0.3333333333333333,\"#9c179e\"],[0.4444444444444444,\"#bd3786\"],[0.5555555555555556,\"#d8576b\"],[0.6666666666666666,\"#ed7953\"],[0.7777777777777778,\"#fb9f3a\"],[0.8888888888888888,\"#fdca26\"],[1.0,\"#f0f921\"]]},\"colorway\":[\"#636efa\",\"#EF553B\",\"#00cc96\",\"#ab63fa\",\"#FFA15A\",\"#19d3f3\",\"#FF6692\",\"#B6E880\",\"#FF97FF\",\"#FECB52\"],\"font\":{\"color\":\"#2a3f5f\"},\"geo\":{\"bgcolor\":\"white\",\"lakecolor\":\"white\",\"landcolor\":\"#E5ECF6\",\"showlakes\":true,\"showland\":true,\"subunitcolor\":\"white\"},\"hoverlabel\":{\"align\":\"left\"},\"hovermode\":\"closest\",\"mapbox\":{\"style\":\"light\"},\"paper_bgcolor\":\"white\",\"plot_bgcolor\":\"#E5ECF6\",\"polar\":{\"angularaxis\":{\"gridcolor\":\"white\",\"linecolor\":\"white\",\"ticks\":\"\"},\"bgcolor\":\"#E5ECF6\",\"radialaxis\":{\"gridcolor\":\"white\",\"linecolor\":\"white\",\"ticks\":\"\"}},\"scene\":{\"xaxis\":{\"backgroundcolor\":\"#E5ECF6\",\"gridcolor\":\"white\",\"gridwidth\":2,\"linecolor\":\"white\",\"showbackground\":true,\"ticks\":\"\",\"zerolinecolor\":\"white\"},\"yaxis\":{\"backgroundcolor\":\"#E5ECF6\",\"gridcolor\":\"white\",\"gridwidth\":2,\"linecolor\":\"white\",\"showbackground\":true,\"ticks\":\"\",\"zerolinecolor\":\"white\"},\"zaxis\":{\"backgroundcolor\":\"#E5ECF6\",\"gridcolor\":\"white\",\"gridwidth\":2,\"linecolor\":\"white\",\"showbackground\":true,\"ticks\":\"\",\"zerolinecolor\":\"white\"}},\"shapedefaults\":{\"line\":{\"color\":\"#2a3f5f\"}},\"ternary\":{\"aaxis\":{\"gridcolor\":\"white\",\"linecolor\":\"white\",\"ticks\":\"\"},\"baxis\":{\"gridcolor\":\"white\",\"linecolor\":\"white\",\"ticks\":\"\"},\"bgcolor\":\"#E5ECF6\",\"caxis\":{\"gridcolor\":\"white\",\"linecolor\":\"white\",\"ticks\":\"\"}},\"title\":{\"x\":0.05},\"xaxis\":{\"automargin\":true,\"gridcolor\":\"white\",\"linecolor\":\"white\",\"ticks\":\"\",\"title\":{\"standoff\":15},\"zerolinecolor\":\"white\",\"zerolinewidth\":2},\"yaxis\":{\"automargin\":true,\"gridcolor\":\"white\",\"linecolor\":\"white\",\"ticks\":\"\",\"title\":{\"standoff\":15},\"zerolinecolor\":\"white\",\"zerolinewidth\":2}}},\"xaxis\":{\"anchor\":\"y\",\"domain\":[0.0,0.45]},\"yaxis\":{\"anchor\":\"x\",\"domain\":[0.7777777777777778,1.0]},\"xaxis2\":{\"anchor\":\"y2\",\"domain\":[0.55,1.0]},\"yaxis2\":{\"anchor\":\"x2\",\"domain\":[0.7777777777777778,1.0]},\"xaxis3\":{\"anchor\":\"y3\",\"domain\":[0.0,0.45]},\"yaxis3\":{\"anchor\":\"x3\",\"domain\":[0.3888888888888889,0.6111111111111112]},\"xaxis4\":{\"anchor\":\"y4\",\"domain\":[0.55,1.0]},\"yaxis4\":{\"anchor\":\"x4\",\"domain\":[0.3888888888888889,0.6111111111111112]},\"xaxis5\":{\"anchor\":\"y5\",\"domain\":[0.0,0.45]},\"yaxis5\":{\"anchor\":\"x5\",\"domain\":[0.0,0.22222222222222224]},\"xaxis6\":{\"anchor\":\"y6\",\"domain\":[0.55,1.0]},\"yaxis6\":{\"anchor\":\"x6\",\"domain\":[0.0,0.22222222222222224]},\"annotations\":[{\"font\":{\"size\":16},\"showarrow\":false,\"text\":\"Counter Strike: Global Offensive\",\"x\":0.225,\"xanchor\":\"center\",\"xref\":\"paper\",\"y\":1.0,\"yanchor\":\"bottom\",\"yref\":\"paper\"},{\"font\":{\"size\":16},\"showarrow\":false,\"text\":\"Battlefield V\",\"x\":0.775,\"xanchor\":\"center\",\"xref\":\"paper\",\"y\":1.0,\"yanchor\":\"bottom\",\"yref\":\"paper\"},{\"font\":{\"size\":16},\"showarrow\":false,\"text\":\"Tom Clancy's Rainbow Six Siege\",\"x\":0.225,\"xanchor\":\"center\",\"xref\":\"paper\",\"y\":0.6111111111111112,\"yanchor\":\"bottom\",\"yref\":\"paper\"},{\"font\":{\"size\":16},\"showarrow\":false,\"text\":\"Apex Legends\",\"x\":0.775,\"xanchor\":\"center\",\"xref\":\"paper\",\"y\":0.6111111111111112,\"yanchor\":\"bottom\",\"yref\":\"paper\"},{\"font\":{\"size\":16},\"showarrow\":false,\"text\":\"Team Fortress 2\",\"x\":0.225,\"xanchor\":\"center\",\"xref\":\"paper\",\"y\":0.22222222222222224,\"yanchor\":\"bottom\",\"yref\":\"paper\"}],\"barmode\":\"group\",\"height\":1500,\"title\":{\"text\":\"Average players on Steam\"}},                        {\"responsive\": true}                    ).then(function(){\n",
       "                            \n",
       "var gd = document.getElementById('369e15d1-76a9-4cdb-aa86-3918e9d61dcb');\n",
       "var x = new MutationObserver(function (mutations, observer) {{\n",
       "        var display = window.getComputedStyle(gd).display;\n",
       "        if (!display || display === 'none') {{\n",
       "            console.log([gd, 'removed!']);\n",
       "            Plotly.purge(gd);\n",
       "            observer.disconnect();\n",
       "        }}\n",
       "}});\n",
       "\n",
       "// Listen for the removal of the full notebook cells\n",
       "var notebookContainer = gd.closest('#notebook-container');\n",
       "if (notebookContainer) {{\n",
       "    x.observe(notebookContainer, {childList: true});\n",
       "}}\n",
       "\n",
       "// Listen for the clearing of the current output cell\n",
       "var outputEl = gd.closest('.output');\n",
       "if (outputEl) {{\n",
       "    x.observe(outputEl, {childList: true});\n",
       "}}\n",
       "\n",
       "                        })                };                });            </script>        </div>"
      ]
     },
     "metadata": {},
     "output_type": "display_data"
    }
   ],
   "source": [
    "fig = make_subplots(rows=3,cols=2, subplot_titles=('Counter Strike: Global Offensive','Battlefield V',\"Tom Clancy's Rainbow Six Siege\",\"Apex Legends\",\"Team Fortress 2\"))\n",
    "\n",
    "\n",
    "fig.add_trace(go.Bar(x=csgo['Month_Year'],y=csgo['Avg_players'], marker_color='blue',showlegend=False),row=1,col=1)\n",
    "fig.add_trace(go.Bar(x=bf_s['Month_Year'],y=bf_s['Avg_players'], marker_color='lightsalmon',showlegend=False),row=1,col=2)\n",
    "fig.add_trace(go.Bar(x=rss['Month_Year'],y=rss['Avg_players'], marker_color='goldenrod',showlegend=False),row=2,col=1)\n",
    "fig.add_trace(go.Bar(x=apx_s['Month_Year'],y=apx_s['Avg_players'], marker_color='magenta',showlegend=False),row=2,col=2)\n",
    "twiitch=pd.read_csv(\"Twiitch_game_data.csv\")\n",
    "#fig.add_trace(go.Bar(x=cod_s['Month_Year'],y=cod_s['Avg_players'], marker_color='green',showlegend=False),row=3,col=1)\n",
    "fig.add_trace(go.Bar(x=tf2_s['Month_Year'],y=tf2_s['Avg_players'], marker_color='yellow',showlegend=False),row=3,col=1)\n",
    "fig.update_layout(barmode='group', height=1500, title='Average players on Steam')\n",
    "fig.show()"
   ]
  },
  {
   "cell_type": "code",
   "execution_count": 239,
   "id": "e9b30e97",
   "metadata": {},
   "outputs": [],
   "source": [
    "#The total number of views between 2016 and 2021 for the 6 games we selected.\n",
    "\n",
    "cs=df[df['Game'] == \"Counter-Strike: Global Offensive\"]\n",
    "cs_sum = cs[\"Hours_watched\"].sum()\n",
    "\n",
    "batt=df[df['Game'] == \"Battlefield V\"]\n",
    "batt_sum = batt[\"Hours_watched\"].sum()\n",
    "\n",
    "\n",
    "rainbow=df[df['Game'] == \"Tom Clancy's Rainbow Six Siege\"]\n",
    "rainbow_sum = rainbow[\"Hours_watched\"].sum()\n",
    "\n",
    "\n",
    "apex=df[df['Game'] == \"Apex Legends\"]\n",
    "apex_sum = apex[\"Hours_watched\"].sum()\n",
    "\n",
    "cod=df[df['Game'] == \"Call of Duty: Modern Warfare Remastered\"]\n",
    "cod_sum = cod[\"Hours_watched\"].sum()\n",
    "\n",
    "fortress=df[df['Game'] == \"Team Fortress 2\"]\n",
    "fortress_sum = fortress[\"Hours_watched\"].sum()"
   ]
  },
  {
   "cell_type": "code",
   "execution_count": 240,
   "id": "dd61500f",
   "metadata": {},
   "outputs": [
    {
     "name": "stdout",
     "output_type": "stream",
     "text": [
      "Sum of Counter-Strike: Global Offensive  2790519858 hours\n"
     ]
    }
   ],
   "source": [
    "print(\"Sum of Counter-Strike: Global Offensive \" , cs_sum , \"hours\")\n"
   ]
  },
  {
   "cell_type": "code",
   "execution_count": 183,
   "id": "01660b21",
   "metadata": {},
   "outputs": [
    {
     "data": {
      "image/png": "[encoded data removed]",
      "text/plain": [
       "<Figure size 576x576 with 1 Axes>"
      ]
     },
     "metadata": {},
     "output_type": "display_data"
    }
   ],
   "source": [
    "plt.figure(figsize=(8,8))\n",
    "values = np.array([cs_sum,rainbow_sum,apex_sum])\n",
    "myLabels = [\"Counter-Strike: Global Offensive\",\"Tom Clancy's Rainbow Six Siege\",\n",
    "            \"Apex Legends\"]\n",
    "colors=['blue', 'pink','green']\n",
    "plt.pie(values, labels = myLabels, autopct='%1.1f%%')\n",
    "\n",
    "plt.show()"
   ]
  },
  {
   "cell_type": "code",
   "execution_count": 241,
   "id": "7b3a29e3",
   "metadata": {
    "scrolled": false
   },
   "outputs": [
    {
     "data": {
      "text/html": [
       "<div>\n",
       "<style scoped>\n",
       "    .dataframe tbody tr th:only-of-type {\n",
       "        vertical-align: middle;\n",
       "    }\n",
       "\n",
       "    .dataframe tbody tr th {\n",
       "        vertical-align: top;\n",
       "    }\n",
       "\n",
       "    .dataframe thead th {\n",
       "        text-align: right;\n",
       "    }\n",
       "</style>\n",
       "<table border=\"1\" class=\"dataframe\">\n",
       "  <thead>\n",
       "    <tr style=\"text-align: right;\">\n",
       "      <th></th>\n",
       "      <th>Rank</th>\n",
       "      <th>Game</th>\n",
       "      <th>Month</th>\n",
       "      <th>Year</th>\n",
       "      <th>Hours_watched</th>\n",
       "      <th>Hours_Streamed</th>\n",
       "      <th>Peak_viewers</th>\n",
       "      <th>Peak_channels</th>\n",
       "      <th>Streamers</th>\n",
       "      <th>Avg_viewers</th>\n",
       "      <th>Avg_channels</th>\n",
       "      <th>Avg_viewer_ratio</th>\n",
       "    </tr>\n",
       "  </thead>\n",
       "  <tbody>\n",
       "    <tr>\n",
       "      <th>0</th>\n",
       "      <td>1</td>\n",
       "      <td>League of Legends</td>\n",
       "      <td>1</td>\n",
       "      <td>2016</td>\n",
       "      <td>94377226</td>\n",
       "      <td>1362044 hours</td>\n",
       "      <td>530270</td>\n",
       "      <td>2903</td>\n",
       "      <td>129172</td>\n",
       "      <td>127021</td>\n",
       "      <td>1833</td>\n",
       "      <td>69.290</td>\n",
       "    </tr>\n",
       "    <tr>\n",
       "      <th>1</th>\n",
       "      <td>2</td>\n",
       "      <td>Counter-Strike: Global Offensive</td>\n",
       "      <td>1</td>\n",
       "      <td>2016</td>\n",
       "      <td>47832863</td>\n",
       "      <td>830105 hours</td>\n",
       "      <td>372654</td>\n",
       "      <td>2197</td>\n",
       "      <td>120849</td>\n",
       "      <td>64378</td>\n",
       "      <td>1117</td>\n",
       "      <td>57.620</td>\n",
       "    </tr>\n",
       "    <tr>\n",
       "      <th>2</th>\n",
       "      <td>3</td>\n",
       "      <td>Dota 2</td>\n",
       "      <td>1</td>\n",
       "      <td>2016</td>\n",
       "      <td>45185893</td>\n",
       "      <td>433397 hours</td>\n",
       "      <td>315083</td>\n",
       "      <td>1100</td>\n",
       "      <td>44074</td>\n",
       "      <td>60815</td>\n",
       "      <td>583</td>\n",
       "      <td>104.260</td>\n",
       "    </tr>\n",
       "    <tr>\n",
       "      <th>3</th>\n",
       "      <td>4</td>\n",
       "      <td>Hearthstone</td>\n",
       "      <td>1</td>\n",
       "      <td>2016</td>\n",
       "      <td>39936159</td>\n",
       "      <td>235903 hours</td>\n",
       "      <td>131357</td>\n",
       "      <td>517</td>\n",
       "      <td>36170</td>\n",
       "      <td>53749</td>\n",
       "      <td>317</td>\n",
       "      <td>169.290</td>\n",
       "    </tr>\n",
       "    <tr>\n",
       "      <th>4</th>\n",
       "      <td>5</td>\n",
       "      <td>Call of Duty: Black Ops III</td>\n",
       "      <td>1</td>\n",
       "      <td>2016</td>\n",
       "      <td>16153057</td>\n",
       "      <td>1151578 hours</td>\n",
       "      <td>71639</td>\n",
       "      <td>3620</td>\n",
       "      <td>214054</td>\n",
       "      <td>21740</td>\n",
       "      <td>1549</td>\n",
       "      <td>14.030</td>\n",
       "    </tr>\n",
       "    <tr>\n",
       "      <th>5</th>\n",
       "      <td>6</td>\n",
       "      <td>Minecraft</td>\n",
       "      <td>1</td>\n",
       "      <td>2016</td>\n",
       "      <td>10231056</td>\n",
       "      <td>490002 hours</td>\n",
       "      <td>64432</td>\n",
       "      <td>1538</td>\n",
       "      <td>88820</td>\n",
       "      <td>13769</td>\n",
       "      <td>659</td>\n",
       "      <td>20.880</td>\n",
       "    </tr>\n",
       "    <tr>\n",
       "      <th>6</th>\n",
       "      <td>7</td>\n",
       "      <td>World of Warcraft</td>\n",
       "      <td>1</td>\n",
       "      <td>2016</td>\n",
       "      <td>8771452</td>\n",
       "      <td>342978 hours</td>\n",
       "      <td>46130</td>\n",
       "      <td>1180</td>\n",
       "      <td>33375</td>\n",
       "      <td>11805</td>\n",
       "      <td>461</td>\n",
       "      <td>25.570</td>\n",
       "    </tr>\n",
       "    <tr>\n",
       "      <th>7</th>\n",
       "      <td>8</td>\n",
       "      <td>Z1: Battle Royale</td>\n",
       "      <td>1</td>\n",
       "      <td>2016</td>\n",
       "      <td>7894571</td>\n",
       "      <td>205569 hours</td>\n",
       "      <td>41588</td>\n",
       "      <td>460</td>\n",
       "      <td>21396</td>\n",
       "      <td>10625</td>\n",
       "      <td>276</td>\n",
       "      <td>38.400</td>\n",
       "    </tr>\n",
       "    <tr>\n",
       "      <th>8</th>\n",
       "      <td>9</td>\n",
       "      <td>Talk Shows &amp; Podcasts</td>\n",
       "      <td>1</td>\n",
       "      <td>2016</td>\n",
       "      <td>7688369</td>\n",
       "      <td>53235 hours</td>\n",
       "      <td>84051</td>\n",
       "      <td>148</td>\n",
       "      <td>10779</td>\n",
       "      <td>10347</td>\n",
       "      <td>71</td>\n",
       "      <td>144.420</td>\n",
       "    </tr>\n",
       "    <tr>\n",
       "      <th>9</th>\n",
       "      <td>10</td>\n",
       "      <td>FIFA 16</td>\n",
       "      <td>1</td>\n",
       "      <td>2016</td>\n",
       "      <td>6988475</td>\n",
       "      <td>203646 hours</td>\n",
       "      <td>145728</td>\n",
       "      <td>756</td>\n",
       "      <td>46462</td>\n",
       "      <td>9405</td>\n",
       "      <td>274</td>\n",
       "      <td>34.320</td>\n",
       "    </tr>\n",
       "  </tbody>\n",
       "</table>\n",
       "</div>"
      ],
      "text/plain": [
       "   Rank                              Game  Month  Year  Hours_watched  \\\n",
       "0     1                 League of Legends      1  2016       94377226   \n",
       "1     2  Counter-Strike: Global Offensive      1  2016       47832863   \n",
       "2     3                            Dota 2      1  2016       45185893   \n",
       "3     4                       Hearthstone      1  2016       39936159   \n",
       "4     5       Call of Duty: Black Ops III      1  2016       16153057   \n",
       "5     6                         Minecraft      1  2016       10231056   \n",
       "6     7                 World of Warcraft      1  2016        8771452   \n",
       "7     8                 Z1: Battle Royale      1  2016        7894571   \n",
       "8     9             Talk Shows & Podcasts      1  2016        7688369   \n",
       "9    10                           FIFA 16      1  2016        6988475   \n",
       "\n",
       "  Hours_Streamed  Peak_viewers  Peak_channels  Streamers  Avg_viewers  \\\n",
       "0  1362044 hours        530270           2903     129172       127021   \n",
       "1   830105 hours        372654           2197     120849        64378   \n",
       "2   433397 hours        315083           1100      44074        60815   \n",
       "3   235903 hours        131357            517      36170        53749   \n",
       "4  1151578 hours         71639           3620     214054        21740   \n",
       "5   490002 hours         64432           1538      88820        13769   \n",
       "6   342978 hours         46130           1180      33375        11805   \n",
       "7   205569 hours         41588            460      21396        10625   \n",
       "8    53235 hours         84051            148      10779        10347   \n",
       "9   203646 hours        145728            756      46462         9405   \n",
       "\n",
       "   Avg_channels  Avg_viewer_ratio  \n",
       "0          1833            69.290  \n",
       "1          1117            57.620  \n",
       "2           583           104.260  \n",
       "3           317           169.290  \n",
       "4          1549            14.030  \n",
       "5           659            20.880  \n",
       "6           461            25.570  \n",
       "7           276            38.400  \n",
       "8            71           144.420  \n",
       "9           274            34.320  "
      ]
     },
     "execution_count": 241,
     "metadata": {},
     "output_type": "execute_result"
    }
   ],
   "source": [
    "twitch.head(10)"
   ]
  },
  {
   "cell_type": "code",
   "execution_count": 185,
   "id": "dc89e77f",
   "metadata": {},
   "outputs": [],
   "source": [
    "csgo_t = twitch[twitch['Game'] == 'Counter-Strike: Global Offensive']\n",
    "bf = twitch[twitch['Game'] == 'Battlefield V']\n",
    "rss = twitch[twitch['Game'] == \"Tom Clancy's Rainbow Six Siege\"]\n",
    "apx = twitch[twitch['Game'] == \"Apex Legends\"]\n",
    "cod = twitch[twitch['Game'] == \"Call of Duty: Modern Warfare Remastered\"]\n",
    "tf2= twitch[twitch['Game'] == \"Team Fortress 2\"]"
   ]
  },
  {
   "cell_type": "markdown",
   "id": "2586c408",
   "metadata": {},
   "source": [
    "### Viewership on Twitch\n",
    "\n"
   ]
  },
  {
   "cell_type": "code",
   "execution_count": 186,
   "id": "43b4902f",
   "metadata": {
    "scrolled": false
   },
   "outputs": [
    {
     "data": {
      "application/vnd.plotly.v1+json": {
       "config": {
        "plotlyServerURL": "https://plot.ly"
       },
       "data": [
        {
         "marker": {
          "color": "blue"
         },
         "showlegend": false,
         "type": "bar",
         "x": [
          2016,
          2016,
          2016,
          2016,
          2016,
          2016,
          2016,
          2016,
          2016,
          2016,
          2016,
          2016,
          2017,
          2017,
          2017,
          2017,
          2017,
          2017,
          2017,
          2017,
          2017,
          2017,
          2017,
          2017,
          2018,
          2018,
          2018,
          2018,
          2018,
          2018,
          2018,
          2018,
          2018,
          2018,
          2018,
          2018,
          2019,
          2019,
          2019,
          2019,
          2019,
          2019,
          2019,
          2019,
          2019,
          2019,
          2019,
          2019,
          2020,
          2020,
          2020,
          2020,
          2020,
          2020,
          2020,
          2020,
          2020,
          2020,
          2020,
          2020,
          2021,
          2021,
          2021,
          2021,
          2021,
          2021,
          2021,
          2021,
          2021
         ],
         "xaxis": "x",
         "y": [
          64378,
          64652,
          96854,
          99754,
          60407,
          50260,
          71269,
          35333,
          42783,
          47707,
          45798,
          41152,
          97411,
          60328,
          49624,
          50861,
          31446,
          30360,
          91707,
          27138,
          37956,
          38207,
          35748,
          25068,
          93678,
          55866,
          37790,
          31885,
          35571,
          30455,
          36019,
          29203,
          98142,
          32576,
          36935,
          34411,
          41424,
          70426,
          47660,
          42911,
          39921,
          42086,
          54777,
          62063,
          63988,
          60249,
          49522,
          54455,
          45616,
          71649,
          89902,
          120546,
          103346,
          105704,
          56396,
          64930,
          74580,
          78816,
          84442,
          81772,
          81964,
          100713,
          97409,
          97458,
          101844,
          76958,
          78948,
          67055,
          85582
         ],
         "yaxis": "y"
        },
        {
         "marker": {
          "color": "lightsalmon"
         },
         "showlegend": false,
         "type": "bar",
         "x": [
          2018,
          2018,
          2018,
          2018,
          2018,
          2018,
          2019,
          2019,
          2019,
          2019,
          2019,
          2019,
          2019,
          2019,
          2019,
          2019,
          2019,
          2019,
          2020,
          2020,
          2021,
          2021,
          2021,
          2021
         ],
         "xaxis": "x2",
         "y": [
          2001,
          2308,
          386,
          4196,
          11575,
          4670,
          2359,
          750,
          5019,
          2328,
          882,
          1046,
          656,
          717,
          517,
          772,
          1097,
          779,
          749,
          711,
          1471,
          1281,
          1642,
          1248
         ],
         "yaxis": "y2"
        },
        {
         "marker": {
          "color": "goldenrod"
         },
         "showlegend": false,
         "type": "bar",
         "x": [
          2016,
          2016,
          2016,
          2016,
          2016,
          2016,
          2016,
          2016,
          2016,
          2016,
          2016,
          2016,
          2017,
          2017,
          2017,
          2017,
          2017,
          2017,
          2017,
          2017,
          2017,
          2017,
          2017,
          2017,
          2018,
          2018,
          2018,
          2018,
          2018,
          2018,
          2018,
          2018,
          2018,
          2018,
          2018,
          2018,
          2019,
          2019,
          2019,
          2019,
          2019,
          2019,
          2019,
          2019,
          2019,
          2019,
          2019,
          2019,
          2020,
          2020,
          2020,
          2020,
          2020,
          2020,
          2020,
          2020,
          2020,
          2020,
          2020,
          2020,
          2021,
          2021,
          2021,
          2021,
          2021,
          2021,
          2021,
          2021,
          2021
         ],
         "xaxis": "x3",
         "y": [
          6549,
          4658,
          2574,
          2293,
          2498,
          1999,
          2454,
          4718,
          3944,
          2675,
          5300,
          4721,
          7148,
          9665,
          6349,
          5419,
          5028,
          5055,
          6009,
          6110,
          8330,
          6040,
          6823,
          7856,
          7379,
          16950,
          12678,
          11183,
          12669,
          12324,
          17640,
          19082,
          15022,
          9199,
          12089,
          12504,
          16291,
          16819,
          12180,
          11504,
          12816,
          16828,
          14448,
          19154,
          15161,
          11134,
          12284,
          15697,
          15833,
          25441,
          17592,
          15846,
          15455,
          16709,
          17465,
          16802,
          15414,
          14690,
          15896,
          14859,
          23545,
          37724,
          26302,
          33609,
          36102,
          18893,
          20278,
          16350,
          19715
         ],
         "yaxis": "y3"
        },
        {
         "marker": {
          "color": "magenta"
         },
         "showlegend": false,
         "type": "bar",
         "x": [
          2019,
          2019,
          2019,
          2019,
          2019,
          2019,
          2019,
          2019,
          2019,
          2019,
          2019,
          2020,
          2020,
          2020,
          2020,
          2020,
          2020,
          2020,
          2020,
          2020,
          2020,
          2020,
          2020,
          2021,
          2021,
          2021,
          2021,
          2021,
          2021,
          2021,
          2021,
          2021
         ],
         "xaxis": "x4",
         "y": [
          183444,
          80297,
          34908,
          18810,
          16172,
          36994,
          26277,
          20451,
          35911,
          18199,
          16665,
          18516,
          40721,
          29657,
          23571,
          41443,
          39771,
          32303,
          34654,
          34190,
          35300,
          60621,
          47741,
          49232,
          77134,
          82158,
          71523,
          91592,
          66390,
          63686,
          124985,
          95537
         ],
         "yaxis": "y4"
        },
        {
         "marker": {
          "color": "green"
         },
         "showlegend": false,
         "type": "bar",
         "x": [
          2016,
          2016,
          2017,
          2017,
          2017,
          2017,
          2017,
          2017,
          2017,
          2017,
          2017,
          2017,
          2019,
          2019,
          2019
         ],
         "xaxis": "x5",
         "y": [
          7408,
          2799,
          2342,
          1548,
          1102,
          1266,
          1043,
          942,
          1049,
          565,
          256,
          293,
          564,
          553,
          339
         ],
         "yaxis": "y5"
        },
        {
         "marker": {
          "color": "yellow"
         },
         "showlegend": false,
         "type": "bar",
         "x": [
          2016,
          2016,
          2016,
          2016,
          2016,
          2016,
          2016,
          2016,
          2016,
          2016,
          2016,
          2016,
          2017,
          2017,
          2017,
          2017,
          2017,
          2017,
          2017,
          2017,
          2017,
          2017,
          2017,
          2018,
          2018,
          2018,
          2018,
          2018,
          2018,
          2018,
          2018
         ],
         "xaxis": "x6",
         "y": [
          443,
          389,
          517,
          710,
          590,
          488,
          477,
          456,
          433,
          289,
          286,
          268,
          331,
          303,
          247,
          249,
          225,
          247,
          291,
          283,
          418,
          291,
          254,
          359,
          398,
          354,
          279,
          438,
          341,
          472,
          398
         ],
         "yaxis": "y6"
        }
       ],
       "layout": {
        "annotations": [
         {
          "font": {
           "size": 16
          },
          "showarrow": false,
          "text": "Counter Strike: Global Offensive",
          "x": 0.225,
          "xanchor": "center",
          "xref": "paper",
          "y": 1,
          "yanchor": "bottom",
          "yref": "paper"
         },
         {
          "font": {
           "size": 16
          },
          "showarrow": false,
          "text": "Battlefield V",
          "x": 0.775,
          "xanchor": "center",
          "xref": "paper",
          "y": 1,
          "yanchor": "bottom",
          "yref": "paper"
         },
         {
          "font": {
           "size": 16
          },
          "showarrow": false,
          "text": "Tom Clancy's Rainbow Six Siege",
          "x": 0.225,
          "xanchor": "center",
          "xref": "paper",
          "y": 0.6111111111111112,
          "yanchor": "bottom",
          "yref": "paper"
         },
         {
          "font": {
           "size": 16
          },
          "showarrow": false,
          "text": "Apex Legends",
          "x": 0.775,
          "xanchor": "center",
          "xref": "paper",
          "y": 0.6111111111111112,
          "yanchor": "bottom",
          "yref": "paper"
         },
         {
          "font": {
           "size": 16
          },
          "showarrow": false,
          "text": "Call of Duty: Modern Warfare Remastered",
          "x": 0.225,
          "xanchor": "center",
          "xref": "paper",
          "y": 0.22222222222222224,
          "yanchor": "bottom",
          "yref": "paper"
         },
         {
          "font": {
           "size": 16
          },
          "showarrow": false,
          "text": "Team Fortress 2",
          "x": 0.775,
          "xanchor": "center",
          "xref": "paper",
          "y": 0.22222222222222224,
          "yanchor": "bottom",
          "yref": "paper"
         }
        ],
        "barmode": "group",
        "height": 1500,
        "template": {
         "data": {
          "bar": [
           {
            "error_x": {
             "color": "#2a3f5f"
            },
            "error_y": {
             "color": "#2a3f5f"
            },
            "marker": {
             "line": {
              "color": "#E5ECF6",
              "width": 0.5
             },
             "pattern": {
              "fillmode": "overlay",
              "size": 10,
              "solidity": 0.2
             }
            },
            "type": "bar"
           }
          ],
          "barpolar": [
           {
            "marker": {
             "line": {
              "color": "#E5ECF6",
              "width": 0.5
             },
             "pattern": {
              "fillmode": "overlay",
              "size": 10,
              "solidity": 0.2
             }
            },
            "type": "barpolar"
           }
          ],
          "carpet": [
           {
            "aaxis": {
             "endlinecolor": "#2a3f5f",
             "gridcolor": "white",
             "linecolor": "white",
             "minorgridcolor": "white",
             "startlinecolor": "#2a3f5f"
            },
            "baxis": {
             "endlinecolor": "#2a3f5f",
             "gridcolor": "white",
             "linecolor": "white",
             "minorgridcolor": "white",
             "startlinecolor": "#2a3f5f"
            },
            "type": "carpet"
           }
          ],
          "choropleth": [
           {
            "colorbar": {
             "outlinewidth": 0,
             "ticks": ""
            },
            "type": "choropleth"
           }
          ],
          "contour": [
           {
            "colorbar": {
             "outlinewidth": 0,
             "ticks": ""
            },
            "colorscale": [
             [
              0,
              "#0d0887"
             ],
             [
              0.1111111111111111,
              "#46039f"
             ],
             [
              0.2222222222222222,
              "#7201a8"
             ],
             [
              0.3333333333333333,
              "#9c179e"
             ],
             [
              0.4444444444444444,
              "#bd3786"
             ],
             [
              0.5555555555555556,
              "#d8576b"
             ],
             [
              0.6666666666666666,
              "#ed7953"
             ],
             [
              0.7777777777777778,
              "#fb9f3a"
             ],
             [
              0.8888888888888888,
              "#fdca26"
             ],
             [
              1,
              "#f0f921"
             ]
            ],
            "type": "contour"
           }
          ],
          "contourcarpet": [
           {
            "colorbar": {
             "outlinewidth": 0,
             "ticks": ""
            },
            "type": "contourcarpet"
           }
          ],
          "heatmap": [
           {
            "colorbar": {
             "outlinewidth": 0,
             "ticks": ""
            },
            "colorscale": [
             [
              0,
              "#0d0887"
             ],
             [
              0.1111111111111111,
              "#46039f"
             ],
             [
              0.2222222222222222,
              "#7201a8"
             ],
             [
              0.3333333333333333,
              "#9c179e"
             ],
             [
              0.4444444444444444,
              "#bd3786"
             ],
             [
              0.5555555555555556,
              "#d8576b"
             ],
             [
              0.6666666666666666,
              "#ed7953"
             ],
             [
              0.7777777777777778,
              "#fb9f3a"
             ],
             [
              0.8888888888888888,
              "#fdca26"
             ],
             [
              1,
              "#f0f921"
             ]
            ],
            "type": "heatmap"
           }
          ],
          "heatmapgl": [
           {
            "colorbar": {
             "outlinewidth": 0,
             "ticks": ""
            },
            "colorscale": [
             [
              0,
              "#0d0887"
             ],
             [
              0.1111111111111111,
              "#46039f"
             ],
             [
              0.2222222222222222,
              "#7201a8"
             ],
             [
              0.3333333333333333,
              "#9c179e"
             ],
             [
              0.4444444444444444,
              "#bd3786"
             ],
             [
              0.5555555555555556,
              "#d8576b"
             ],
             [
              0.6666666666666666,
              "#ed7953"
             ],
             [
              0.7777777777777778,
              "#fb9f3a"
             ],
             [
              0.8888888888888888,
              "#fdca26"
             ],
             [
              1,
              "#f0f921"
             ]
            ],
            "type": "heatmapgl"
           }
          ],
          "histogram": [
           {
            "marker": {
             "pattern": {
              "fillmode": "overlay",
              "size": 10,
              "solidity": 0.2
             }
            },
            "type": "histogram"
           }
          ],
          "histogram2d": [
           {
            "colorbar": {
             "outlinewidth": 0,
             "ticks": ""
            },
            "colorscale": [
             [
              0,
              "#0d0887"
             ],
             [
              0.1111111111111111,
              "#46039f"
             ],
             [
              0.2222222222222222,
              "#7201a8"
             ],
             [
              0.3333333333333333,
              "#9c179e"
             ],
             [
              0.4444444444444444,
              "#bd3786"
             ],
             [
              0.5555555555555556,
              "#d8576b"
             ],
             [
              0.6666666666666666,
              "#ed7953"
             ],
             [
              0.7777777777777778,
              "#fb9f3a"
             ],
             [
              0.8888888888888888,
              "#fdca26"
             ],
             [
              1,
              "#f0f921"
             ]
            ],
            "type": "histogram2d"
           }
          ],
          "histogram2dcontour": [
           {
            "colorbar": {
             "outlinewidth": 0,
             "ticks": ""
            },
            "colorscale": [
             [
              0,
              "#0d0887"
             ],
             [
              0.1111111111111111,
              "#46039f"
             ],
             [
              0.2222222222222222,
              "#7201a8"
             ],
             [
              0.3333333333333333,
              "#9c179e"
             ],
             [
              0.4444444444444444,
              "#bd3786"
             ],
             [
              0.5555555555555556,
              "#d8576b"
             ],
             [
              0.6666666666666666,
              "#ed7953"
             ],
             [
              0.7777777777777778,
              "#fb9f3a"
             ],
             [
              0.8888888888888888,
              "#fdca26"
             ],
             [
              1,
              "#f0f921"
             ]
            ],
            "type": "histogram2dcontour"
           }
          ],
          "mesh3d": [
           {
            "colorbar": {
             "outlinewidth": 0,
             "ticks": ""
            },
            "type": "mesh3d"
           }
          ],
          "parcoords": [
           {
            "line": {
             "colorbar": {
              "outlinewidth": 0,
              "ticks": ""
             }
            },
            "type": "parcoords"
           }
          ],
          "pie": [
           {
            "automargin": true,
            "type": "pie"
           }
          ],
          "scatter": [
           {
            "marker": {
             "colorbar": {
              "outlinewidth": 0,
              "ticks": ""
             }
            },
            "type": "scatter"
           }
          ],
          "scatter3d": [
           {
            "line": {
             "colorbar": {
              "outlinewidth": 0,
              "ticks": ""
             }
            },
            "marker": {
             "colorbar": {
              "outlinewidth": 0,
              "ticks": ""
             }
            },
            "type": "scatter3d"
           }
          ],
          "scattercarpet": [
           {
            "marker": {
             "colorbar": {
              "outlinewidth": 0,
              "ticks": ""
             }
            },
            "type": "scattercarpet"
           }
          ],
          "scattergeo": [
           {
            "marker": {
             "colorbar": {
              "outlinewidth": 0,
              "ticks": ""
             }
            },
            "type": "scattergeo"
           }
          ],
          "scattergl": [
           {
            "marker": {
             "colorbar": {
              "outlinewidth": 0,
              "ticks": ""
             }
            },
            "type": "scattergl"
           }
          ],
          "scattermapbox": [
           {
            "marker": {
             "colorbar": {
              "outlinewidth": 0,
              "ticks": ""
             }
            },
            "type": "scattermapbox"
           }
          ],
          "scatterpolar": [
           {
            "marker": {
             "colorbar": {
              "outlinewidth": 0,
              "ticks": ""
             }
            },
            "type": "scatterpolar"
           }
          ],
          "scatterpolargl": [
           {
            "marker": {
             "colorbar": {
              "outlinewidth": 0,
              "ticks": ""
             }
            },
            "type": "scatterpolargl"
           }
          ],
          "scatterternary": [
           {
            "marker": {
             "colorbar": {
              "outlinewidth": 0,
              "ticks": ""
             }
            },
            "type": "scatterternary"
           }
          ],
          "surface": [
           {
            "colorbar": {
             "outlinewidth": 0,
             "ticks": ""
            },
            "colorscale": [
             [
              0,
              "#0d0887"
             ],
             [
              0.1111111111111111,
              "#46039f"
             ],
             [
              0.2222222222222222,
              "#7201a8"
             ],
             [
              0.3333333333333333,
              "#9c179e"
             ],
             [
              0.4444444444444444,
              "#bd3786"
             ],
             [
              0.5555555555555556,
              "#d8576b"
             ],
             [
              0.6666666666666666,
              "#ed7953"
             ],
             [
              0.7777777777777778,
              "#fb9f3a"
             ],
             [
              0.8888888888888888,
              "#fdca26"
             ],
             [
              1,
              "#f0f921"
             ]
            ],
            "type": "surface"
           }
          ],
          "table": [
           {
            "cells": {
             "fill": {
              "color": "#EBF0F8"
             },
             "line": {
              "color": "white"
             }
            },
            "header": {
             "fill": {
              "color": "#C8D4E3"
             },
             "line": {
              "color": "white"
             }
            },
            "type": "table"
           }
          ]
         },
         "layout": {
          "annotationdefaults": {
           "arrowcolor": "#2a3f5f",
           "arrowhead": 0,
           "arrowwidth": 1
          },
          "autotypenumbers": "strict",
          "coloraxis": {
           "colorbar": {
            "outlinewidth": 0,
            "ticks": ""
           }
          },
          "colorscale": {
           "diverging": [
            [
             0,
             "#8e0152"
            ],
            [
             0.1,
             "#c51b7d"
            ],
            [
             0.2,
             "#de77ae"
            ],
            [
             0.3,
             "#f1b6da"
            ],
            [
             0.4,
             "#fde0ef"
            ],
            [
             0.5,
             "#f7f7f7"
            ],
            [
             0.6,
             "#e6f5d0"
            ],
            [
             0.7,
             "#b8e186"
            ],
            [
             0.8,
             "#7fbc41"
            ],
            [
             0.9,
             "#4d9221"
            ],
            [
             1,
             "#276419"
            ]
           ],
           "sequential": [
            [
             0,
             "#0d0887"
            ],
            [
             0.1111111111111111,
             "#46039f"
            ],
            [
             0.2222222222222222,
             "#7201a8"
            ],
            [
             0.3333333333333333,
             "#9c179e"
            ],
            [
             0.4444444444444444,
             "#bd3786"
            ],
            [
             0.5555555555555556,
             "#d8576b"
            ],
            [
             0.6666666666666666,
             "#ed7953"
            ],
            [
             0.7777777777777778,
             "#fb9f3a"
            ],
            [
             0.8888888888888888,
             "#fdca26"
            ],
            [
             1,
             "#f0f921"
            ]
           ],
           "sequentialminus": [
            [
             0,
             "#0d0887"
            ],
            [
             0.1111111111111111,
             "#46039f"
            ],
            [
             0.2222222222222222,
             "#7201a8"
            ],
            [
             0.3333333333333333,
             "#9c179e"
            ],
            [
             0.4444444444444444,
             "#bd3786"
            ],
            [
             0.5555555555555556,
             "#d8576b"
            ],
            [
             0.6666666666666666,
             "#ed7953"
            ],
            [
             0.7777777777777778,
             "#fb9f3a"
            ],
            [
             0.8888888888888888,
             "#fdca26"
            ],
            [
             1,
             "#f0f921"
            ]
           ]
          },
          "colorway": [
           "#636efa",
           "#EF553B",
           "#00cc96",
           "#ab63fa",
           "#FFA15A",
           "#19d3f3",
           "#FF6692",
           "#B6E880",
           "#FF97FF",
           "#FECB52"
          ],
          "font": {
           "color": "#2a3f5f"
          },
          "geo": {
           "bgcolor": "white",
           "lakecolor": "white",
           "landcolor": "#E5ECF6",
           "showlakes": true,
           "showland": true,
           "subunitcolor": "white"
          },
          "hoverlabel": {
           "align": "left"
          },
          "hovermode": "closest",
          "mapbox": {
           "style": "light"
          },
          "paper_bgcolor": "white",
          "plot_bgcolor": "#E5ECF6",
          "polar": {
           "angularaxis": {
            "gridcolor": "white",
            "linecolor": "white",
            "ticks": ""
           },
           "bgcolor": "#E5ECF6",
           "radialaxis": {
            "gridcolor": "white",
            "linecolor": "white",
            "ticks": ""
           }
          },
          "scene": {
           "xaxis": {
            "backgroundcolor": "#E5ECF6",
            "gridcolor": "white",
            "gridwidth": 2,
            "linecolor": "white",
            "showbackground": true,
            "ticks": "",
            "zerolinecolor": "white"
           },
           "yaxis": {
            "backgroundcolor": "#E5ECF6",
            "gridcolor": "white",
            "gridwidth": 2,
            "linecolor": "white",
            "showbackground": true,
            "ticks": "",
            "zerolinecolor": "white"
           },
           "zaxis": {
            "backgroundcolor": "#E5ECF6",
            "gridcolor": "white",
            "gridwidth": 2,
            "linecolor": "white",
            "showbackground": true,
            "ticks": "",
            "zerolinecolor": "white"
           }
          },
          "shapedefaults": {
           "line": {
            "color": "#2a3f5f"
           }
          },
          "ternary": {
           "aaxis": {
            "gridcolor": "white",
            "linecolor": "white",
            "ticks": ""
           },
           "baxis": {
            "gridcolor": "white",
            "linecolor": "white",
            "ticks": ""
           },
           "bgcolor": "#E5ECF6",
           "caxis": {
            "gridcolor": "white",
            "linecolor": "white",
            "ticks": ""
           }
          },
          "title": {
           "x": 0.05
          },
          "xaxis": {
           "automargin": true,
           "gridcolor": "white",
           "linecolor": "white",
           "ticks": "",
           "title": {
            "standoff": 15
           },
           "zerolinecolor": "white",
           "zerolinewidth": 2
          },
          "yaxis": {
           "automargin": true,
           "gridcolor": "white",
           "linecolor": "white",
           "ticks": "",
           "title": {
            "standoff": 15
           },
           "zerolinecolor": "white",
           "zerolinewidth": 2
          }
         }
        },
        "title": {
         "text": "Average viewers on twitch"
        },
        "xaxis": {
         "anchor": "y",
         "domain": [
          0,
          0.45
         ]
        },
        "xaxis2": {
         "anchor": "y2",
         "domain": [
          0.55,
          1
         ]
        },
        "xaxis3": {
         "anchor": "y3",
         "domain": [
          0,
          0.45
         ]
        },
        "xaxis4": {
         "anchor": "y4",
         "domain": [
          0.55,
          1
         ]
        },
        "xaxis5": {
         "anchor": "y5",
         "domain": [
          0,
          0.45
         ]
        },
        "xaxis6": {
         "anchor": "y6",
         "domain": [
          0.55,
          1
         ]
        },
        "yaxis": {
         "anchor": "x",
         "domain": [
          0.7777777777777778,
          1
         ]
        },
        "yaxis2": {
         "anchor": "x2",
         "domain": [
          0.7777777777777778,
          1
         ]
        },
        "yaxis3": {
         "anchor": "x3",
         "domain": [
          0.3888888888888889,
          0.6111111111111112
         ]
        },
        "yaxis4": {
         "anchor": "x4",
         "domain": [
          0.3888888888888889,
          0.6111111111111112
         ]
        },
        "yaxis5": {
         "anchor": "x5",
         "domain": [
          0,
          0.22222222222222224
         ]
        },
        "yaxis6": {
         "anchor": "x6",
         "domain": [
          0,
          0.22222222222222224
         ]
        }
       }
      },
      "text/html": [
       "<div>                            <div id=\"096d8c9e-d5df-49a2-98ec-46c64fda4a67\" class=\"plotly-graph-div\" style=\"height:1500px; width:100%;\"></div>            <script type=\"text/javascript\">                require([\"plotly\"], function(Plotly) {                    window.PLOTLYENV=window.PLOTLYENV || {};                                    if (document.getElementById(\"096d8c9e-d5df-49a2-98ec-46c64fda4a67\")) {                    Plotly.newPlot(                        \"096d8c9e-d5df-49a2-98ec-46c64fda4a67\",                        [{\"marker\":{\"color\":\"blue\"},\"showlegend\":false,\"x\":[2016,2016,2016,2016,2016,2016,2016,2016,2016,2016,2016,2016,2017,2017,2017,2017,2017,2017,2017,2017,2017,2017,2017,2017,2018,2018,2018,2018,2018,2018,2018,2018,2018,2018,2018,2018,2019,2019,2019,2019,2019,2019,2019,2019,2019,2019,2019,2019,2020,2020,2020,2020,2020,2020,2020,2020,2020,2020,2020,2020,2021,2021,2021,2021,2021,2021,2021,2021,2021],\"y\":[64378,64652,96854,99754,60407,50260,71269,35333,42783,47707,45798,41152,97411,60328,49624,50861,31446,30360,91707,27138,37956,38207,35748,25068,93678,55866,37790,31885,35571,30455,36019,29203,98142,32576,36935,34411,41424,70426,47660,42911,39921,42086,54777,62063,63988,60249,49522,54455,45616,71649,89902,120546,103346,105704,56396,64930,74580,78816,84442,81772,81964,100713,97409,97458,101844,76958,78948,67055,85582],\"type\":\"bar\",\"xaxis\":\"x\",\"yaxis\":\"y\"},{\"marker\":{\"color\":\"lightsalmon\"},\"showlegend\":false,\"x\":[2018,2018,2018,2018,2018,2018,2019,2019,2019,2019,2019,2019,2019,2019,2019,2019,2019,2019,2020,2020,2021,2021,2021,2021],\"y\":[2001,2308,386,4196,11575,4670,2359,750,5019,2328,882,1046,656,717,517,772,1097,779,749,711,1471,1281,1642,1248],\"type\":\"bar\",\"xaxis\":\"x2\",\"yaxis\":\"y2\"},{\"marker\":{\"color\":\"goldenrod\"},\"showlegend\":false,\"x\":[2016,2016,2016,2016,2016,2016,2016,2016,2016,2016,2016,2016,2017,2017,2017,2017,2017,2017,2017,2017,2017,2017,2017,2017,2018,2018,2018,2018,2018,2018,2018,2018,2018,2018,2018,2018,2019,2019,2019,2019,2019,2019,2019,2019,2019,2019,2019,2019,2020,2020,2020,2020,2020,2020,2020,2020,2020,2020,2020,2020,2021,2021,2021,2021,2021,2021,2021,2021,2021],\"y\":[6549,4658,2574,2293,2498,1999,2454,4718,3944,2675,5300,4721,7148,9665,6349,5419,5028,5055,6009,6110,8330,6040,6823,7856,7379,16950,12678,11183,12669,12324,17640,19082,15022,9199,12089,12504,16291,16819,12180,11504,12816,16828,14448,19154,15161,11134,12284,15697,15833,25441,17592,15846,15455,16709,17465,16802,15414,14690,15896,14859,23545,37724,26302,33609,36102,18893,20278,16350,19715],\"type\":\"bar\",\"xaxis\":\"x3\",\"yaxis\":\"y3\"},{\"marker\":{\"color\":\"magenta\"},\"showlegend\":false,\"x\":[2019,2019,2019,2019,2019,2019,2019,2019,2019,2019,2019,2020,2020,2020,2020,2020,2020,2020,2020,2020,2020,2020,2020,2021,2021,2021,2021,2021,2021,2021,2021,2021],\"y\":[183444,80297,34908,18810,16172,36994,26277,20451,35911,18199,16665,18516,40721,29657,23571,41443,39771,32303,34654,34190,35300,60621,47741,49232,77134,82158,71523,91592,66390,63686,124985,95537],\"type\":\"bar\",\"xaxis\":\"x4\",\"yaxis\":\"y4\"},{\"marker\":{\"color\":\"green\"},\"showlegend\":false,\"x\":[2016,2016,2017,2017,2017,2017,2017,2017,2017,2017,2017,2017,2019,2019,2019],\"y\":[7408,2799,2342,1548,1102,1266,1043,942,1049,565,256,293,564,553,339],\"type\":\"bar\",\"xaxis\":\"x5\",\"yaxis\":\"y5\"},{\"marker\":{\"color\":\"yellow\"},\"showlegend\":false,\"x\":[2016,2016,2016,2016,2016,2016,2016,2016,2016,2016,2016,2016,2017,2017,2017,2017,2017,2017,2017,2017,2017,2017,2017,2018,2018,2018,2018,2018,2018,2018,2018],\"y\":[443,389,517,710,590,488,477,456,433,289,286,268,331,303,247,249,225,247,291,283,418,291,254,359,398,354,279,438,341,472,398],\"type\":\"bar\",\"xaxis\":\"x6\",\"yaxis\":\"y6\"}],                        {\"template\":{\"data\":{\"bar\":[{\"error_x\":{\"color\":\"#2a3f5f\"},\"error_y\":{\"color\":\"#2a3f5f\"},\"marker\":{\"line\":{\"color\":\"#E5ECF6\",\"width\":0.5},\"pattern\":{\"fillmode\":\"overlay\",\"size\":10,\"solidity\":0.2}},\"type\":\"bar\"}],\"barpolar\":[{\"marker\":{\"line\":{\"color\":\"#E5ECF6\",\"width\":0.5},\"pattern\":{\"fillmode\":\"overlay\",\"size\":10,\"solidity\":0.2}},\"type\":\"barpolar\"}],\"carpet\":[{\"aaxis\":{\"endlinecolor\":\"#2a3f5f\",\"gridcolor\":\"white\",\"linecolor\":\"white\",\"minorgridcolor\":\"white\",\"startlinecolor\":\"#2a3f5f\"},\"baxis\":{\"endlinecolor\":\"#2a3f5f\",\"gridcolor\":\"white\",\"linecolor\":\"white\",\"minorgridcolor\":\"white\",\"startlinecolor\":\"#2a3f5f\"},\"type\":\"carpet\"}],\"choropleth\":[{\"colorbar\":{\"outlinewidth\":0,\"ticks\":\"\"},\"type\":\"choropleth\"}],\"contour\":[{\"colorbar\":{\"outlinewidth\":0,\"ticks\":\"\"},\"colorscale\":[[0.0,\"#0d0887\"],[0.1111111111111111,\"#46039f\"],[0.2222222222222222,\"#7201a8\"],[0.3333333333333333,\"#9c179e\"],[0.4444444444444444,\"#bd3786\"],[0.5555555555555556,\"#d8576b\"],[0.6666666666666666,\"#ed7953\"],[0.7777777777777778,\"#fb9f3a\"],[0.8888888888888888,\"#fdca26\"],[1.0,\"#f0f921\"]],\"type\":\"contour\"}],\"contourcarpet\":[{\"colorbar\":{\"outlinewidth\":0,\"ticks\":\"\"},\"type\":\"contourcarpet\"}],\"heatmap\":[{\"colorbar\":{\"outlinewidth\":0,\"ticks\":\"\"},\"colorscale\":[[0.0,\"#0d0887\"],[0.1111111111111111,\"#46039f\"],[0.2222222222222222,\"#7201a8\"],[0.3333333333333333,\"#9c179e\"],[0.4444444444444444,\"#bd3786\"],[0.5555555555555556,\"#d8576b\"],[0.6666666666666666,\"#ed7953\"],[0.7777777777777778,\"#fb9f3a\"],[0.8888888888888888,\"#fdca26\"],[1.0,\"#f0f921\"]],\"type\":\"heatmap\"}],\"heatmapgl\":[{\"colorbar\":{\"outlinewidth\":0,\"ticks\":\"\"},\"colorscale\":[[0.0,\"#0d0887\"],[0.1111111111111111,\"#46039f\"],[0.2222222222222222,\"#7201a8\"],[0.3333333333333333,\"#9c179e\"],[0.4444444444444444,\"#bd3786\"],[0.5555555555555556,\"#d8576b\"],[0.6666666666666666,\"#ed7953\"],[0.7777777777777778,\"#fb9f3a\"],[0.8888888888888888,\"#fdca26\"],[1.0,\"#f0f921\"]],\"type\":\"heatmapgl\"}],\"histogram\":[{\"marker\":{\"pattern\":{\"fillmode\":\"overlay\",\"size\":10,\"solidity\":0.2}},\"type\":\"histogram\"}],\"histogram2d\":[{\"colorbar\":{\"outlinewidth\":0,\"ticks\":\"\"},\"colorscale\":[[0.0,\"#0d0887\"],[0.1111111111111111,\"#46039f\"],[0.2222222222222222,\"#7201a8\"],[0.3333333333333333,\"#9c179e\"],[0.4444444444444444,\"#bd3786\"],[0.5555555555555556,\"#d8576b\"],[0.6666666666666666,\"#ed7953\"],[0.7777777777777778,\"#fb9f3a\"],[0.8888888888888888,\"#fdca26\"],[1.0,\"#f0f921\"]],\"type\":\"histogram2d\"}],\"histogram2dcontour\":[{\"colorbar\":{\"outlinewidth\":0,\"ticks\":\"\"},\"colorscale\":[[0.0,\"#0d0887\"],[0.1111111111111111,\"#46039f\"],[0.2222222222222222,\"#7201a8\"],[0.3333333333333333,\"#9c179e\"],[0.4444444444444444,\"#bd3786\"],[0.5555555555555556,\"#d8576b\"],[0.6666666666666666,\"#ed7953\"],[0.7777777777777778,\"#fb9f3a\"],[0.8888888888888888,\"#fdca26\"],[1.0,\"#f0f921\"]],\"type\":\"histogram2dcontour\"}],\"mesh3d\":[{\"colorbar\":{\"outlinewidth\":0,\"ticks\":\"\"},\"type\":\"mesh3d\"}],\"parcoords\":[{\"line\":{\"colorbar\":{\"outlinewidth\":0,\"ticks\":\"\"}},\"type\":\"parcoords\"}],\"pie\":[{\"automargin\":true,\"type\":\"pie\"}],\"scatter\":[{\"marker\":{\"colorbar\":{\"outlinewidth\":0,\"ticks\":\"\"}},\"type\":\"scatter\"}],\"scatter3d\":[{\"line\":{\"colorbar\":{\"outlinewidth\":0,\"ticks\":\"\"}},\"marker\":{\"colorbar\":{\"outlinewidth\":0,\"ticks\":\"\"}},\"type\":\"scatter3d\"}],\"scattercarpet\":[{\"marker\":{\"colorbar\":{\"outlinewidth\":0,\"ticks\":\"\"}},\"type\":\"scattercarpet\"}],\"scattergeo\":[{\"marker\":{\"colorbar\":{\"outlinewidth\":0,\"ticks\":\"\"}},\"type\":\"scattergeo\"}],\"scattergl\":[{\"marker\":{\"colorbar\":{\"outlinewidth\":0,\"ticks\":\"\"}},\"type\":\"scattergl\"}],\"scattermapbox\":[{\"marker\":{\"colorbar\":{\"outlinewidth\":0,\"ticks\":\"\"}},\"type\":\"scattermapbox\"}],\"scatterpolar\":[{\"marker\":{\"colorbar\":{\"outlinewidth\":0,\"ticks\":\"\"}},\"type\":\"scatterpolar\"}],\"scatterpolargl\":[{\"marker\":{\"colorbar\":{\"outlinewidth\":0,\"ticks\":\"\"}},\"type\":\"scatterpolargl\"}],\"scatterternary\":[{\"marker\":{\"colorbar\":{\"outlinewidth\":0,\"ticks\":\"\"}},\"type\":\"scatterternary\"}],\"surface\":[{\"colorbar\":{\"outlinewidth\":0,\"ticks\":\"\"},\"colorscale\":[[0.0,\"#0d0887\"],[0.1111111111111111,\"#46039f\"],[0.2222222222222222,\"#7201a8\"],[0.3333333333333333,\"#9c179e\"],[0.4444444444444444,\"#bd3786\"],[0.5555555555555556,\"#d8576b\"],[0.6666666666666666,\"#ed7953\"],[0.7777777777777778,\"#fb9f3a\"],[0.8888888888888888,\"#fdca26\"],[1.0,\"#f0f921\"]],\"type\":\"surface\"}],\"table\":[{\"cells\":{\"fill\":{\"color\":\"#EBF0F8\"},\"line\":{\"color\":\"white\"}},\"header\":{\"fill\":{\"color\":\"#C8D4E3\"},\"line\":{\"color\":\"white\"}},\"type\":\"table\"}]},\"layout\":{\"annotationdefaults\":{\"arrowcolor\":\"#2a3f5f\",\"arrowhead\":0,\"arrowwidth\":1},\"autotypenumbers\":\"strict\",\"coloraxis\":{\"colorbar\":{\"outlinewidth\":0,\"ticks\":\"\"}},\"colorscale\":{\"diverging\":[[0,\"#8e0152\"],[0.1,\"#c51b7d\"],[0.2,\"#de77ae\"],[0.3,\"#f1b6da\"],[0.4,\"#fde0ef\"],[0.5,\"#f7f7f7\"],[0.6,\"#e6f5d0\"],[0.7,\"#b8e186\"],[0.8,\"#7fbc41\"],[0.9,\"#4d9221\"],[1,\"#276419\"]],\"sequential\":[[0.0,\"#0d0887\"],[0.1111111111111111,\"#46039f\"],[0.2222222222222222,\"#7201a8\"],[0.3333333333333333,\"#9c179e\"],[0.4444444444444444,\"#bd3786\"],[0.5555555555555556,\"#d8576b\"],[0.6666666666666666,\"#ed7953\"],[0.7777777777777778,\"#fb9f3a\"],[0.8888888888888888,\"#fdca26\"],[1.0,\"#f0f921\"]],\"sequentialminus\":[[0.0,\"#0d0887\"],[0.1111111111111111,\"#46039f\"],[0.2222222222222222,\"#7201a8\"],[0.3333333333333333,\"#9c179e\"],[0.4444444444444444,\"#bd3786\"],[0.5555555555555556,\"#d8576b\"],[0.6666666666666666,\"#ed7953\"],[0.7777777777777778,\"#fb9f3a\"],[0.8888888888888888,\"#fdca26\"],[1.0,\"#f0f921\"]]},\"colorway\":[\"#636efa\",\"#EF553B\",\"#00cc96\",\"#ab63fa\",\"#FFA15A\",\"#19d3f3\",\"#FF6692\",\"#B6E880\",\"#FF97FF\",\"#FECB52\"],\"font\":{\"color\":\"#2a3f5f\"},\"geo\":{\"bgcolor\":\"white\",\"lakecolor\":\"white\",\"landcolor\":\"#E5ECF6\",\"showlakes\":true,\"showland\":true,\"subunitcolor\":\"white\"},\"hoverlabel\":{\"align\":\"left\"},\"hovermode\":\"closest\",\"mapbox\":{\"style\":\"light\"},\"paper_bgcolor\":\"white\",\"plot_bgcolor\":\"#E5ECF6\",\"polar\":{\"angularaxis\":{\"gridcolor\":\"white\",\"linecolor\":\"white\",\"ticks\":\"\"},\"bgcolor\":\"#E5ECF6\",\"radialaxis\":{\"gridcolor\":\"white\",\"linecolor\":\"white\",\"ticks\":\"\"}},\"scene\":{\"xaxis\":{\"backgroundcolor\":\"#E5ECF6\",\"gridcolor\":\"white\",\"gridwidth\":2,\"linecolor\":\"white\",\"showbackground\":true,\"ticks\":\"\",\"zerolinecolor\":\"white\"},\"yaxis\":{\"backgroundcolor\":\"#E5ECF6\",\"gridcolor\":\"white\",\"gridwidth\":2,\"linecolor\":\"white\",\"showbackground\":true,\"ticks\":\"\",\"zerolinecolor\":\"white\"},\"zaxis\":{\"backgroundcolor\":\"#E5ECF6\",\"gridcolor\":\"white\",\"gridwidth\":2,\"linecolor\":\"white\",\"showbackground\":true,\"ticks\":\"\",\"zerolinecolor\":\"white\"}},\"shapedefaults\":{\"line\":{\"color\":\"#2a3f5f\"}},\"ternary\":{\"aaxis\":{\"gridcolor\":\"white\",\"linecolor\":\"white\",\"ticks\":\"\"},\"baxis\":{\"gridcolor\":\"white\",\"linecolor\":\"white\",\"ticks\":\"\"},\"bgcolor\":\"#E5ECF6\",\"caxis\":{\"gridcolor\":\"white\",\"linecolor\":\"white\",\"ticks\":\"\"}},\"title\":{\"x\":0.05},\"xaxis\":{\"automargin\":true,\"gridcolor\":\"white\",\"linecolor\":\"white\",\"ticks\":\"\",\"title\":{\"standoff\":15},\"zerolinecolor\":\"white\",\"zerolinewidth\":2},\"yaxis\":{\"automargin\":true,\"gridcolor\":\"white\",\"linecolor\":\"white\",\"ticks\":\"\",\"title\":{\"standoff\":15},\"zerolinecolor\":\"white\",\"zerolinewidth\":2}}},\"xaxis\":{\"anchor\":\"y\",\"domain\":[0.0,0.45]},\"yaxis\":{\"anchor\":\"x\",\"domain\":[0.7777777777777778,1.0]},\"xaxis2\":{\"anchor\":\"y2\",\"domain\":[0.55,1.0]},\"yaxis2\":{\"anchor\":\"x2\",\"domain\":[0.7777777777777778,1.0]},\"xaxis3\":{\"anchor\":\"y3\",\"domain\":[0.0,0.45]},\"yaxis3\":{\"anchor\":\"x3\",\"domain\":[0.3888888888888889,0.6111111111111112]},\"xaxis4\":{\"anchor\":\"y4\",\"domain\":[0.55,1.0]},\"yaxis4\":{\"anchor\":\"x4\",\"domain\":[0.3888888888888889,0.6111111111111112]},\"xaxis5\":{\"anchor\":\"y5\",\"domain\":[0.0,0.45]},\"yaxis5\":{\"anchor\":\"x5\",\"domain\":[0.0,0.22222222222222224]},\"xaxis6\":{\"anchor\":\"y6\",\"domain\":[0.55,1.0]},\"yaxis6\":{\"anchor\":\"x6\",\"domain\":[0.0,0.22222222222222224]},\"annotations\":[{\"font\":{\"size\":16},\"showarrow\":false,\"text\":\"Counter Strike: Global Offensive\",\"x\":0.225,\"xanchor\":\"center\",\"xref\":\"paper\",\"y\":1.0,\"yanchor\":\"bottom\",\"yref\":\"paper\"},{\"font\":{\"size\":16},\"showarrow\":false,\"text\":\"Battlefield V\",\"x\":0.775,\"xanchor\":\"center\",\"xref\":\"paper\",\"y\":1.0,\"yanchor\":\"bottom\",\"yref\":\"paper\"},{\"font\":{\"size\":16},\"showarrow\":false,\"text\":\"Tom Clancy's Rainbow Six Siege\",\"x\":0.225,\"xanchor\":\"center\",\"xref\":\"paper\",\"y\":0.6111111111111112,\"yanchor\":\"bottom\",\"yref\":\"paper\"},{\"font\":{\"size\":16},\"showarrow\":false,\"text\":\"Apex Legends\",\"x\":0.775,\"xanchor\":\"center\",\"xref\":\"paper\",\"y\":0.6111111111111112,\"yanchor\":\"bottom\",\"yref\":\"paper\"},{\"font\":{\"size\":16},\"showarrow\":false,\"text\":\"Call of Duty: Modern Warfare Remastered\",\"x\":0.225,\"xanchor\":\"center\",\"xref\":\"paper\",\"y\":0.22222222222222224,\"yanchor\":\"bottom\",\"yref\":\"paper\"},{\"font\":{\"size\":16},\"showarrow\":false,\"text\":\"Team Fortress 2\",\"x\":0.775,\"xanchor\":\"center\",\"xref\":\"paper\",\"y\":0.22222222222222224,\"yanchor\":\"bottom\",\"yref\":\"paper\"}],\"barmode\":\"group\",\"height\":1500,\"title\":{\"text\":\"Average viewers on twitch\"}},                        {\"responsive\": true}                    ).then(function(){\n",
       "                            \n",
       "var gd = document.getElementById('096d8c9e-d5df-49a2-98ec-46c64fda4a67');\n",
       "var x = new MutationObserver(function (mutations, observer) {{\n",
       "        var display = window.getComputedStyle(gd).display;\n",
       "        if (!display || display === 'none') {{\n",
       "            console.log([gd, 'removed!']);\n",
       "            Plotly.purge(gd);\n",
       "            observer.disconnect();\n",
       "        }}\n",
       "}});\n",
       "\n",
       "// Listen for the removal of the full notebook cells\n",
       "var notebookContainer = gd.closest('#notebook-container');\n",
       "if (notebookContainer) {{\n",
       "    x.observe(notebookContainer, {childList: true});\n",
       "}}\n",
       "\n",
       "// Listen for the clearing of the current output cell\n",
       "var outputEl = gd.closest('.output');\n",
       "if (outputEl) {{\n",
       "    x.observe(outputEl, {childList: true});\n",
       "}}\n",
       "\n",
       "                        })                };                });            </script>        </div>"
      ]
     },
     "metadata": {},
     "output_type": "display_data"
    }
   ],
   "source": [
    "fig = make_subplots(rows=3,cols=2, subplot_titles=('Counter Strike: Global Offensive','Battlefield V',\"Tom Clancy's Rainbow Six Siege\",\"Apex Legends\",\"Call of Duty: Modern Warfare Remastered\",\"Team Fortress 2\"))\n",
    "\n",
    "\n",
    "fig.add_trace(go.Bar(x=csgo_t['Year'],y=csgo_t['Avg_viewers'], marker_color='blue',showlegend=False),row=1,col=1)\n",
    "fig.add_trace(go.Bar(x=bf['Year'],y=bf['Avg_viewers'], marker_color='lightsalmon',showlegend=False),row=1,col=2)\n",
    "fig.add_trace(go.Bar(x=rss['Year'],y=rss['Avg_viewers'], marker_color='goldenrod',showlegend=False),row=2,col=1)\n",
    "fig.add_trace(go.Bar(x=apx['Year'],y=apx['Avg_viewers'], marker_color='magenta',showlegend=False),row=2,col=2)\n",
    "fig.add_trace(go.Bar(x=cod['Year'],y=cod['Avg_viewers'], marker_color='green',showlegend=False),row=3,col=1)\n",
    "fig.add_trace(go.Bar(x=tf2['Year'],y=tf2['Avg_viewers'], marker_color='yellow',showlegend=False),row=3,col=2)\n",
    "fig.update_layout(barmode='group', height=1500, title='Average viewers on twitch')\n",
    "fig.show()"
   ]
  },
  {
   "cell_type": "code",
   "execution_count": 187,
   "id": "1439b89f",
   "metadata": {
    "scrolled": false
   },
   "outputs": [
    {
     "data": {
      "application/vnd.plotly.v1+json": {
       "config": {
        "plotlyServerURL": "https://plot.ly"
       },
       "data": [
        {
         "type": "scatter",
         "visible": false,
         "x": [
          "September 2021",
          "August 2021",
          "July 2021",
          "June 2021",
          "May 2021",
          "April 2021",
          "March 2021",
          "February 2021",
          "January 2021",
          "December 2020",
          "November 2020"
         ],
         "y": [
          139647.96,
          169528.17,
          131151.07,
          136439.9,
          164238.01,
          124905.13,
          126121.06,
          120982.64,
          71766.74,
          64469.75,
          74957.26
         ]
        },
        {
         "type": "scatter",
         "visible": false,
         "x": [
          "September 2021",
          "August 2021",
          "July 2021",
          "June 2021",
          "May 2021",
          "April 2021",
          "March 2021",
          "February 2021",
          "January 2021",
          "December 2020",
          "November 2020",
          "October 2020",
          "September 2020",
          "August 2020",
          "July 2020",
          "June 2020",
          "May 2020",
          "April 2020",
          "March 2020",
          "February 2020",
          "January 2020",
          "December 2019",
          "November 2019",
          "October 2019",
          "September 2019",
          "August 2019",
          "July 2019",
          "June 2019",
          "May 2019",
          "April 2019",
          "March 2019",
          "February 2019",
          "January 2019",
          "December 2018",
          "November 2018",
          "October 2018",
          "September 2018",
          "August 2018",
          "July 2018",
          "June 2018",
          "May 2018",
          "April 2018",
          "March 2018",
          "February 2018",
          "January 2018",
          "December 2017",
          "November 2017",
          "October 2017",
          "September 2017",
          "August 2017",
          "July 2017",
          "June 2017",
          "May 2017",
          "April 2017",
          "March 2017",
          "February 2017",
          "January 2017",
          "December 2016",
          "November 2016",
          "October 2016",
          "September 2016",
          "August 2016",
          "July 2016",
          "June 2016",
          "May 2016",
          "April 2016",
          "March 2016",
          "February 2016",
          "January 2016",
          "December 2015",
          "November 2015",
          "October 2015",
          "September 2015",
          "August 2015",
          "July 2015",
          "June 2015",
          "May 2015",
          "April 2015",
          "March 2015",
          "February 2015",
          "January 2015",
          "December 2014",
          "November 2014",
          "October 2014",
          "September 2014",
          "August 2014",
          "July 2014",
          "June 2014",
          "May 2014",
          "April 2014",
          "March 2014",
          "February 2014",
          "January 2014",
          "December 2013",
          "November 2013",
          "October 2013",
          "September 2013",
          "August 2013",
          "July 2013",
          "June 2013",
          "May 2013",
          "April 2013",
          "March 2013"
         ],
         "y": [
          12649.78,
          12916.22,
          12663.09,
          13484.32,
          17034.21,
          13033.41,
          14015.61,
          14936.52,
          14895.53,
          13000.72,
          13865.44,
          13527.22,
          12704.13,
          13028.78,
          13064.12,
          13115.92,
          15997.56,
          20266.15,
          15215.53,
          13315.19,
          14703.42,
          11582.87,
          10560.82,
          11322.27,
          11868.67,
          13453.36,
          15265.03,
          14224.79,
          14208.4,
          13709.37,
          14236.16,
          15489.4,
          15240.37,
          13554.29,
          12553.3,
          13344.9,
          14092.26,
          15122.97,
          18384.53,
          16570.32,
          17053.25,
          17805.57,
          16973.89,
          17231.97,
          18554.58,
          19255.64,
          16523.87,
          16441.33,
          17987.81,
          17978.11,
          22120.46,
          22154.2,
          20712.67,
          23377.49,
          22288.46,
          23539.08,
          26972.14,
          22325.52,
          19925.98,
          20388.75,
          20145.21,
          23049.68,
          26615.05,
          25285.16,
          22853.94,
          20292.43,
          21733.23,
          22624.93,
          22559.44,
          18762.1,
          15455.16,
          18194.68,
          16961.56,
          17880.84,
          16640.41,
          15747.85,
          18296.94,
          18515.7,
          18379.59,
          18204.75,
          20312.78,
          16063.91,
          14851.33,
          14953.38,
          12314.47,
          13716.06,
          13880.36,
          12954.47,
          15018.79,
          12799.79,
          10957.15,
          8510.84,
          6235.41,
          4236.78,
          4082.34,
          4077.82,
          5617.36,
          3296.68,
          3029.51,
          3072.94,
          1735.06,
          2035.86,
          4745.97
         ]
        },
        {
         "type": "scatter",
         "visible": false,
         "x": [
          "September 2021",
          "October 2021",
          "November 2021",
          "December 2021",
          "January 2021",
          "February 2021"
         ],
         "y": [
          105397,
          57186,
          47883,
          19328,
          13574,
          8078
         ]
        },
        {
         "type": "scatter",
         "visible": true,
         "x": [
          "September 2021",
          "August 2021",
          "July 2021",
          "June 2021",
          "May 2021",
          "April 2021",
          "March 2021",
          "February 2021",
          "January 2021",
          "December 2020",
          "November 2020",
          "October 2020",
          "September 2020",
          "August 2020",
          "July 2020",
          "June 2020",
          "May 2020",
          "April 2020",
          "March 2020",
          "February 2020",
          "January 2020",
          "December 2019",
          "November 2019",
          "October 2019",
          "September 2019",
          "August 2019",
          "July 2019",
          "June 2019",
          "May 2019",
          "April 2019",
          "March 2019",
          "February 2019",
          "January 2019",
          "December 2018",
          "November 2018",
          "October 2018",
          "September 2018",
          "August 2018",
          "July 2018",
          "June 2018",
          "May 2018",
          "April 2018",
          "March 2018",
          "February 2018",
          "January 2018",
          "December 2017",
          "November 2017",
          "October 2017",
          "September 2017",
          "August 2017",
          "July 2017",
          "June 2017",
          "May 2017",
          "April 2017",
          "March 2017",
          "February 2017",
          "January 2017",
          "December 2016",
          "November 2016",
          "October 2016",
          "September 2016",
          "August 2016",
          "July 2016",
          "June 2016",
          "May 2016",
          "April 2016",
          "March 2016",
          "February 2016",
          "January 2016",
          "December 2015",
          "November 2015",
          "October 2015",
          "September 2015",
          "August 2015",
          "July 2015",
          "June 2015",
          "May 2015",
          "April 2015",
          "March 2015",
          "February 2015",
          "January 2015",
          "December 2014",
          "November 2014",
          "October 2014",
          "September 2014",
          "August 2014",
          "July 2014",
          "June 2014",
          "May 2014",
          "April 2014",
          "March 2014",
          "February 2014",
          "January 2014",
          "December 2013",
          "November 2013",
          "October 2013",
          "September 2013",
          "August 2013",
          "July 2013",
          "June 2013",
          "May 2013",
          "April 2013",
          "March 2013",
          "February 2013",
          "January 2013",
          "December 2012",
          "November 2012",
          "October 2012",
          "September 2012",
          "August 2012",
          "July 2012"
         ],
         "y": [
          512350.92,
          512081.96,
          506067.36,
          549347.08,
          659888.89,
          723346.52,
          740927.82,
          741013.24,
          743209.66,
          717803.75,
          668754.58,
          613666.69,
          606850.32,
          639957.66,
          625900.81,
          671647.46,
          768795.25,
          857604.22,
          671033.29,
          543979.15,
          501196,
          456701.56,
          426080.81,
          408995.31,
          410925.6,
          415097.3,
          393782.83,
          389376.72,
          364417.31,
          351989.92,
          390240.16,
          371358.96,
          401366.87,
          395509.26,
          310085.43,
          325907.82,
          333163.99,
          283531.31,
          273307.26,
          266862.24,
          262170.88,
          289076.7,
          354270.33,
          382457.1,
          382030.53,
          340876.88,
          321131.4,
          341861.26,
          354402.09,
          374425.69,
          377589.04,
          374388.04,
          371829.34,
          392199.19,
          386908.72,
          402385.71,
          393109.53,
          342195.7,
          329045.26,
          333076.46,
          322525.89,
          347229.25,
          353777.56,
          334311.06,
          338738.39,
          375795.87,
          379426.95,
          376285.02,
          365371.09,
          377447.11,
          360925.88,
          362766.09,
          355905.33,
          357535.24,
          329532.38,
          344156.01,
          317286.29,
          291748.74,
          267996.31,
          239934.64,
          234070.68,
          183589.5,
          147329.07,
          133537.7,
          131034.68,
          133185.79,
          106138,
          84163.62,
          84925.02,
          78880.53,
          70143.33,
          59791.37,
          55627.35,
          46788.27,
          29890.52,
          27902.14,
          27678.91,
          25961.85,
          20492.52,
          18119.84,
          18710.34,
          16006,
          15959.89,
          17372.73,
          16164.22,
          14079.39,
          14134.1,
          10739.48,
          16000.75,
          15475.39,
          932.57
         ]
        },
        {
         "type": "scatter",
         "visible": false,
         "x": [
          "September 2021",
          "August 2021",
          "July 2021",
          "June 2021",
          "May 2021",
          "April 2021",
          "March 2021",
          "February 2021",
          "January 2021",
          "December 2020",
          "November 2020",
          "October 2020",
          "September 2020",
          "August 2020",
          "July 2020",
          "June 2020",
          "May 2020",
          "April 2020",
          "March 2020",
          "February 2020",
          "January 2020",
          "December 2019",
          "November 2019",
          "October 2019",
          "September 2019",
          "August 2019",
          "July 2019",
          "June 2019",
          "May 2019",
          "April 2019",
          "March 2019",
          "February 2019",
          "January 2019",
          "December 2018",
          "November 2018",
          "October 2018",
          "September 2018",
          "August 2018",
          "July 2018",
          "June 2018",
          "May 2018",
          "April 2018",
          "March 2018",
          "February 2018",
          "January 2018",
          "December 2017",
          "November 2017",
          "October 2017",
          "September 2017",
          "August 2017",
          "July 2017",
          "June 2017",
          "May 2017",
          "April 2017",
          "March 2017"
         ],
         "y": [
          167102.12,
          184828.4,
          186249.97,
          179338.27,
          184701.21,
          186110.65,
          193114.18,
          198957.52,
          201247.19,
          189233.58,
          179520.26,
          162585.64,
          169093.71,
          192492.61,
          211700.3,
          230329.74,
          243258.78,
          242847.28,
          228467.17,
          257584.32,
          275363.04,
          308445.45,
          305659.39,
          287133.41,
          311444.31,
          358530.96,
          352888.88,
          363083.37,
          385840.59,
          390100.9,
          417812.51,
          437959.1,
          497803.25,
          473541.26,
          418159.48,
          469141.74,
          542607.05,
          619320.48,
          688620.42,
          800668.23,
          876180.64,
          1107181.8,
          1295408.59,
          1391015.3,
          1584886.77,
          1436158.51,
          1334170.09,
          1086638.87,
          660192.74,
          389527.42,
          229701.7,
          139902.24,
          107441.6,
          69794.98,
          17551.14
         ]
        },
        {
         "type": "scatter",
         "visible": false,
         "x": [
          "September 2021",
          "August 2021",
          "July 2021",
          "June 2021",
          "May 2021",
          "April 2021",
          "March 2021",
          "February 2021",
          "January 2021",
          "December 2020",
          "November 2020",
          "October 2020",
          "September 2020",
          "August 2020",
          "July 2020",
          "June 2020",
          "May 2020",
          "April 2020",
          "March 2020",
          "February 2020",
          "January 2020",
          "December 2019",
          "November 2019",
          "October 2019",
          "September 2019",
          "August 2019",
          "July 2019",
          "June 2019",
          "May 2019",
          "April 2019",
          "March 2019",
          "February 2019",
          "January 2019",
          "December 2018",
          "November 2018",
          "October 2018",
          "September 2018",
          "August 2018",
          "July 2018",
          "June 2018",
          "May 2018",
          "April 2018",
          "March 2018",
          "February 2018",
          "January 2018",
          "December 2017",
          "November 2017",
          "October 2017",
          "September 2017",
          "August 2017",
          "July 2017",
          "June 2017",
          "May 2017",
          "April 2017",
          "March 2017",
          "February 2017",
          "January 2017",
          "December 2016",
          "November 2016",
          "October 2016",
          "September 2016",
          "August 2016",
          "July 2016",
          "June 2016",
          "May 2016",
          "April 2016",
          "March 2016",
          "February 2016",
          "January 2016",
          "December 2015",
          "November 2015",
          "October 2015",
          "September 2015",
          "August 2015",
          "July 2015",
          "June 2015",
          "May 2015",
          "April 2015",
          "March 2015",
          "February 2015",
          "January 2015",
          "December 2014",
          "November 2014",
          "October 2014",
          "September 2014",
          "August 2014",
          "July 2014",
          "June 2014",
          "May 2014",
          "April 2014",
          "March 2014",
          "February 2014",
          "January 2014",
          "December 2013",
          "November 2013",
          "October 2013",
          "September 2013",
          "August 2013",
          "July 2013",
          "June 2013",
          "May 2013",
          "April 2013",
          "March 2013",
          "February 2013",
          "January 2013",
          "December 2012",
          "November 2012",
          "October 2012",
          "September 2012",
          "August 2012",
          "July 2012"
         ],
         "y": [
          81854.01,
          75015.97,
          85157.49,
          106222.95,
          89532.22,
          88187,
          88703.56,
          101230.91,
          83148.17,
          82423.51,
          70304.79,
          73594.08,
          68866.24,
          66943.58,
          69301.89,
          65169.91,
          66393.8,
          67187.12,
          67978.93,
          60109.05,
          59597.88,
          61695.9,
          50315.89,
          51993.93,
          48332.88,
          45544.88,
          49538.99,
          43002.54,
          39076.92,
          42505.05,
          45940.01,
          47707.59,
          50511.29,
          50592.4,
          53084.17,
          48766.22,
          41002.12,
          43632.35,
          46149.36,
          44207.43,
          38847.02,
          39180.46,
          36781.88,
          37715.11,
          53432.1,
          51816.11,
          52270.09,
          54963.29,
          50985.18,
          52992.48,
          51861.41,
          52408.06,
          50126.01,
          51733.52,
          49483.19,
          51787.36,
          52436.19,
          50140.76,
          46904.24,
          45910.06,
          48541.21,
          53742.49,
          54459.35,
          51362.73,
          49804.41,
          51434.75,
          52754.37,
          52864.72,
          52763.52,
          52972.94,
          52145.23,
          55256.59,
          55776.77,
          60484.79,
          60778.74,
          56344.56,
          55586.91,
          54533.01,
          54117.72,
          56469.57,
          58550.38,
          58391.58,
          56732.74,
          57976.98,
          55091.58,
          59228.78,
          56704.31,
          53342.72,
          47900.26,
          49671.2,
          49145.6,
          49817.43,
          50662.31,
          47901.53,
          44536.35,
          42808.16,
          43714.36,
          50324.72,
          48700.77,
          50739.88,
          44632.91,
          41942.51,
          43336.2,
          43210.75,
          44255.06,
          43623.98,
          42498.53,
          46978.7,
          50699.07,
          61561.37,
          45566.9
         ]
        },
        {
         "type": "scatter",
         "visible": false,
         "x": [
          "September 2021",
          "August 2021",
          "July 2021",
          "June 2021",
          "May 2021",
          "April 2021",
          "March 2021",
          "February 2021",
          "January 2021",
          "December 2020",
          "November 2020",
          "October 2020",
          "September 2020",
          "August 2020",
          "July 2020",
          "June 2020",
          "May 2020",
          "April 2020",
          "March 2020",
          "February 2020",
          "January 2020",
          "December 2019",
          "November 2019",
          "October 2019",
          "September 2019",
          "August 2019",
          "July 2019",
          "June 2019",
          "May 2019",
          "April 2019",
          "March 2019",
          "February 2019",
          "January 2019",
          "December 2018",
          "November 2018",
          "October 2018",
          "September 2018",
          "August 2018",
          "July 2018",
          "June 2018",
          "May 2018",
          "April 2018",
          "March 2018",
          "February 2018",
          "January 2018",
          "December 2017",
          "November 2017",
          "October 2017",
          "September 2017",
          "August 2017",
          "July 2017",
          "June 2017",
          "May 2017",
          "April 2017",
          "March 2017",
          "February 2017",
          "January 2017",
          "December 2016",
          "November 2016",
          "October 2016",
          "September 2016",
          "August 2016",
          "July 2016",
          "June 2016",
          "May 2016",
          "April 2016",
          "March 2016",
          "February 2016",
          "January 2016",
          "December 2015"
         ],
         "y": [
          51139.69,
          49906.2,
          53474.02,
          54960.64,
          58274.07,
          74616.41,
          85157.21,
          72382.76,
          77717.42,
          70721.5,
          55307.46,
          62956.21,
          75543.34,
          68205.26,
          76279.2,
          70200.51,
          80099.3,
          108514.57,
          119877.88,
          97667.34,
          94185.78,
          78228.73,
          66499.28,
          65632.48,
          77922.76,
          73956.28,
          77411.07,
          78059.34,
          59172.09,
          61351.45,
          69588.02,
          72997.66,
          79175.76,
          70865.32,
          57902.93,
          62428.64,
          73676.87,
          73816.38,
          68241,
          66376.81,
          63092.81,
          64263.44,
          83112.29,
          68796.24,
          63474.82,
          59411.66,
          41483.67,
          31618.81,
          36448.87,
          33923.18,
          28378.64,
          24083.72,
          23804.07,
          24975.95,
          26079.63,
          30568.27,
          20706.7,
          17176.87,
          15355.49,
          10591.93,
          10411.69,
          13971.23,
          10854.23,
          9002.74,
          7069.7,
          7643.56,
          6125.46,
          9263.47,
          10244.29,
          7941.45
         ]
        }
       ],
       "layout": {
        "showlegend": false,
        "template": {
         "data": {
          "bar": [
           {
            "error_x": {
             "color": "#2a3f5f"
            },
            "error_y": {
             "color": "#2a3f5f"
            },
            "marker": {
             "line": {
              "color": "#E5ECF6",
              "width": 0.5
             },
             "pattern": {
              "fillmode": "overlay",
              "size": 10,
              "solidity": 0.2
             }
            },
            "type": "bar"
           }
          ],
          "barpolar": [
           {
            "marker": {
             "line": {
              "color": "#E5ECF6",
              "width": 0.5
             },
             "pattern": {
              "fillmode": "overlay",
              "size": 10,
              "solidity": 0.2
             }
            },
            "type": "barpolar"
           }
          ],
          "carpet": [
           {
            "aaxis": {
             "endlinecolor": "#2a3f5f",
             "gridcolor": "white",
             "linecolor": "white",
             "minorgridcolor": "white",
             "startlinecolor": "#2a3f5f"
            },
            "baxis": {
             "endlinecolor": "#2a3f5f",
             "gridcolor": "white",
             "linecolor": "white",
             "minorgridcolor": "white",
             "startlinecolor": "#2a3f5f"
            },
            "type": "carpet"
           }
          ],
          "choropleth": [
           {
            "colorbar": {
             "outlinewidth": 0,
             "ticks": ""
            },
            "type": "choropleth"
           }
          ],
          "contour": [
           {
            "colorbar": {
             "outlinewidth": 0,
             "ticks": ""
            },
            "colorscale": [
             [
              0,
              "#0d0887"
             ],
             [
              0.1111111111111111,
              "#46039f"
             ],
             [
              0.2222222222222222,
              "#7201a8"
             ],
             [
              0.3333333333333333,
              "#9c179e"
             ],
             [
              0.4444444444444444,
              "#bd3786"
             ],
             [
              0.5555555555555556,
              "#d8576b"
             ],
             [
              0.6666666666666666,
              "#ed7953"
             ],
             [
              0.7777777777777778,
              "#fb9f3a"
             ],
             [
              0.8888888888888888,
              "#fdca26"
             ],
             [
              1,
              "#f0f921"
             ]
            ],
            "type": "contour"
           }
          ],
          "contourcarpet": [
           {
            "colorbar": {
             "outlinewidth": 0,
             "ticks": ""
            },
            "type": "contourcarpet"
           }
          ],
          "heatmap": [
           {
            "colorbar": {
             "outlinewidth": 0,
             "ticks": ""
            },
            "colorscale": [
             [
              0,
              "#0d0887"
             ],
             [
              0.1111111111111111,
              "#46039f"
             ],
             [
              0.2222222222222222,
              "#7201a8"
             ],
             [
              0.3333333333333333,
              "#9c179e"
             ],
             [
              0.4444444444444444,
              "#bd3786"
             ],
             [
              0.5555555555555556,
              "#d8576b"
             ],
             [
              0.6666666666666666,
              "#ed7953"
             ],
             [
              0.7777777777777778,
              "#fb9f3a"
             ],
             [
              0.8888888888888888,
              "#fdca26"
             ],
             [
              1,
              "#f0f921"
             ]
            ],
            "type": "heatmap"
           }
          ],
          "heatmapgl": [
           {
            "colorbar": {
             "outlinewidth": 0,
             "ticks": ""
            },
            "colorscale": [
             [
              0,
              "#0d0887"
             ],
             [
              0.1111111111111111,
              "#46039f"
             ],
             [
              0.2222222222222222,
              "#7201a8"
             ],
             [
              0.3333333333333333,
              "#9c179e"
             ],
             [
              0.4444444444444444,
              "#bd3786"
             ],
             [
              0.5555555555555556,
              "#d8576b"
             ],
             [
              0.6666666666666666,
              "#ed7953"
             ],
             [
              0.7777777777777778,
              "#fb9f3a"
             ],
             [
              0.8888888888888888,
              "#fdca26"
             ],
             [
              1,
              "#f0f921"
             ]
            ],
            "type": "heatmapgl"
           }
          ],
          "histogram": [
           {
            "marker": {
             "pattern": {
              "fillmode": "overlay",
              "size": 10,
              "solidity": 0.2
             }
            },
            "type": "histogram"
           }
          ],
          "histogram2d": [
           {
            "colorbar": {
             "outlinewidth": 0,
             "ticks": ""
            },
            "colorscale": [
             [
              0,
              "#0d0887"
             ],
             [
              0.1111111111111111,
              "#46039f"
             ],
             [
              0.2222222222222222,
              "#7201a8"
             ],
             [
              0.3333333333333333,
              "#9c179e"
             ],
             [
              0.4444444444444444,
              "#bd3786"
             ],
             [
              0.5555555555555556,
              "#d8576b"
             ],
             [
              0.6666666666666666,
              "#ed7953"
             ],
             [
              0.7777777777777778,
              "#fb9f3a"
             ],
             [
              0.8888888888888888,
              "#fdca26"
             ],
             [
              1,
              "#f0f921"
             ]
            ],
            "type": "histogram2d"
           }
          ],
          "histogram2dcontour": [
           {
            "colorbar": {
             "outlinewidth": 0,
             "ticks": ""
            },
            "colorscale": [
             [
              0,
              "#0d0887"
             ],
             [
              0.1111111111111111,
              "#46039f"
             ],
             [
              0.2222222222222222,
              "#7201a8"
             ],
             [
              0.3333333333333333,
              "#9c179e"
             ],
             [
              0.4444444444444444,
              "#bd3786"
             ],
             [
              0.5555555555555556,
              "#d8576b"
             ],
             [
              0.6666666666666666,
              "#ed7953"
             ],
             [
              0.7777777777777778,
              "#fb9f3a"
             ],
             [
              0.8888888888888888,
              "#fdca26"
             ],
             [
              1,
              "#f0f921"
             ]
            ],
            "type": "histogram2dcontour"
           }
          ],
          "mesh3d": [
           {
            "colorbar": {
             "outlinewidth": 0,
             "ticks": ""
            },
            "type": "mesh3d"
           }
          ],
          "parcoords": [
           {
            "line": {
             "colorbar": {
              "outlinewidth": 0,
              "ticks": ""
             }
            },
            "type": "parcoords"
           }
          ],
          "pie": [
           {
            "automargin": true,
            "type": "pie"
           }
          ],
          "scatter": [
           {
            "marker": {
             "colorbar": {
              "outlinewidth": 0,
              "ticks": ""
             }
            },
            "type": "scatter"
           }
          ],
          "scatter3d": [
           {
            "line": {
             "colorbar": {
              "outlinewidth": 0,
              "ticks": ""
             }
            },
            "marker": {
             "colorbar": {
              "outlinewidth": 0,
              "ticks": ""
             }
            },
            "type": "scatter3d"
           }
          ],
          "scattercarpet": [
           {
            "marker": {
             "colorbar": {
              "outlinewidth": 0,
              "ticks": ""
             }
            },
            "type": "scattercarpet"
           }
          ],
          "scattergeo": [
           {
            "marker": {
             "colorbar": {
              "outlinewidth": 0,
              "ticks": ""
             }
            },
            "type": "scattergeo"
           }
          ],
          "scattergl": [
           {
            "marker": {
             "colorbar": {
              "outlinewidth": 0,
              "ticks": ""
             }
            },
            "type": "scattergl"
           }
          ],
          "scattermapbox": [
           {
            "marker": {
             "colorbar": {
              "outlinewidth": 0,
              "ticks": ""
             }
            },
            "type": "scattermapbox"
           }
          ],
          "scatterpolar": [
           {
            "marker": {
             "colorbar": {
              "outlinewidth": 0,
              "ticks": ""
             }
            },
            "type": "scatterpolar"
           }
          ],
          "scatterpolargl": [
           {
            "marker": {
             "colorbar": {
              "outlinewidth": 0,
              "ticks": ""
             }
            },
            "type": "scatterpolargl"
           }
          ],
          "scatterternary": [
           {
            "marker": {
             "colorbar": {
              "outlinewidth": 0,
              "ticks": ""
             }
            },
            "type": "scatterternary"
           }
          ],
          "surface": [
           {
            "colorbar": {
             "outlinewidth": 0,
             "ticks": ""
            },
            "colorscale": [
             [
              0,
              "#0d0887"
             ],
             [
              0.1111111111111111,
              "#46039f"
             ],
             [
              0.2222222222222222,
              "#7201a8"
             ],
             [
              0.3333333333333333,
              "#9c179e"
             ],
             [
              0.4444444444444444,
              "#bd3786"
             ],
             [
              0.5555555555555556,
              "#d8576b"
             ],
             [
              0.6666666666666666,
              "#ed7953"
             ],
             [
              0.7777777777777778,
              "#fb9f3a"
             ],
             [
              0.8888888888888888,
              "#fdca26"
             ],
             [
              1,
              "#f0f921"
             ]
            ],
            "type": "surface"
           }
          ],
          "table": [
           {
            "cells": {
             "fill": {
              "color": "#EBF0F8"
             },
             "line": {
              "color": "white"
             }
            },
            "header": {
             "fill": {
              "color": "#C8D4E3"
             },
             "line": {
              "color": "white"
             }
            },
            "type": "table"
           }
          ]
         },
         "layout": {
          "annotationdefaults": {
           "arrowcolor": "#2a3f5f",
           "arrowhead": 0,
           "arrowwidth": 1
          },
          "autotypenumbers": "strict",
          "coloraxis": {
           "colorbar": {
            "outlinewidth": 0,
            "ticks": ""
           }
          },
          "colorscale": {
           "diverging": [
            [
             0,
             "#8e0152"
            ],
            [
             0.1,
             "#c51b7d"
            ],
            [
             0.2,
             "#de77ae"
            ],
            [
             0.3,
             "#f1b6da"
            ],
            [
             0.4,
             "#fde0ef"
            ],
            [
             0.5,
             "#f7f7f7"
            ],
            [
             0.6,
             "#e6f5d0"
            ],
            [
             0.7,
             "#b8e186"
            ],
            [
             0.8,
             "#7fbc41"
            ],
            [
             0.9,
             "#4d9221"
            ],
            [
             1,
             "#276419"
            ]
           ],
           "sequential": [
            [
             0,
             "#0d0887"
            ],
            [
             0.1111111111111111,
             "#46039f"
            ],
            [
             0.2222222222222222,
             "#7201a8"
            ],
            [
             0.3333333333333333,
             "#9c179e"
            ],
            [
             0.4444444444444444,
             "#bd3786"
            ],
            [
             0.5555555555555556,
             "#d8576b"
            ],
            [
             0.6666666666666666,
             "#ed7953"
            ],
            [
             0.7777777777777778,
             "#fb9f3a"
            ],
            [
             0.8888888888888888,
             "#fdca26"
            ],
            [
             1,
             "#f0f921"
            ]
           ],
           "sequentialminus": [
            [
             0,
             "#0d0887"
            ],
            [
             0.1111111111111111,
             "#46039f"
            ],
            [
             0.2222222222222222,
             "#7201a8"
            ],
            [
             0.3333333333333333,
             "#9c179e"
            ],
            [
             0.4444444444444444,
             "#bd3786"
            ],
            [
             0.5555555555555556,
             "#d8576b"
            ],
            [
             0.6666666666666666,
             "#ed7953"
            ],
            [
             0.7777777777777778,
             "#fb9f3a"
            ],
            [
             0.8888888888888888,
             "#fdca26"
            ],
            [
             1,
             "#f0f921"
            ]
           ]
          },
          "colorway": [
           "#636efa",
           "#EF553B",
           "#00cc96",
           "#ab63fa",
           "#FFA15A",
           "#19d3f3",
           "#FF6692",
           "#B6E880",
           "#FF97FF",
           "#FECB52"
          ],
          "font": {
           "color": "#2a3f5f"
          },
          "geo": {
           "bgcolor": "white",
           "lakecolor": "white",
           "landcolor": "#E5ECF6",
           "showlakes": true,
           "showland": true,
           "subunitcolor": "white"
          },
          "hoverlabel": {
           "align": "left"
          },
          "hovermode": "closest",
          "mapbox": {
           "style": "light"
          },
          "paper_bgcolor": "white",
          "plot_bgcolor": "#E5ECF6",
          "polar": {
           "angularaxis": {
            "gridcolor": "white",
            "linecolor": "white",
            "ticks": ""
           },
           "bgcolor": "#E5ECF6",
           "radialaxis": {
            "gridcolor": "white",
            "linecolor": "white",
            "ticks": ""
           }
          },
          "scene": {
           "xaxis": {
            "backgroundcolor": "#E5ECF6",
            "gridcolor": "white",
            "gridwidth": 2,
            "linecolor": "white",
            "showbackground": true,
            "ticks": "",
            "zerolinecolor": "white"
           },
           "yaxis": {
            "backgroundcolor": "#E5ECF6",
            "gridcolor": "white",
            "gridwidth": 2,
            "linecolor": "white",
            "showbackground": true,
            "ticks": "",
            "zerolinecolor": "white"
           },
           "zaxis": {
            "backgroundcolor": "#E5ECF6",
            "gridcolor": "white",
            "gridwidth": 2,
            "linecolor": "white",
            "showbackground": true,
            "ticks": "",
            "zerolinecolor": "white"
           }
          },
          "shapedefaults": {
           "line": {
            "color": "#2a3f5f"
           }
          },
          "ternary": {
           "aaxis": {
            "gridcolor": "white",
            "linecolor": "white",
            "ticks": ""
           },
           "baxis": {
            "gridcolor": "white",
            "linecolor": "white",
            "ticks": ""
           },
           "bgcolor": "#E5ECF6",
           "caxis": {
            "gridcolor": "white",
            "linecolor": "white",
            "ticks": ""
           }
          },
          "title": {
           "x": 0.05
          },
          "xaxis": {
           "automargin": true,
           "gridcolor": "white",
           "linecolor": "white",
           "ticks": "",
           "title": {
            "standoff": 15
           },
           "zerolinecolor": "white",
           "zerolinewidth": 2
          },
          "yaxis": {
           "automargin": true,
           "gridcolor": "white",
           "linecolor": "white",
           "ticks": "",
           "title": {
            "standoff": 15
           },
           "zerolinecolor": "white",
           "zerolinewidth": 2
          }
         }
        },
        "updatemenus": [
         {
          "active": 3,
          "buttons": [
           {
            "args": [
             {
              "visible": [
               true,
               false,
               false,
               false,
               false,
               false,
               false
              ]
             }
            ],
            "label": "Apex Legends",
            "method": "update"
           },
           {
            "args": [
             {
              "visible": [
               false,
               true,
               false,
               false,
               false,
               false,
               false
              ]
             }
            ],
            "label": "Arma 3",
            "method": "update"
           },
           {
            "args": [
             {
              "visible": [
               false,
               false,
               true,
               false,
               false,
               false,
               false
              ]
             }
            ],
            "label": "BattleFields 2042",
            "method": "update"
           },
           {
            "args": [
             {
              "visible": [
               false,
               false,
               false,
               true,
               false,
               false,
               false
              ]
             }
            ],
            "label": "Counter Strike: Global Offensive",
            "method": "update"
           },
           {
            "args": [
             {
              "visible": [
               false,
               false,
               false,
               false,
               true,
               false,
               false
              ]
             }
            ],
            "label": "PUBG: Battlegrounds",
            "method": "update"
           },
           {
            "args": [
             {
              "visible": [
               false,
               false,
               false,
               false,
               false,
               true,
               false
              ]
             }
            ],
            "label": "Team Fortress 2",
            "method": "update"
           },
           {
            "args": [
             {
              "visible": [
               false,
               false,
               false,
               false,
               false,
               false,
               true
              ]
             }
            ],
            "label": "Tom Clancy's Rainbow Six Seige",
            "method": "update"
           }
          ],
          "direction": "down",
          "showactive": true,
          "x": 0.5,
          "y": 1.3
         }
        ],
        "yaxis": {
         "title": {
          "text": "Average players"
         }
        }
       }
      },
      "text/html": [
       "<div>                            <div id=\"37d8be11-b064-4062-b195-3ef8add70068\" class=\"plotly-graph-div\" style=\"height:525px; width:100%;\"></div>            <script type=\"text/javascript\">                require([\"plotly\"], function(Plotly) {                    window.PLOTLYENV=window.PLOTLYENV || {};                                    if (document.getElementById(\"37d8be11-b064-4062-b195-3ef8add70068\")) {                    Plotly.newPlot(                        \"37d8be11-b064-4062-b195-3ef8add70068\",                        [{\"visible\":false,\"x\":[\"September 2021\",\"August 2021\",\"July 2021\",\"June 2021\",\"May 2021\",\"April 2021\",\"March 2021\",\"February 2021\",\"January 2021\",\"December 2020\",\"November 2020\"],\"y\":[139647.96,169528.17,131151.07,136439.9,164238.01,124905.13,126121.06,120982.64,71766.74,64469.75,74957.26],\"type\":\"scatter\"},{\"visible\":false,\"x\":[\"September 2021\",\"August 2021\",\"July 2021\",\"June 2021\",\"May 2021\",\"April 2021\",\"March 2021\",\"February 2021\",\"January 2021\",\"December 2020\",\"November 2020\",\"October 2020\",\"September 2020\",\"August 2020\",\"July 2020\",\"June 2020\",\"May 2020\",\"April 2020\",\"March 2020\",\"February 2020\",\"January 2020\",\"December 2019\",\"November 2019\",\"October 2019\",\"September 2019\",\"August 2019\",\"July 2019\",\"June 2019\",\"May 2019\",\"April 2019\",\"March 2019\",\"February 2019\",\"January 2019\",\"December 2018\",\"November 2018\",\"October 2018\",\"September 2018\",\"August 2018\",\"July 2018\",\"June 2018\",\"May 2018\",\"April 2018\",\"March 2018\",\"February 2018\",\"January 2018\",\"December 2017\",\"November 2017\",\"October 2017\",\"September 2017\",\"August 2017\",\"July 2017\",\"June 2017\",\"May 2017\",\"April 2017\",\"March 2017\",\"February 2017\",\"January 2017\",\"December 2016\",\"November 2016\",\"October 2016\",\"September 2016\",\"August 2016\",\"July 2016\",\"June 2016\",\"May 2016\",\"April 2016\",\"March 2016\",\"February 2016\",\"January 2016\",\"December 2015\",\"November 2015\",\"October 2015\",\"September 2015\",\"August 2015\",\"July 2015\",\"June 2015\",\"May 2015\",\"April 2015\",\"March 2015\",\"February 2015\",\"January 2015\",\"December 2014\",\"November 2014\",\"October 2014\",\"September 2014\",\"August 2014\",\"July 2014\",\"June 2014\",\"May 2014\",\"April 2014\",\"March 2014\",\"February 2014\",\"January 2014\",\"December 2013\",\"November 2013\",\"October 2013\",\"September 2013\",\"August 2013\",\"July 2013\",\"June 2013\",\"May 2013\",\"April 2013\",\"March 2013\"],\"y\":[12649.78,12916.22,12663.09,13484.32,17034.21,13033.41,14015.61,14936.52,14895.53,13000.72,13865.44,13527.22,12704.13,13028.78,13064.12,13115.92,15997.56,20266.15,15215.53,13315.19,14703.42,11582.87,10560.82,11322.27,11868.67,13453.36,15265.03,14224.79,14208.4,13709.37,14236.16,15489.4,15240.37,13554.29,12553.3,13344.9,14092.26,15122.97,18384.53,16570.32,17053.25,17805.57,16973.89,17231.97,18554.58,19255.64,16523.87,16441.33,17987.81,17978.11,22120.46,22154.2,20712.67,23377.49,22288.46,23539.08,26972.14,22325.52,19925.98,20388.75,20145.21,23049.68,26615.05,25285.16,22853.94,20292.43,21733.23,22624.93,22559.44,18762.1,15455.16,18194.68,16961.56,17880.84,16640.41,15747.85,18296.94,18515.7,18379.59,18204.75,20312.78,16063.91,14851.33,14953.38,12314.47,13716.06,13880.36,12954.47,15018.79,12799.79,10957.15,8510.84,6235.41,4236.78,4082.34,4077.82,5617.36,3296.68,3029.51,3072.94,1735.06,2035.86,4745.97],\"type\":\"scatter\"},{\"visible\":false,\"x\":[\"September 2021\",\"October 2021\",\"November 2021\",\"December 2021\",\"January 2021\",\"February 2021\"],\"y\":[105397.0,57186.0,47883.0,19328.0,13574.0,8078.0],\"type\":\"scatter\"},{\"visible\":true,\"x\":[\"September 2021\",\"August 2021\",\"July 2021\",\"June 2021\",\"May 2021\",\"April 2021\",\"March 2021\",\"February 2021\",\"January 2021\",\"December 2020\",\"November 2020\",\"October 2020\",\"September 2020\",\"August 2020\",\"July 2020\",\"June 2020\",\"May 2020\",\"April 2020\",\"March 2020\",\"February 2020\",\"January 2020\",\"December 2019\",\"November 2019\",\"October 2019\",\"September 2019\",\"August 2019\",\"July 2019\",\"June 2019\",\"May 2019\",\"April 2019\",\"March 2019\",\"February 2019\",\"January 2019\",\"December 2018\",\"November 2018\",\"October 2018\",\"September 2018\",\"August 2018\",\"July 2018\",\"June 2018\",\"May 2018\",\"April 2018\",\"March 2018\",\"February 2018\",\"January 2018\",\"December 2017\",\"November 2017\",\"October 2017\",\"September 2017\",\"August 2017\",\"July 2017\",\"June 2017\",\"May 2017\",\"April 2017\",\"March 2017\",\"February 2017\",\"January 2017\",\"December 2016\",\"November 2016\",\"October 2016\",\"September 2016\",\"August 2016\",\"July 2016\",\"June 2016\",\"May 2016\",\"April 2016\",\"March 2016\",\"February 2016\",\"January 2016\",\"December 2015\",\"November 2015\",\"October 2015\",\"September 2015\",\"August 2015\",\"July 2015\",\"June 2015\",\"May 2015\",\"April 2015\",\"March 2015\",\"February 2015\",\"January 2015\",\"December 2014\",\"November 2014\",\"October 2014\",\"September 2014\",\"August 2014\",\"July 2014\",\"June 2014\",\"May 2014\",\"April 2014\",\"March 2014\",\"February 2014\",\"January 2014\",\"December 2013\",\"November 2013\",\"October 2013\",\"September 2013\",\"August 2013\",\"July 2013\",\"June 2013\",\"May 2013\",\"April 2013\",\"March 2013\",\"February 2013\",\"January 2013\",\"December 2012\",\"November 2012\",\"October 2012\",\"September 2012\",\"August 2012\",\"July 2012\"],\"y\":[512350.92,512081.96,506067.36,549347.08,659888.89,723346.52,740927.82,741013.24,743209.66,717803.75,668754.58,613666.69,606850.32,639957.66,625900.81,671647.46,768795.25,857604.22,671033.29,543979.15,501196.0,456701.56,426080.81,408995.31,410925.6,415097.3,393782.83,389376.72,364417.31,351989.92,390240.16,371358.96,401366.87,395509.26,310085.43,325907.82,333163.99,283531.31,273307.26,266862.24,262170.88,289076.7,354270.33,382457.1,382030.53,340876.88,321131.4,341861.26,354402.09,374425.69,377589.04,374388.04,371829.34,392199.19,386908.72,402385.71,393109.53,342195.7,329045.26,333076.46,322525.89,347229.25,353777.56,334311.06,338738.39,375795.87,379426.95,376285.02,365371.09,377447.11,360925.88,362766.09,355905.33,357535.24,329532.38,344156.01,317286.29,291748.74,267996.31,239934.64,234070.68,183589.5,147329.07,133537.7,131034.68,133185.79,106138.0,84163.62,84925.02,78880.53,70143.33,59791.37,55627.35,46788.27,29890.52,27902.14,27678.91,25961.85,20492.52,18119.84,18710.34,16006.0,15959.89,17372.73,16164.22,14079.39,14134.1,10739.48,16000.75,15475.39,932.57],\"type\":\"scatter\"},{\"visible\":false,\"x\":[\"September 2021\",\"August 2021\",\"July 2021\",\"June 2021\",\"May 2021\",\"April 2021\",\"March 2021\",\"February 2021\",\"January 2021\",\"December 2020\",\"November 2020\",\"October 2020\",\"September 2020\",\"August 2020\",\"July 2020\",\"June 2020\",\"May 2020\",\"April 2020\",\"March 2020\",\"February 2020\",\"January 2020\",\"December 2019\",\"November 2019\",\"October 2019\",\"September 2019\",\"August 2019\",\"July 2019\",\"June 2019\",\"May 2019\",\"April 2019\",\"March 2019\",\"February 2019\",\"January 2019\",\"December 2018\",\"November 2018\",\"October 2018\",\"September 2018\",\"August 2018\",\"July 2018\",\"June 2018\",\"May 2018\",\"April 2018\",\"March 2018\",\"February 2018\",\"January 2018\",\"December 2017\",\"November 2017\",\"October 2017\",\"September 2017\",\"August 2017\",\"July 2017\",\"June 2017\",\"May 2017\",\"April 2017\",\"March 2017\"],\"y\":[167102.12,184828.4,186249.97,179338.27,184701.21,186110.65,193114.18,198957.52,201247.19,189233.58,179520.26,162585.64,169093.71,192492.61,211700.3,230329.74,243258.78,242847.28,228467.17,257584.32,275363.04,308445.45,305659.39,287133.41,311444.31,358530.96,352888.88,363083.37,385840.59,390100.9,417812.51,437959.1,497803.25,473541.26,418159.48,469141.74,542607.05,619320.48,688620.42,800668.23,876180.64,1107181.8,1295408.59,1391015.3,1584886.77,1436158.51,1334170.09,1086638.87,660192.74,389527.42,229701.7,139902.24,107441.6,69794.98,17551.14],\"type\":\"scatter\"},{\"visible\":false,\"x\":[\"September 2021\",\"August 2021\",\"July 2021\",\"June 2021\",\"May 2021\",\"April 2021\",\"March 2021\",\"February 2021\",\"January 2021\",\"December 2020\",\"November 2020\",\"October 2020\",\"September 2020\",\"August 2020\",\"July 2020\",\"June 2020\",\"May 2020\",\"April 2020\",\"March 2020\",\"February 2020\",\"January 2020\",\"December 2019\",\"November 2019\",\"October 2019\",\"September 2019\",\"August 2019\",\"July 2019\",\"June 2019\",\"May 2019\",\"April 2019\",\"March 2019\",\"February 2019\",\"January 2019\",\"December 2018\",\"November 2018\",\"October 2018\",\"September 2018\",\"August 2018\",\"July 2018\",\"June 2018\",\"May 2018\",\"April 2018\",\"March 2018\",\"February 2018\",\"January 2018\",\"December 2017\",\"November 2017\",\"October 2017\",\"September 2017\",\"August 2017\",\"July 2017\",\"June 2017\",\"May 2017\",\"April 2017\",\"March 2017\",\"February 2017\",\"January 2017\",\"December 2016\",\"November 2016\",\"October 2016\",\"September 2016\",\"August 2016\",\"July 2016\",\"June 2016\",\"May 2016\",\"April 2016\",\"March 2016\",\"February 2016\",\"January 2016\",\"December 2015\",\"November 2015\",\"October 2015\",\"September 2015\",\"August 2015\",\"July 2015\",\"June 2015\",\"May 2015\",\"April 2015\",\"March 2015\",\"February 2015\",\"January 2015\",\"December 2014\",\"November 2014\",\"October 2014\",\"September 2014\",\"August 2014\",\"July 2014\",\"June 2014\",\"May 2014\",\"April 2014\",\"March 2014\",\"February 2014\",\"January 2014\",\"December 2013\",\"November 2013\",\"October 2013\",\"September 2013\",\"August 2013\",\"July 2013\",\"June 2013\",\"May 2013\",\"April 2013\",\"March 2013\",\"February 2013\",\"January 2013\",\"December 2012\",\"November 2012\",\"October 2012\",\"September 2012\",\"August 2012\",\"July 2012\"],\"y\":[81854.01,75015.97,85157.49,106222.95,89532.22,88187.0,88703.56,101230.91,83148.17,82423.51,70304.79,73594.08,68866.24,66943.58,69301.89,65169.91,66393.8,67187.12,67978.93,60109.05,59597.88,61695.9,50315.89,51993.93,48332.88,45544.88,49538.99,43002.54,39076.92,42505.05,45940.01,47707.59,50511.29,50592.4,53084.17,48766.22,41002.12,43632.35,46149.36,44207.43,38847.02,39180.46,36781.88,37715.11,53432.1,51816.11,52270.09,54963.29,50985.18,52992.48,51861.41,52408.06,50126.01,51733.52,49483.19,51787.36,52436.19,50140.76,46904.24,45910.06,48541.21,53742.49,54459.35,51362.73,49804.41,51434.75,52754.37,52864.72,52763.52,52972.94,52145.23,55256.59,55776.77,60484.79,60778.74,56344.56,55586.91,54533.01,54117.72,56469.57,58550.38,58391.58,56732.74,57976.98,55091.58,59228.78,56704.31,53342.72,47900.26,49671.2,49145.6,49817.43,50662.31,47901.53,44536.35,42808.16,43714.36,50324.72,48700.77,50739.88,44632.91,41942.51,43336.2,43210.75,44255.06,43623.98,42498.53,46978.7,50699.07,61561.37,45566.9],\"type\":\"scatter\"},{\"visible\":false,\"x\":[\"September 2021\",\"August 2021\",\"July 2021\",\"June 2021\",\"May 2021\",\"April 2021\",\"March 2021\",\"February 2021\",\"January 2021\",\"December 2020\",\"November 2020\",\"October 2020\",\"September 2020\",\"August 2020\",\"July 2020\",\"June 2020\",\"May 2020\",\"April 2020\",\"March 2020\",\"February 2020\",\"January 2020\",\"December 2019\",\"November 2019\",\"October 2019\",\"September 2019\",\"August 2019\",\"July 2019\",\"June 2019\",\"May 2019\",\"April 2019\",\"March 2019\",\"February 2019\",\"January 2019\",\"December 2018\",\"November 2018\",\"October 2018\",\"September 2018\",\"August 2018\",\"July 2018\",\"June 2018\",\"May 2018\",\"April 2018\",\"March 2018\",\"February 2018\",\"January 2018\",\"December 2017\",\"November 2017\",\"October 2017\",\"September 2017\",\"August 2017\",\"July 2017\",\"June 2017\",\"May 2017\",\"April 2017\",\"March 2017\",\"February 2017\",\"January 2017\",\"December 2016\",\"November 2016\",\"October 2016\",\"September 2016\",\"August 2016\",\"July 2016\",\"June 2016\",\"May 2016\",\"April 2016\",\"March 2016\",\"February 2016\",\"January 2016\",\"December 2015\"],\"y\":[51139.69,49906.2,53474.02,54960.64,58274.07,74616.41,85157.21,72382.76,77717.42,70721.5,55307.46,62956.21,75543.34,68205.26,76279.2,70200.51,80099.3,108514.57,119877.88,97667.34,94185.78,78228.73,66499.28,65632.48,77922.76,73956.28,77411.07,78059.34,59172.09,61351.45,69588.02,72997.66,79175.76,70865.32,57902.93,62428.64,73676.87,73816.38,68241.0,66376.81,63092.81,64263.44,83112.29,68796.24,63474.82,59411.66,41483.67,31618.81,36448.87,33923.18,28378.64,24083.72,23804.07,24975.95,26079.63,30568.27,20706.7,17176.87,15355.49,10591.93,10411.69,13971.23,10854.23,9002.74,7069.7,7643.56,6125.46,9263.47,10244.29,7941.45],\"type\":\"scatter\"}],                        {\"template\":{\"data\":{\"bar\":[{\"error_x\":{\"color\":\"#2a3f5f\"},\"error_y\":{\"color\":\"#2a3f5f\"},\"marker\":{\"line\":{\"color\":\"#E5ECF6\",\"width\":0.5},\"pattern\":{\"fillmode\":\"overlay\",\"size\":10,\"solidity\":0.2}},\"type\":\"bar\"}],\"barpolar\":[{\"marker\":{\"line\":{\"color\":\"#E5ECF6\",\"width\":0.5},\"pattern\":{\"fillmode\":\"overlay\",\"size\":10,\"solidity\":0.2}},\"type\":\"barpolar\"}],\"carpet\":[{\"aaxis\":{\"endlinecolor\":\"#2a3f5f\",\"gridcolor\":\"white\",\"linecolor\":\"white\",\"minorgridcolor\":\"white\",\"startlinecolor\":\"#2a3f5f\"},\"baxis\":{\"endlinecolor\":\"#2a3f5f\",\"gridcolor\":\"white\",\"linecolor\":\"white\",\"minorgridcolor\":\"white\",\"startlinecolor\":\"#2a3f5f\"},\"type\":\"carpet\"}],\"choropleth\":[{\"colorbar\":{\"outlinewidth\":0,\"ticks\":\"\"},\"type\":\"choropleth\"}],\"contour\":[{\"colorbar\":{\"outlinewidth\":0,\"ticks\":\"\"},\"colorscale\":[[0.0,\"#0d0887\"],[0.1111111111111111,\"#46039f\"],[0.2222222222222222,\"#7201a8\"],[0.3333333333333333,\"#9c179e\"],[0.4444444444444444,\"#bd3786\"],[0.5555555555555556,\"#d8576b\"],[0.6666666666666666,\"#ed7953\"],[0.7777777777777778,\"#fb9f3a\"],[0.8888888888888888,\"#fdca26\"],[1.0,\"#f0f921\"]],\"type\":\"contour\"}],\"contourcarpet\":[{\"colorbar\":{\"outlinewidth\":0,\"ticks\":\"\"},\"type\":\"contourcarpet\"}],\"heatmap\":[{\"colorbar\":{\"outlinewidth\":0,\"ticks\":\"\"},\"colorscale\":[[0.0,\"#0d0887\"],[0.1111111111111111,\"#46039f\"],[0.2222222222222222,\"#7201a8\"],[0.3333333333333333,\"#9c179e\"],[0.4444444444444444,\"#bd3786\"],[0.5555555555555556,\"#d8576b\"],[0.6666666666666666,\"#ed7953\"],[0.7777777777777778,\"#fb9f3a\"],[0.8888888888888888,\"#fdca26\"],[1.0,\"#f0f921\"]],\"type\":\"heatmap\"}],\"heatmapgl\":[{\"colorbar\":{\"outlinewidth\":0,\"ticks\":\"\"},\"colorscale\":[[0.0,\"#0d0887\"],[0.1111111111111111,\"#46039f\"],[0.2222222222222222,\"#7201a8\"],[0.3333333333333333,\"#9c179e\"],[0.4444444444444444,\"#bd3786\"],[0.5555555555555556,\"#d8576b\"],[0.6666666666666666,\"#ed7953\"],[0.7777777777777778,\"#fb9f3a\"],[0.8888888888888888,\"#fdca26\"],[1.0,\"#f0f921\"]],\"type\":\"heatmapgl\"}],\"histogram\":[{\"marker\":{\"pattern\":{\"fillmode\":\"overlay\",\"size\":10,\"solidity\":0.2}},\"type\":\"histogram\"}],\"histogram2d\":[{\"colorbar\":{\"outlinewidth\":0,\"ticks\":\"\"},\"colorscale\":[[0.0,\"#0d0887\"],[0.1111111111111111,\"#46039f\"],[0.2222222222222222,\"#7201a8\"],[0.3333333333333333,\"#9c179e\"],[0.4444444444444444,\"#bd3786\"],[0.5555555555555556,\"#d8576b\"],[0.6666666666666666,\"#ed7953\"],[0.7777777777777778,\"#fb9f3a\"],[0.8888888888888888,\"#fdca26\"],[1.0,\"#f0f921\"]],\"type\":\"histogram2d\"}],\"histogram2dcontour\":[{\"colorbar\":{\"outlinewidth\":0,\"ticks\":\"\"},\"colorscale\":[[0.0,\"#0d0887\"],[0.1111111111111111,\"#46039f\"],[0.2222222222222222,\"#7201a8\"],[0.3333333333333333,\"#9c179e\"],[0.4444444444444444,\"#bd3786\"],[0.5555555555555556,\"#d8576b\"],[0.6666666666666666,\"#ed7953\"],[0.7777777777777778,\"#fb9f3a\"],[0.8888888888888888,\"#fdca26\"],[1.0,\"#f0f921\"]],\"type\":\"histogram2dcontour\"}],\"mesh3d\":[{\"colorbar\":{\"outlinewidth\":0,\"ticks\":\"\"},\"type\":\"mesh3d\"}],\"parcoords\":[{\"line\":{\"colorbar\":{\"outlinewidth\":0,\"ticks\":\"\"}},\"type\":\"parcoords\"}],\"pie\":[{\"automargin\":true,\"type\":\"pie\"}],\"scatter\":[{\"marker\":{\"colorbar\":{\"outlinewidth\":0,\"ticks\":\"\"}},\"type\":\"scatter\"}],\"scatter3d\":[{\"line\":{\"colorbar\":{\"outlinewidth\":0,\"ticks\":\"\"}},\"marker\":{\"colorbar\":{\"outlinewidth\":0,\"ticks\":\"\"}},\"type\":\"scatter3d\"}],\"scattercarpet\":[{\"marker\":{\"colorbar\":{\"outlinewidth\":0,\"ticks\":\"\"}},\"type\":\"scattercarpet\"}],\"scattergeo\":[{\"marker\":{\"colorbar\":{\"outlinewidth\":0,\"ticks\":\"\"}},\"type\":\"scattergeo\"}],\"scattergl\":[{\"marker\":{\"colorbar\":{\"outlinewidth\":0,\"ticks\":\"\"}},\"type\":\"scattergl\"}],\"scattermapbox\":[{\"marker\":{\"colorbar\":{\"outlinewidth\":0,\"ticks\":\"\"}},\"type\":\"scattermapbox\"}],\"scatterpolar\":[{\"marker\":{\"colorbar\":{\"outlinewidth\":0,\"ticks\":\"\"}},\"type\":\"scatterpolar\"}],\"scatterpolargl\":[{\"marker\":{\"colorbar\":{\"outlinewidth\":0,\"ticks\":\"\"}},\"type\":\"scatterpolargl\"}],\"scatterternary\":[{\"marker\":{\"colorbar\":{\"outlinewidth\":0,\"ticks\":\"\"}},\"type\":\"scatterternary\"}],\"surface\":[{\"colorbar\":{\"outlinewidth\":0,\"ticks\":\"\"},\"colorscale\":[[0.0,\"#0d0887\"],[0.1111111111111111,\"#46039f\"],[0.2222222222222222,\"#7201a8\"],[0.3333333333333333,\"#9c179e\"],[0.4444444444444444,\"#bd3786\"],[0.5555555555555556,\"#d8576b\"],[0.6666666666666666,\"#ed7953\"],[0.7777777777777778,\"#fb9f3a\"],[0.8888888888888888,\"#fdca26\"],[1.0,\"#f0f921\"]],\"type\":\"surface\"}],\"table\":[{\"cells\":{\"fill\":{\"color\":\"#EBF0F8\"},\"line\":{\"color\":\"white\"}},\"header\":{\"fill\":{\"color\":\"#C8D4E3\"},\"line\":{\"color\":\"white\"}},\"type\":\"table\"}]},\"layout\":{\"annotationdefaults\":{\"arrowcolor\":\"#2a3f5f\",\"arrowhead\":0,\"arrowwidth\":1},\"autotypenumbers\":\"strict\",\"coloraxis\":{\"colorbar\":{\"outlinewidth\":0,\"ticks\":\"\"}},\"colorscale\":{\"diverging\":[[0,\"#8e0152\"],[0.1,\"#c51b7d\"],[0.2,\"#de77ae\"],[0.3,\"#f1b6da\"],[0.4,\"#fde0ef\"],[0.5,\"#f7f7f7\"],[0.6,\"#e6f5d0\"],[0.7,\"#b8e186\"],[0.8,\"#7fbc41\"],[0.9,\"#4d9221\"],[1,\"#276419\"]],\"sequential\":[[0.0,\"#0d0887\"],[0.1111111111111111,\"#46039f\"],[0.2222222222222222,\"#7201a8\"],[0.3333333333333333,\"#9c179e\"],[0.4444444444444444,\"#bd3786\"],[0.5555555555555556,\"#d8576b\"],[0.6666666666666666,\"#ed7953\"],[0.7777777777777778,\"#fb9f3a\"],[0.8888888888888888,\"#fdca26\"],[1.0,\"#f0f921\"]],\"sequentialminus\":[[0.0,\"#0d0887\"],[0.1111111111111111,\"#46039f\"],[0.2222222222222222,\"#7201a8\"],[0.3333333333333333,\"#9c179e\"],[0.4444444444444444,\"#bd3786\"],[0.5555555555555556,\"#d8576b\"],[0.6666666666666666,\"#ed7953\"],[0.7777777777777778,\"#fb9f3a\"],[0.8888888888888888,\"#fdca26\"],[1.0,\"#f0f921\"]]},\"colorway\":[\"#636efa\",\"#EF553B\",\"#00cc96\",\"#ab63fa\",\"#FFA15A\",\"#19d3f3\",\"#FF6692\",\"#B6E880\",\"#FF97FF\",\"#FECB52\"],\"font\":{\"color\":\"#2a3f5f\"},\"geo\":{\"bgcolor\":\"white\",\"lakecolor\":\"white\",\"landcolor\":\"#E5ECF6\",\"showlakes\":true,\"showland\":true,\"subunitcolor\":\"white\"},\"hoverlabel\":{\"align\":\"left\"},\"hovermode\":\"closest\",\"mapbox\":{\"style\":\"light\"},\"paper_bgcolor\":\"white\",\"plot_bgcolor\":\"#E5ECF6\",\"polar\":{\"angularaxis\":{\"gridcolor\":\"white\",\"linecolor\":\"white\",\"ticks\":\"\"},\"bgcolor\":\"#E5ECF6\",\"radialaxis\":{\"gridcolor\":\"white\",\"linecolor\":\"white\",\"ticks\":\"\"}},\"scene\":{\"xaxis\":{\"backgroundcolor\":\"#E5ECF6\",\"gridcolor\":\"white\",\"gridwidth\":2,\"linecolor\":\"white\",\"showbackground\":true,\"ticks\":\"\",\"zerolinecolor\":\"white\"},\"yaxis\":{\"backgroundcolor\":\"#E5ECF6\",\"gridcolor\":\"white\",\"gridwidth\":2,\"linecolor\":\"white\",\"showbackground\":true,\"ticks\":\"\",\"zerolinecolor\":\"white\"},\"zaxis\":{\"backgroundcolor\":\"#E5ECF6\",\"gridcolor\":\"white\",\"gridwidth\":2,\"linecolor\":\"white\",\"showbackground\":true,\"ticks\":\"\",\"zerolinecolor\":\"white\"}},\"shapedefaults\":{\"line\":{\"color\":\"#2a3f5f\"}},\"ternary\":{\"aaxis\":{\"gridcolor\":\"white\",\"linecolor\":\"white\",\"ticks\":\"\"},\"baxis\":{\"gridcolor\":\"white\",\"linecolor\":\"white\",\"ticks\":\"\"},\"bgcolor\":\"#E5ECF6\",\"caxis\":{\"gridcolor\":\"white\",\"linecolor\":\"white\",\"ticks\":\"\"}},\"title\":{\"x\":0.05},\"xaxis\":{\"automargin\":true,\"gridcolor\":\"white\",\"linecolor\":\"white\",\"ticks\":\"\",\"title\":{\"standoff\":15},\"zerolinecolor\":\"white\",\"zerolinewidth\":2},\"yaxis\":{\"automargin\":true,\"gridcolor\":\"white\",\"linecolor\":\"white\",\"ticks\":\"\",\"title\":{\"standoff\":15},\"zerolinecolor\":\"white\",\"zerolinewidth\":2}}},\"showlegend\":false,\"updatemenus\":[{\"active\":3,\"buttons\":[{\"args\":[{\"visible\":[true,false,false,false,false,false,false]}],\"label\":\"Apex Legends\",\"method\":\"update\"},{\"args\":[{\"visible\":[false,true,false,false,false,false,false]}],\"label\":\"Arma 3\",\"method\":\"update\"},{\"args\":[{\"visible\":[false,false,true,false,false,false,false]}],\"label\":\"BattleFields 2042\",\"method\":\"update\"},{\"args\":[{\"visible\":[false,false,false,true,false,false,false]}],\"label\":\"Counter Strike: Global Offensive\",\"method\":\"update\"},{\"args\":[{\"visible\":[false,false,false,false,true,false,false]}],\"label\":\"PUBG: Battlegrounds\",\"method\":\"update\"},{\"args\":[{\"visible\":[false,false,false,false,false,true,false]}],\"label\":\"Team Fortress 2\",\"method\":\"update\"},{\"args\":[{\"visible\":[false,false,false,false,false,false,true]}],\"label\":\"Tom Clancy's Rainbow Six Seige\",\"method\":\"update\"}],\"direction\":\"down\",\"showactive\":true,\"x\":0.5,\"y\":1.3}],\"yaxis\":{\"title\":{\"text\":\"Average players\"}}},                        {\"responsive\": true}                    ).then(function(){\n",
       "                            \n",
       "var gd = document.getElementById('37d8be11-b064-4062-b195-3ef8add70068');\n",
       "var x = new MutationObserver(function (mutations, observer) {{\n",
       "        var display = window.getComputedStyle(gd).display;\n",
       "        if (!display || display === 'none') {{\n",
       "            console.log([gd, 'removed!']);\n",
       "            Plotly.purge(gd);\n",
       "            observer.disconnect();\n",
       "        }}\n",
       "}});\n",
       "\n",
       "// Listen for the removal of the full notebook cells\n",
       "var notebookContainer = gd.closest('#notebook-container');\n",
       "if (notebookContainer) {{\n",
       "    x.observe(notebookContainer, {childList: true});\n",
       "}}\n",
       "\n",
       "// Listen for the clearing of the current output cell\n",
       "var outputEl = gd.closest('.output');\n",
       "if (outputEl) {{\n",
       "    x.observe(outputEl, {childList: true});\n",
       "}}\n",
       "\n",
       "                        })                };                });            </script>        </div>"
      ]
     },
     "metadata": {},
     "output_type": "display_data"
    }
   ],
   "source": [
    "games = sorted(set(steam['Game_Name'].unique()))\n",
    "\n",
    "fig=go.Figure()\n",
    "\n",
    "game_plot_names = []\n",
    "buttons=[]\n",
    "\n",
    "default_game = \"Counter Strike: Global Offensive\"\n",
    "\n",
    "for game_name in games:\n",
    "    game = steam[steam['Game_Name'] == game_name]\n",
    "   \n",
    "    \n",
    "    \n",
    "    \n",
    "    fig.add_trace(go.Scatter(x=game[\"Month_Year\"], y=game[\"Avg_players\"], line={}, visible=(game_name==default_game)))\n",
    "  \n",
    "    game_plot_names.extend([game_name])\n",
    "    \n",
    "for game_name in games:\n",
    "    buttons.append(dict(method='update',\n",
    "                        label=game_name,\n",
    "                        args = [{'visible': [game_name==r for r in game_plot_names]}]))\n",
    "\n",
    "# Add dropdown menus to the figure\n",
    "fig.update_layout(showlegend=False, updatemenus=[{\"buttons\": buttons, \"direction\": \"down\", \"active\": games.index(default_game), \"showactive\": True, \"x\": 0.5, \"y\": 1.30}])\n",
    "fig.update_yaxes(title_text='Average players')\n",
    "fig.show()\n"
   ]
  },
  {
   "cell_type": "code",
   "execution_count": 242,
   "id": "9e17cca9",
   "metadata": {
    "scrolled": true
   },
   "outputs": [
    {
     "data": {
      "text/html": [
       "<div>\n",
       "<style scoped>\n",
       "    .dataframe tbody tr th:only-of-type {\n",
       "        vertical-align: middle;\n",
       "    }\n",
       "\n",
       "    .dataframe tbody tr th {\n",
       "        vertical-align: top;\n",
       "    }\n",
       "\n",
       "    .dataframe thead th {\n",
       "        text-align: right;\n",
       "    }\n",
       "</style>\n",
       "<table border=\"1\" class=\"dataframe\">\n",
       "  <thead>\n",
       "    <tr style=\"text-align: right;\">\n",
       "      <th></th>\n",
       "      <th>Rank</th>\n",
       "      <th>Game</th>\n",
       "      <th>Month</th>\n",
       "      <th>Year</th>\n",
       "      <th>Hours_watched</th>\n",
       "      <th>Hours_Streamed</th>\n",
       "      <th>Peak_viewers</th>\n",
       "      <th>Peak_channels</th>\n",
       "      <th>Streamers</th>\n",
       "      <th>Avg_viewers</th>\n",
       "      <th>Avg_channels</th>\n",
       "      <th>Avg_viewer_ratio</th>\n",
       "    </tr>\n",
       "  </thead>\n",
       "  <tbody>\n",
       "    <tr>\n",
       "      <th>0</th>\n",
       "      <td>1</td>\n",
       "      <td>League of Legends</td>\n",
       "      <td>1</td>\n",
       "      <td>2016</td>\n",
       "      <td>94377226</td>\n",
       "      <td>1362044 hours</td>\n",
       "      <td>530270</td>\n",
       "      <td>2903</td>\n",
       "      <td>129172</td>\n",
       "      <td>127021</td>\n",
       "      <td>1833</td>\n",
       "      <td>69.290</td>\n",
       "    </tr>\n",
       "    <tr>\n",
       "      <th>1</th>\n",
       "      <td>2</td>\n",
       "      <td>Counter-Strike: Global Offensive</td>\n",
       "      <td>1</td>\n",
       "      <td>2016</td>\n",
       "      <td>47832863</td>\n",
       "      <td>830105 hours</td>\n",
       "      <td>372654</td>\n",
       "      <td>2197</td>\n",
       "      <td>120849</td>\n",
       "      <td>64378</td>\n",
       "      <td>1117</td>\n",
       "      <td>57.620</td>\n",
       "    </tr>\n",
       "    <tr>\n",
       "      <th>2</th>\n",
       "      <td>3</td>\n",
       "      <td>Dota 2</td>\n",
       "      <td>1</td>\n",
       "      <td>2016</td>\n",
       "      <td>45185893</td>\n",
       "      <td>433397 hours</td>\n",
       "      <td>315083</td>\n",
       "      <td>1100</td>\n",
       "      <td>44074</td>\n",
       "      <td>60815</td>\n",
       "      <td>583</td>\n",
       "      <td>104.260</td>\n",
       "    </tr>\n",
       "    <tr>\n",
       "      <th>3</th>\n",
       "      <td>4</td>\n",
       "      <td>Hearthstone</td>\n",
       "      <td>1</td>\n",
       "      <td>2016</td>\n",
       "      <td>39936159</td>\n",
       "      <td>235903 hours</td>\n",
       "      <td>131357</td>\n",
       "      <td>517</td>\n",
       "      <td>36170</td>\n",
       "      <td>53749</td>\n",
       "      <td>317</td>\n",
       "      <td>169.290</td>\n",
       "    </tr>\n",
       "    <tr>\n",
       "      <th>4</th>\n",
       "      <td>5</td>\n",
       "      <td>Call of Duty: Black Ops III</td>\n",
       "      <td>1</td>\n",
       "      <td>2016</td>\n",
       "      <td>16153057</td>\n",
       "      <td>1151578 hours</td>\n",
       "      <td>71639</td>\n",
       "      <td>3620</td>\n",
       "      <td>214054</td>\n",
       "      <td>21740</td>\n",
       "      <td>1549</td>\n",
       "      <td>14.030</td>\n",
       "    </tr>\n",
       "  </tbody>\n",
       "</table>\n",
       "</div>"
      ],
      "text/plain": [
       "   Rank                              Game  Month  Year  Hours_watched  \\\n",
       "0     1                 League of Legends      1  2016       94377226   \n",
       "1     2  Counter-Strike: Global Offensive      1  2016       47832863   \n",
       "2     3                            Dota 2      1  2016       45185893   \n",
       "3     4                       Hearthstone      1  2016       39936159   \n",
       "4     5       Call of Duty: Black Ops III      1  2016       16153057   \n",
       "\n",
       "  Hours_Streamed  Peak_viewers  Peak_channels  Streamers  Avg_viewers  \\\n",
       "0  1362044 hours        530270           2903     129172       127021   \n",
       "1   830105 hours        372654           2197     120849        64378   \n",
       "2   433397 hours        315083           1100      44074        60815   \n",
       "3   235903 hours        131357            517      36170        53749   \n",
       "4  1151578 hours         71639           3620     214054        21740   \n",
       "\n",
       "   Avg_channels  Avg_viewer_ratio  \n",
       "0          1833            69.290  \n",
       "1          1117            57.620  \n",
       "2           583           104.260  \n",
       "3           317           169.290  \n",
       "4          1549            14.030  "
      ]
     },
     "execution_count": 242,
     "metadata": {},
     "output_type": "execute_result"
    }
   ],
   "source": [
    "# Informations of twitch dataset\n",
    "twitch.head()"
   ]
  },
  {
   "cell_type": "code",
   "execution_count": 189,
   "id": "8b2ff61e",
   "metadata": {
    "scrolled": true
   },
   "outputs": [],
   "source": [
    "ccc=twitch[twitch[\"Game\"] == \"Counter-Strike: Global Offensive\"].head()\n"
   ]
  },
  {
   "cell_type": "code",
   "execution_count": 190,
   "id": "fc7ea202",
   "metadata": {
    "scrolled": true
   },
   "outputs": [
    {
     "data": {
      "text/plain": [
       "281335434"
      ]
     },
     "execution_count": 190,
     "metadata": {},
     "output_type": "execute_result"
    }
   ],
   "source": [
    "aaa=ccc[ccc[\"Year\"]==2016]\n",
    "aaa[\"Hours_watched\"].sum()\n"
   ]
  },
  {
   "cell_type": "markdown",
   "id": "2395a218",
   "metadata": {},
   "source": [
    "### Informations of we selected games in twitch "
   ]
  },
  {
   "cell_type": "code",
   "execution_count": 243,
   "id": "7be4b688",
   "metadata": {},
   "outputs": [
    {
     "data": {
      "text/html": [
       "<div>\n",
       "<style scoped>\n",
       "    .dataframe tbody tr th:only-of-type {\n",
       "        vertical-align: middle;\n",
       "    }\n",
       "\n",
       "    .dataframe tbody tr th {\n",
       "        vertical-align: top;\n",
       "    }\n",
       "\n",
       "    .dataframe thead th {\n",
       "        text-align: right;\n",
       "    }\n",
       "</style>\n",
       "<table border=\"1\" class=\"dataframe\">\n",
       "  <thead>\n",
       "    <tr style=\"text-align: right;\">\n",
       "      <th></th>\n",
       "      <th>Rank</th>\n",
       "      <th>Game</th>\n",
       "      <th>Month</th>\n",
       "      <th>Year</th>\n",
       "      <th>Hours_watched</th>\n",
       "      <th>Hours_Streamed</th>\n",
       "      <th>Peak_viewers</th>\n",
       "      <th>Peak_channels</th>\n",
       "      <th>Streamers</th>\n",
       "      <th>Avg_viewers</th>\n",
       "      <th>Avg_channels</th>\n",
       "      <th>Avg_viewer_ratio</th>\n",
       "    </tr>\n",
       "  </thead>\n",
       "  <tbody>\n",
       "    <tr>\n",
       "      <th>5857</th>\n",
       "      <td>58</td>\n",
       "      <td>Battlefield V</td>\n",
       "      <td>6</td>\n",
       "      <td>2018</td>\n",
       "      <td>1439295</td>\n",
       "      <td>7594 hours</td>\n",
       "      <td>92955</td>\n",
       "      <td>217</td>\n",
       "      <td>1952</td>\n",
       "      <td>2001</td>\n",
       "      <td>10</td>\n",
       "      <td>189.530</td>\n",
       "    </tr>\n",
       "    <tr>\n",
       "      <th>6049</th>\n",
       "      <td>50</td>\n",
       "      <td>Battlefield V</td>\n",
       "      <td>7</td>\n",
       "      <td>2018</td>\n",
       "      <td>1715258</td>\n",
       "      <td>5628 hours</td>\n",
       "      <td>277175</td>\n",
       "      <td>129</td>\n",
       "      <td>1128</td>\n",
       "      <td>2308</td>\n",
       "      <td>7</td>\n",
       "      <td>304.770</td>\n",
       "    </tr>\n",
       "    <tr>\n",
       "      <th>6365</th>\n",
       "      <td>166</td>\n",
       "      <td>Battlefield V</td>\n",
       "      <td>8</td>\n",
       "      <td>2018</td>\n",
       "      <td>287020</td>\n",
       "      <td>5652 hours</td>\n",
       "      <td>22041</td>\n",
       "      <td>187</td>\n",
       "      <td>1301</td>\n",
       "      <td>386</td>\n",
       "      <td>7</td>\n",
       "      <td>50.780</td>\n",
       "    </tr>\n",
       "    <tr>\n",
       "      <th>6437</th>\n",
       "      <td>38</td>\n",
       "      <td>Battlefield V</td>\n",
       "      <td>9</td>\n",
       "      <td>2018</td>\n",
       "      <td>3017250</td>\n",
       "      <td>126263 hours</td>\n",
       "      <td>99443</td>\n",
       "      <td>1825</td>\n",
       "      <td>34670</td>\n",
       "      <td>4196</td>\n",
       "      <td>175</td>\n",
       "      <td>23.900</td>\n",
       "    </tr>\n",
       "    <tr>\n",
       "      <th>6820</th>\n",
       "      <td>21</td>\n",
       "      <td>Battlefield V</td>\n",
       "      <td>11</td>\n",
       "      <td>2018</td>\n",
       "      <td>8322960</td>\n",
       "      <td>252280 hours</td>\n",
       "      <td>89149</td>\n",
       "      <td>1160</td>\n",
       "      <td>46471</td>\n",
       "      <td>11575</td>\n",
       "      <td>350</td>\n",
       "      <td>32.990</td>\n",
       "    </tr>\n",
       "    <tr>\n",
       "      <th>7036</th>\n",
       "      <td>37</td>\n",
       "      <td>Battlefield V</td>\n",
       "      <td>12</td>\n",
       "      <td>2018</td>\n",
       "      <td>3470304</td>\n",
       "      <td>226309 hours</td>\n",
       "      <td>41386</td>\n",
       "      <td>716</td>\n",
       "      <td>44553</td>\n",
       "      <td>4670</td>\n",
       "      <td>304</td>\n",
       "      <td>15.330</td>\n",
       "    </tr>\n",
       "    <tr>\n",
       "      <th>7256</th>\n",
       "      <td>57</td>\n",
       "      <td>Battlefield V</td>\n",
       "      <td>1</td>\n",
       "      <td>2019</td>\n",
       "      <td>1753453</td>\n",
       "      <td>159092 hours</td>\n",
       "      <td>29062</td>\n",
       "      <td>446</td>\n",
       "      <td>33465</td>\n",
       "      <td>2359</td>\n",
       "      <td>214</td>\n",
       "      <td>11.020</td>\n",
       "    </tr>\n",
       "    <tr>\n",
       "      <th>7525</th>\n",
       "      <td>126</td>\n",
       "      <td>Battlefield V</td>\n",
       "      <td>2</td>\n",
       "      <td>2019</td>\n",
       "      <td>503689</td>\n",
       "      <td>71854 hours</td>\n",
       "      <td>5154</td>\n",
       "      <td>314</td>\n",
       "      <td>18523</td>\n",
       "      <td>750</td>\n",
       "      <td>107</td>\n",
       "      <td>7.010</td>\n",
       "    </tr>\n",
       "    <tr>\n",
       "      <th>7634</th>\n",
       "      <td>35</td>\n",
       "      <td>Battlefield V</td>\n",
       "      <td>3</td>\n",
       "      <td>2019</td>\n",
       "      <td>3729617</td>\n",
       "      <td>137867 hours</td>\n",
       "      <td>144098</td>\n",
       "      <td>1739</td>\n",
       "      <td>38658</td>\n",
       "      <td>5019</td>\n",
       "      <td>185</td>\n",
       "      <td>27.050</td>\n",
       "    </tr>\n",
       "    <tr>\n",
       "      <th>7858</th>\n",
       "      <td>59</td>\n",
       "      <td>Battlefield V</td>\n",
       "      <td>4</td>\n",
       "      <td>2019</td>\n",
       "      <td>1673955</td>\n",
       "      <td>125766 hours</td>\n",
       "      <td>40641</td>\n",
       "      <td>508</td>\n",
       "      <td>31553</td>\n",
       "      <td>2328</td>\n",
       "      <td>174</td>\n",
       "      <td>13.310</td>\n",
       "    </tr>\n",
       "    <tr>\n",
       "      <th>8109</th>\n",
       "      <td>110</td>\n",
       "      <td>Battlefield V</td>\n",
       "      <td>5</td>\n",
       "      <td>2019</td>\n",
       "      <td>655499</td>\n",
       "      <td>71835 hours</td>\n",
       "      <td>20579</td>\n",
       "      <td>221</td>\n",
       "      <td>18300</td>\n",
       "      <td>882</td>\n",
       "      <td>96</td>\n",
       "      <td>9.130</td>\n",
       "    </tr>\n",
       "    <tr>\n",
       "      <th>8307</th>\n",
       "      <td>108</td>\n",
       "      <td>Battlefield V</td>\n",
       "      <td>6</td>\n",
       "      <td>2019</td>\n",
       "      <td>752180</td>\n",
       "      <td>70556 hours</td>\n",
       "      <td>27278</td>\n",
       "      <td>195</td>\n",
       "      <td>18066</td>\n",
       "      <td>1046</td>\n",
       "      <td>98</td>\n",
       "      <td>10.660</td>\n",
       "    </tr>\n",
       "    <tr>\n",
       "      <th>8525</th>\n",
       "      <td>126</td>\n",
       "      <td>Battlefield V</td>\n",
       "      <td>7</td>\n",
       "      <td>2019</td>\n",
       "      <td>487860</td>\n",
       "      <td>60419 hours</td>\n",
       "      <td>3102</td>\n",
       "      <td>172</td>\n",
       "      <td>14500</td>\n",
       "      <td>656</td>\n",
       "      <td>81</td>\n",
       "      <td>8.070</td>\n",
       "    </tr>\n",
       "    <tr>\n",
       "      <th>8710</th>\n",
       "      <td>111</td>\n",
       "      <td>Battlefield V</td>\n",
       "      <td>8</td>\n",
       "      <td>2019</td>\n",
       "      <td>532852</td>\n",
       "      <td>61600 hours</td>\n",
       "      <td>27171</td>\n",
       "      <td>172</td>\n",
       "      <td>15369</td>\n",
       "      <td>717</td>\n",
       "      <td>82</td>\n",
       "      <td>8.650</td>\n",
       "    </tr>\n",
       "    <tr>\n",
       "      <th>8951</th>\n",
       "      <td>152</td>\n",
       "      <td>Battlefield V</td>\n",
       "      <td>9</td>\n",
       "      <td>2019</td>\n",
       "      <td>371855</td>\n",
       "      <td>52050 hours</td>\n",
       "      <td>2349</td>\n",
       "      <td>173</td>\n",
       "      <td>11890</td>\n",
       "      <td>517</td>\n",
       "      <td>72</td>\n",
       "      <td>7.140</td>\n",
       "    </tr>\n",
       "    <tr>\n",
       "      <th>9115</th>\n",
       "      <td>116</td>\n",
       "      <td>Battlefield V</td>\n",
       "      <td>10</td>\n",
       "      <td>2019</td>\n",
       "      <td>574264</td>\n",
       "      <td>64286 hours</td>\n",
       "      <td>17877</td>\n",
       "      <td>298</td>\n",
       "      <td>12919</td>\n",
       "      <td>772</td>\n",
       "      <td>86</td>\n",
       "      <td>8.930</td>\n",
       "    </tr>\n",
       "    <tr>\n",
       "      <th>9290</th>\n",
       "      <td>91</td>\n",
       "      <td>Battlefield V</td>\n",
       "      <td>11</td>\n",
       "      <td>2019</td>\n",
       "      <td>789231</td>\n",
       "      <td>69578 hours</td>\n",
       "      <td>32287</td>\n",
       "      <td>280</td>\n",
       "      <td>14894</td>\n",
       "      <td>1097</td>\n",
       "      <td>96</td>\n",
       "      <td>11.340</td>\n",
       "    </tr>\n",
       "    <tr>\n",
       "      <th>9525</th>\n",
       "      <td>126</td>\n",
       "      <td>Battlefield V</td>\n",
       "      <td>12</td>\n",
       "      <td>2019</td>\n",
       "      <td>578916</td>\n",
       "      <td>58033 hours</td>\n",
       "      <td>25583</td>\n",
       "      <td>185</td>\n",
       "      <td>11459</td>\n",
       "      <td>779</td>\n",
       "      <td>78</td>\n",
       "      <td>9.980</td>\n",
       "    </tr>\n",
       "    <tr>\n",
       "      <th>9746</th>\n",
       "      <td>147</td>\n",
       "      <td>Battlefield V</td>\n",
       "      <td>1</td>\n",
       "      <td>2020</td>\n",
       "      <td>556608</td>\n",
       "      <td>57271 hours</td>\n",
       "      <td>11532</td>\n",
       "      <td>165</td>\n",
       "      <td>11435</td>\n",
       "      <td>749</td>\n",
       "      <td>77</td>\n",
       "      <td>9.720</td>\n",
       "    </tr>\n",
       "    <tr>\n",
       "      <th>9950</th>\n",
       "      <td>151</td>\n",
       "      <td>Battlefield V</td>\n",
       "      <td>2</td>\n",
       "      <td>2020</td>\n",
       "      <td>494211</td>\n",
       "      <td>52729 hours</td>\n",
       "      <td>40161</td>\n",
       "      <td>185</td>\n",
       "      <td>10483</td>\n",
       "      <td>711</td>\n",
       "      <td>75</td>\n",
       "      <td>9.370</td>\n",
       "    </tr>\n",
       "    <tr>\n",
       "      <th>12951</th>\n",
       "      <td>152</td>\n",
       "      <td>Battlefield V</td>\n",
       "      <td>5</td>\n",
       "      <td>2021</td>\n",
       "      <td>1093408</td>\n",
       "      <td>187313 hours</td>\n",
       "      <td>30680</td>\n",
       "      <td>610</td>\n",
       "      <td>25935</td>\n",
       "      <td>1471</td>\n",
       "      <td>252</td>\n",
       "      <td>5.840</td>\n",
       "    </tr>\n",
       "    <tr>\n",
       "      <th>13151</th>\n",
       "      <td>152</td>\n",
       "      <td>Battlefield V</td>\n",
       "      <td>6</td>\n",
       "      <td>2021</td>\n",
       "      <td>921331</td>\n",
       "      <td>119691 hours</td>\n",
       "      <td>35450</td>\n",
       "      <td>360</td>\n",
       "      <td>17439</td>\n",
       "      <td>1281</td>\n",
       "      <td>166</td>\n",
       "      <td>7.700</td>\n",
       "    </tr>\n",
       "    <tr>\n",
       "      <th>13537</th>\n",
       "      <td>138</td>\n",
       "      <td>Battlefield V</td>\n",
       "      <td>8</td>\n",
       "      <td>2021</td>\n",
       "      <td>1220289</td>\n",
       "      <td>147487 hours</td>\n",
       "      <td>24914</td>\n",
       "      <td>401</td>\n",
       "      <td>22060</td>\n",
       "      <td>1642</td>\n",
       "      <td>198</td>\n",
       "      <td>8.270</td>\n",
       "    </tr>\n",
       "    <tr>\n",
       "      <th>13762</th>\n",
       "      <td>163</td>\n",
       "      <td>Battlefield V</td>\n",
       "      <td>9</td>\n",
       "      <td>2021</td>\n",
       "      <td>897678</td>\n",
       "      <td>129779 hours</td>\n",
       "      <td>24801</td>\n",
       "      <td>407</td>\n",
       "      <td>17695</td>\n",
       "      <td>1248</td>\n",
       "      <td>180</td>\n",
       "      <td>6.920</td>\n",
       "    </tr>\n",
       "  </tbody>\n",
       "</table>\n",
       "</div>"
      ],
      "text/plain": [
       "       Rank           Game  Month  Year  Hours_watched Hours_Streamed  \\\n",
       "5857     58  Battlefield V      6  2018        1439295     7594 hours   \n",
       "6049     50  Battlefield V      7  2018        1715258     5628 hours   \n",
       "6365    166  Battlefield V      8  2018         287020     5652 hours   \n",
       "6437     38  Battlefield V      9  2018        3017250   126263 hours   \n",
       "6820     21  Battlefield V     11  2018        8322960   252280 hours   \n",
       "7036     37  Battlefield V     12  2018        3470304   226309 hours   \n",
       "7256     57  Battlefield V      1  2019        1753453   159092 hours   \n",
       "7525    126  Battlefield V      2  2019         503689    71854 hours   \n",
       "7634     35  Battlefield V      3  2019        3729617   137867 hours   \n",
       "7858     59  Battlefield V      4  2019        1673955   125766 hours   \n",
       "8109    110  Battlefield V      5  2019         655499    71835 hours   \n",
       "8307    108  Battlefield V      6  2019         752180    70556 hours   \n",
       "8525    126  Battlefield V      7  2019         487860    60419 hours   \n",
       "8710    111  Battlefield V      8  2019         532852    61600 hours   \n",
       "8951    152  Battlefield V      9  2019         371855    52050 hours   \n",
       "9115    116  Battlefield V     10  2019         574264    64286 hours   \n",
       "9290     91  Battlefield V     11  2019         789231    69578 hours   \n",
       "9525    126  Battlefield V     12  2019         578916    58033 hours   \n",
       "9746    147  Battlefield V      1  2020         556608    57271 hours   \n",
       "9950    151  Battlefield V      2  2020         494211    52729 hours   \n",
       "12951   152  Battlefield V      5  2021        1093408   187313 hours   \n",
       "13151   152  Battlefield V      6  2021         921331   119691 hours   \n",
       "13537   138  Battlefield V      8  2021        1220289   147487 hours   \n",
       "13762   163  Battlefield V      9  2021         897678   129779 hours   \n",
       "\n",
       "       Peak_viewers  Peak_channels  Streamers  Avg_viewers  Avg_channels  \\\n",
       "5857          92955            217       1952         2001            10   \n",
       "6049         277175            129       1128         2308             7   \n",
       "6365          22041            187       1301          386             7   \n",
       "6437          99443           1825      34670         4196           175   \n",
       "6820          89149           1160      46471        11575           350   \n",
       "7036          41386            716      44553         4670           304   \n",
       "7256          29062            446      33465         2359           214   \n",
       "7525           5154            314      18523          750           107   \n",
       "7634         144098           1739      38658         5019           185   \n",
       "7858          40641            508      31553         2328           174   \n",
       "8109          20579            221      18300          882            96   \n",
       "8307          27278            195      18066         1046            98   \n",
       "8525           3102            172      14500          656            81   \n",
       "8710          27171            172      15369          717            82   \n",
       "8951           2349            173      11890          517            72   \n",
       "9115          17877            298      12919          772            86   \n",
       "9290          32287            280      14894         1097            96   \n",
       "9525          25583            185      11459          779            78   \n",
       "9746          11532            165      11435          749            77   \n",
       "9950          40161            185      10483          711            75   \n",
       "12951         30680            610      25935         1471           252   \n",
       "13151         35450            360      17439         1281           166   \n",
       "13537         24914            401      22060         1642           198   \n",
       "13762         24801            407      17695         1248           180   \n",
       "\n",
       "       Avg_viewer_ratio  \n",
       "5857            189.530  \n",
       "6049            304.770  \n",
       "6365             50.780  \n",
       "6437             23.900  \n",
       "6820             32.990  \n",
       "7036             15.330  \n",
       "7256             11.020  \n",
       "7525              7.010  \n",
       "7634             27.050  \n",
       "7858             13.310  \n",
       "8109              9.130  \n",
       "8307             10.660  \n",
       "8525              8.070  \n",
       "8710              8.650  \n",
       "8951              7.140  \n",
       "9115              8.930  \n",
       "9290             11.340  \n",
       "9525              9.980  \n",
       "9746              9.720  \n",
       "9950              9.370  \n",
       "12951             5.840  \n",
       "13151             7.700  \n",
       "13537             8.270  \n",
       "13762             6.920  "
      ]
     },
     "execution_count": 243,
     "metadata": {},
     "output_type": "execute_result"
    }
   ],
   "source": [
    "\n",
    "twitch[twitch[\"Game\"] == \"Battlefield V\"]\n"
   ]
  },
  {
   "cell_type": "code",
   "execution_count": 192,
   "id": "a38fedd8",
   "metadata": {},
   "outputs": [
    {
     "data": {
      "text/html": [
       "<div>\n",
       "<style scoped>\n",
       "    .dataframe tbody tr th:only-of-type {\n",
       "        vertical-align: middle;\n",
       "    }\n",
       "\n",
       "    .dataframe tbody tr th {\n",
       "        vertical-align: top;\n",
       "    }\n",
       "\n",
       "    .dataframe thead th {\n",
       "        text-align: right;\n",
       "    }\n",
       "</style>\n",
       "<table border=\"1\" class=\"dataframe\">\n",
       "  <thead>\n",
       "    <tr style=\"text-align: right;\">\n",
       "      <th></th>\n",
       "      <th>Rank</th>\n",
       "      <th>Game</th>\n",
       "      <th>Month</th>\n",
       "      <th>Year</th>\n",
       "      <th>Hours_watched</th>\n",
       "      <th>Hours_Streamed</th>\n",
       "      <th>Peak_viewers</th>\n",
       "      <th>Peak_channels</th>\n",
       "      <th>Streamers</th>\n",
       "      <th>Avg_viewers</th>\n",
       "      <th>Avg_channels</th>\n",
       "      <th>Avg_viewer_ratio</th>\n",
       "    </tr>\n",
       "  </thead>\n",
       "  <tbody>\n",
       "    <tr>\n",
       "      <th>7400</th>\n",
       "      <td>1</td>\n",
       "      <td>Apex Legends</td>\n",
       "      <td>2</td>\n",
       "      <td>2019</td>\n",
       "      <td>123090969</td>\n",
       "      <td>5580337 hours</td>\n",
       "      <td>666868</td>\n",
       "      <td>18932</td>\n",
       "      <td>663781</td>\n",
       "      <td>183444</td>\n",
       "      <td>8316</td>\n",
       "      <td>22.060</td>\n",
       "    </tr>\n",
       "    <tr>\n",
       "      <th>7603</th>\n",
       "      <td>4</td>\n",
       "      <td>Apex Legends</td>\n",
       "      <td>3</td>\n",
       "      <td>2019</td>\n",
       "      <td>59660790</td>\n",
       "      <td>3786745 hours</td>\n",
       "      <td>303666</td>\n",
       "      <td>10439</td>\n",
       "      <td>437017</td>\n",
       "      <td>80297</td>\n",
       "      <td>5096</td>\n",
       "      <td>15.760</td>\n",
       "    </tr>\n",
       "    <tr>\n",
       "      <th>7808</th>\n",
       "      <td>9</td>\n",
       "      <td>Apex Legends</td>\n",
       "      <td>4</td>\n",
       "      <td>2019</td>\n",
       "      <td>25099028</td>\n",
       "      <td>2009967 hours</td>\n",
       "      <td>199116</td>\n",
       "      <td>5000</td>\n",
       "      <td>259932</td>\n",
       "      <td>34908</td>\n",
       "      <td>2795</td>\n",
       "      <td>12.490</td>\n",
       "    </tr>\n",
       "    <tr>\n",
       "      <th>8010</th>\n",
       "      <td>11</td>\n",
       "      <td>Apex Legends</td>\n",
       "      <td>5</td>\n",
       "      <td>2019</td>\n",
       "      <td>13976089</td>\n",
       "      <td>1373679 hours</td>\n",
       "      <td>64389</td>\n",
       "      <td>3109</td>\n",
       "      <td>175115</td>\n",
       "      <td>18810</td>\n",
       "      <td>1848</td>\n",
       "      <td>10.170</td>\n",
       "    </tr>\n",
       "    <tr>\n",
       "      <th>8215</th>\n",
       "      <td>16</td>\n",
       "      <td>Apex Legends</td>\n",
       "      <td>6</td>\n",
       "      <td>2019</td>\n",
       "      <td>11628044</td>\n",
       "      <td>1172991 hours</td>\n",
       "      <td>54216</td>\n",
       "      <td>3070</td>\n",
       "      <td>139885</td>\n",
       "      <td>16172</td>\n",
       "      <td>1631</td>\n",
       "      <td>9.910</td>\n",
       "    </tr>\n",
       "  </tbody>\n",
       "</table>\n",
       "</div>"
      ],
      "text/plain": [
       "      Rank          Game  Month  Year  Hours_watched Hours_Streamed  \\\n",
       "7400     1  Apex Legends      2  2019      123090969  5580337 hours   \n",
       "7603     4  Apex Legends      3  2019       59660790  3786745 hours   \n",
       "7808     9  Apex Legends      4  2019       25099028  2009967 hours   \n",
       "8010    11  Apex Legends      5  2019       13976089  1373679 hours   \n",
       "8215    16  Apex Legends      6  2019       11628044  1172991 hours   \n",
       "\n",
       "      Peak_viewers  Peak_channels  Streamers  Avg_viewers  Avg_channels  \\\n",
       "7400        666868          18932     663781       183444          8316   \n",
       "7603        303666          10439     437017        80297          5096   \n",
       "7808        199116           5000     259932        34908          2795   \n",
       "8010         64389           3109     175115        18810          1848   \n",
       "8215         54216           3070     139885        16172          1631   \n",
       "\n",
       "      Avg_viewer_ratio  \n",
       "7400            22.060  \n",
       "7603            15.760  \n",
       "7808            12.490  \n",
       "8010            10.170  \n",
       "8215             9.910  "
      ]
     },
     "execution_count": 192,
     "metadata": {},
     "output_type": "execute_result"
    }
   ],
   "source": [
    "twitch[twitch[\"Game\"] == \"Apex Legends\"].head()"
   ]
  },
  {
   "cell_type": "code",
   "execution_count": 193,
   "id": "4e610088",
   "metadata": {},
   "outputs": [
    {
     "data": {
      "text/html": [
       "<div>\n",
       "<style scoped>\n",
       "    .dataframe tbody tr th:only-of-type {\n",
       "        vertical-align: middle;\n",
       "    }\n",
       "\n",
       "    .dataframe tbody tr th {\n",
       "        vertical-align: top;\n",
       "    }\n",
       "\n",
       "    .dataframe thead th {\n",
       "        text-align: right;\n",
       "    }\n",
       "</style>\n",
       "<table border=\"1\" class=\"dataframe\">\n",
       "  <thead>\n",
       "    <tr style=\"text-align: right;\">\n",
       "      <th></th>\n",
       "      <th>Rank</th>\n",
       "      <th>Game</th>\n",
       "      <th>Month</th>\n",
       "      <th>Year</th>\n",
       "      <th>Hours_watched</th>\n",
       "      <th>Hours_Streamed</th>\n",
       "      <th>Peak_viewers</th>\n",
       "      <th>Peak_channels</th>\n",
       "      <th>Streamers</th>\n",
       "      <th>Avg_viewers</th>\n",
       "      <th>Avg_channels</th>\n",
       "      <th>Avg_viewer_ratio</th>\n",
       "    </tr>\n",
       "  </thead>\n",
       "  <tbody>\n",
       "    <tr>\n",
       "      <th>2013</th>\n",
       "      <td>14</td>\n",
       "      <td>Call of Duty: Modern Warfare Remastered</td>\n",
       "      <td>11</td>\n",
       "      <td>2016</td>\n",
       "      <td>5327026</td>\n",
       "      <td>106952 hours</td>\n",
       "      <td>74303</td>\n",
       "      <td>484</td>\n",
       "      <td>37998</td>\n",
       "      <td>7408</td>\n",
       "      <td>148</td>\n",
       "      <td>49.810</td>\n",
       "    </tr>\n",
       "    <tr>\n",
       "      <th>2233</th>\n",
       "      <td>34</td>\n",
       "      <td>Call of Duty: Modern Warfare Remastered</td>\n",
       "      <td>12</td>\n",
       "      <td>2016</td>\n",
       "      <td>2080105</td>\n",
       "      <td>71789 hours</td>\n",
       "      <td>12767</td>\n",
       "      <td>201</td>\n",
       "      <td>6994</td>\n",
       "      <td>2799</td>\n",
       "      <td>96</td>\n",
       "      <td>28.980</td>\n",
       "    </tr>\n",
       "    <tr>\n",
       "      <th>2445</th>\n",
       "      <td>46</td>\n",
       "      <td>Call of Duty: Modern Warfare Remastered</td>\n",
       "      <td>1</td>\n",
       "      <td>2017</td>\n",
       "      <td>1740196</td>\n",
       "      <td>62831 hours</td>\n",
       "      <td>19383</td>\n",
       "      <td>221</td>\n",
       "      <td>23754</td>\n",
       "      <td>2342</td>\n",
       "      <td>84</td>\n",
       "      <td>27.700</td>\n",
       "    </tr>\n",
       "    <tr>\n",
       "      <th>2649</th>\n",
       "      <td>50</td>\n",
       "      <td>Call of Duty: Modern Warfare Remastered</td>\n",
       "      <td>2</td>\n",
       "      <td>2017</td>\n",
       "      <td>1039175</td>\n",
       "      <td>64284 hours</td>\n",
       "      <td>12677</td>\n",
       "      <td>293</td>\n",
       "      <td>17251</td>\n",
       "      <td>1548</td>\n",
       "      <td>95</td>\n",
       "      <td>16.170</td>\n",
       "    </tr>\n",
       "    <tr>\n",
       "      <th>2861</th>\n",
       "      <td>62</td>\n",
       "      <td>Call of Duty: Modern Warfare Remastered</td>\n",
       "      <td>3</td>\n",
       "      <td>2017</td>\n",
       "      <td>819242</td>\n",
       "      <td>88258 hours</td>\n",
       "      <td>10713</td>\n",
       "      <td>379</td>\n",
       "      <td>14622</td>\n",
       "      <td>1102</td>\n",
       "      <td>118</td>\n",
       "      <td>9.280</td>\n",
       "    </tr>\n",
       "  </tbody>\n",
       "</table>\n",
       "</div>"
      ],
      "text/plain": [
       "      Rank                                     Game  Month  Year  \\\n",
       "2013    14  Call of Duty: Modern Warfare Remastered     11  2016   \n",
       "2233    34  Call of Duty: Modern Warfare Remastered     12  2016   \n",
       "2445    46  Call of Duty: Modern Warfare Remastered      1  2017   \n",
       "2649    50  Call of Duty: Modern Warfare Remastered      2  2017   \n",
       "2861    62  Call of Duty: Modern Warfare Remastered      3  2017   \n",
       "\n",
       "      Hours_watched Hours_Streamed  Peak_viewers  Peak_channels  Streamers  \\\n",
       "2013        5327026   106952 hours         74303            484      37998   \n",
       "2233        2080105    71789 hours         12767            201       6994   \n",
       "2445        1740196    62831 hours         19383            221      23754   \n",
       "2649        1039175    64284 hours         12677            293      17251   \n",
       "2861         819242    88258 hours         10713            379      14622   \n",
       "\n",
       "      Avg_viewers  Avg_channels  Avg_viewer_ratio  \n",
       "2013         7408           148            49.810  \n",
       "2233         2799            96            28.980  \n",
       "2445         2342            84            27.700  \n",
       "2649         1548            95            16.170  \n",
       "2861         1102           118             9.280  "
      ]
     },
     "execution_count": 193,
     "metadata": {},
     "output_type": "execute_result"
    }
   ],
   "source": [
    "twitch[twitch[\"Game\"] == \"Call of Duty: Modern Warfare Remastered\"].head()"
   ]
  },
  {
   "cell_type": "code",
   "execution_count": 194,
   "id": "9183a9b7",
   "metadata": {},
   "outputs": [
    {
     "data": {
      "text/html": [
       "<div>\n",
       "<style scoped>\n",
       "    .dataframe tbody tr th:only-of-type {\n",
       "        vertical-align: middle;\n",
       "    }\n",
       "\n",
       "    .dataframe tbody tr th {\n",
       "        vertical-align: top;\n",
       "    }\n",
       "\n",
       "    .dataframe thead th {\n",
       "        text-align: right;\n",
       "    }\n",
       "</style>\n",
       "<table border=\"1\" class=\"dataframe\">\n",
       "  <thead>\n",
       "    <tr style=\"text-align: right;\">\n",
       "      <th></th>\n",
       "      <th>Rank</th>\n",
       "      <th>Game</th>\n",
       "      <th>Month</th>\n",
       "      <th>Year</th>\n",
       "      <th>Hours_watched</th>\n",
       "      <th>Hours_Streamed</th>\n",
       "      <th>Peak_viewers</th>\n",
       "      <th>Peak_channels</th>\n",
       "      <th>Streamers</th>\n",
       "      <th>Avg_viewers</th>\n",
       "      <th>Avg_channels</th>\n",
       "      <th>Avg_viewer_ratio</th>\n",
       "    </tr>\n",
       "  </thead>\n",
       "  <tbody>\n",
       "    <tr>\n",
       "      <th>102</th>\n",
       "      <td>103</td>\n",
       "      <td>Team Fortress 2</td>\n",
       "      <td>1</td>\n",
       "      <td>2016</td>\n",
       "      <td>329765</td>\n",
       "      <td>25296 hours</td>\n",
       "      <td>32609</td>\n",
       "      <td>86</td>\n",
       "      <td>4933</td>\n",
       "      <td>443</td>\n",
       "      <td>34</td>\n",
       "      <td>13.040</td>\n",
       "    </tr>\n",
       "    <tr>\n",
       "      <th>300</th>\n",
       "      <td>101</td>\n",
       "      <td>Team Fortress 2</td>\n",
       "      <td>2</td>\n",
       "      <td>2016</td>\n",
       "      <td>270708</td>\n",
       "      <td>23017 hours</td>\n",
       "      <td>7883</td>\n",
       "      <td>88</td>\n",
       "      <td>4509</td>\n",
       "      <td>389</td>\n",
       "      <td>33</td>\n",
       "      <td>11.760</td>\n",
       "    </tr>\n",
       "    <tr>\n",
       "      <th>480</th>\n",
       "      <td>81</td>\n",
       "      <td>Team Fortress 2</td>\n",
       "      <td>3</td>\n",
       "      <td>2016</td>\n",
       "      <td>384852</td>\n",
       "      <td>25859 hours</td>\n",
       "      <td>2995</td>\n",
       "      <td>88</td>\n",
       "      <td>4979</td>\n",
       "      <td>517</td>\n",
       "      <td>34</td>\n",
       "      <td>14.880</td>\n",
       "    </tr>\n",
       "    <tr>\n",
       "      <th>668</th>\n",
       "      <td>69</td>\n",
       "      <td>Team Fortress 2</td>\n",
       "      <td>4</td>\n",
       "      <td>2016</td>\n",
       "      <td>510682</td>\n",
       "      <td>29726 hours</td>\n",
       "      <td>7238</td>\n",
       "      <td>103</td>\n",
       "      <td>5181</td>\n",
       "      <td>710</td>\n",
       "      <td>41</td>\n",
       "      <td>17.180</td>\n",
       "    </tr>\n",
       "    <tr>\n",
       "      <th>864</th>\n",
       "      <td>65</td>\n",
       "      <td>Team Fortress 2</td>\n",
       "      <td>5</td>\n",
       "      <td>2016</td>\n",
       "      <td>438525</td>\n",
       "      <td>25541 hours</td>\n",
       "      <td>31233</td>\n",
       "      <td>84</td>\n",
       "      <td>5266</td>\n",
       "      <td>590</td>\n",
       "      <td>34</td>\n",
       "      <td>17.170</td>\n",
       "    </tr>\n",
       "  </tbody>\n",
       "</table>\n",
       "</div>"
      ],
      "text/plain": [
       "     Rank             Game  Month  Year  Hours_watched Hours_Streamed  \\\n",
       "102   103  Team Fortress 2      1  2016         329765    25296 hours   \n",
       "300   101  Team Fortress 2      2  2016         270708    23017 hours   \n",
       "480    81  Team Fortress 2      3  2016         384852    25859 hours   \n",
       "668    69  Team Fortress 2      4  2016         510682    29726 hours   \n",
       "864    65  Team Fortress 2      5  2016         438525    25541 hours   \n",
       "\n",
       "     Peak_viewers  Peak_channels  Streamers  Avg_viewers  Avg_channels  \\\n",
       "102         32609             86       4933          443            34   \n",
       "300          7883             88       4509          389            33   \n",
       "480          2995             88       4979          517            34   \n",
       "668          7238            103       5181          710            41   \n",
       "864         31233             84       5266          590            34   \n",
       "\n",
       "     Avg_viewer_ratio  \n",
       "102            13.040  \n",
       "300            11.760  \n",
       "480            14.880  \n",
       "668            17.180  \n",
       "864            17.170  "
      ]
     },
     "execution_count": 194,
     "metadata": {},
     "output_type": "execute_result"
    }
   ],
   "source": [
    "twitch[twitch[\"Game\"] == \"Team Fortress 2\"].head()"
   ]
  },
  {
   "cell_type": "code",
   "execution_count": 195,
   "id": "c13d2de2",
   "metadata": {},
   "outputs": [
    {
     "data": {
      "text/html": [
       "<div>\n",
       "<style scoped>\n",
       "    .dataframe tbody tr th:only-of-type {\n",
       "        vertical-align: middle;\n",
       "    }\n",
       "\n",
       "    .dataframe tbody tr th {\n",
       "        vertical-align: top;\n",
       "    }\n",
       "\n",
       "    .dataframe thead th {\n",
       "        text-align: right;\n",
       "    }\n",
       "</style>\n",
       "<table border=\"1\" class=\"dataframe\">\n",
       "  <thead>\n",
       "    <tr style=\"text-align: right;\">\n",
       "      <th></th>\n",
       "      <th>Rank</th>\n",
       "      <th>Game</th>\n",
       "      <th>Month</th>\n",
       "      <th>Year</th>\n",
       "      <th>Hours_watched</th>\n",
       "      <th>Hours_Streamed</th>\n",
       "      <th>Peak_viewers</th>\n",
       "      <th>Peak_channels</th>\n",
       "      <th>Streamers</th>\n",
       "      <th>Avg_viewers</th>\n",
       "      <th>Avg_channels</th>\n",
       "      <th>Avg_viewer_ratio</th>\n",
       "    </tr>\n",
       "  </thead>\n",
       "  <tbody>\n",
       "    <tr>\n",
       "      <th>15</th>\n",
       "      <td>16</td>\n",
       "      <td>Tom Clancy's Rainbow Six Siege</td>\n",
       "      <td>1</td>\n",
       "      <td>2016</td>\n",
       "      <td>4866039</td>\n",
       "      <td>242134 hours</td>\n",
       "      <td>25742</td>\n",
       "      <td>694</td>\n",
       "      <td>42244</td>\n",
       "      <td>6549</td>\n",
       "      <td>325</td>\n",
       "      <td>20.100</td>\n",
       "    </tr>\n",
       "    <tr>\n",
       "      <th>217</th>\n",
       "      <td>18</td>\n",
       "      <td>Tom Clancy's Rainbow Six Siege</td>\n",
       "      <td>2</td>\n",
       "      <td>2016</td>\n",
       "      <td>3237323</td>\n",
       "      <td>219127 hours</td>\n",
       "      <td>28240</td>\n",
       "      <td>628</td>\n",
       "      <td>36759</td>\n",
       "      <td>4658</td>\n",
       "      <td>315</td>\n",
       "      <td>14.770</td>\n",
       "    </tr>\n",
       "    <tr>\n",
       "      <th>432</th>\n",
       "      <td>33</td>\n",
       "      <td>Tom Clancy's Rainbow Six Siege</td>\n",
       "      <td>3</td>\n",
       "      <td>2016</td>\n",
       "      <td>1912821</td>\n",
       "      <td>152463 hours</td>\n",
       "      <td>20699</td>\n",
       "      <td>503</td>\n",
       "      <td>26653</td>\n",
       "      <td>2574</td>\n",
       "      <td>205</td>\n",
       "      <td>12.550</td>\n",
       "    </tr>\n",
       "    <tr>\n",
       "      <th>631</th>\n",
       "      <td>32</td>\n",
       "      <td>Tom Clancy's Rainbow Six Siege</td>\n",
       "      <td>4</td>\n",
       "      <td>2016</td>\n",
       "      <td>1649119</td>\n",
       "      <td>143717 hours</td>\n",
       "      <td>35253</td>\n",
       "      <td>409</td>\n",
       "      <td>22162</td>\n",
       "      <td>2293</td>\n",
       "      <td>199</td>\n",
       "      <td>11.470</td>\n",
       "    </tr>\n",
       "    <tr>\n",
       "      <th>831</th>\n",
       "      <td>32</td>\n",
       "      <td>Tom Clancy's Rainbow Six Siege</td>\n",
       "      <td>5</td>\n",
       "      <td>2016</td>\n",
       "      <td>1856155</td>\n",
       "      <td>185962 hours</td>\n",
       "      <td>17742</td>\n",
       "      <td>653</td>\n",
       "      <td>33339</td>\n",
       "      <td>2498</td>\n",
       "      <td>250</td>\n",
       "      <td>9.980</td>\n",
       "    </tr>\n",
       "  </tbody>\n",
       "</table>\n",
       "</div>"
      ],
      "text/plain": [
       "     Rank                            Game  Month  Year  Hours_watched  \\\n",
       "15     16  Tom Clancy's Rainbow Six Siege      1  2016        4866039   \n",
       "217    18  Tom Clancy's Rainbow Six Siege      2  2016        3237323   \n",
       "432    33  Tom Clancy's Rainbow Six Siege      3  2016        1912821   \n",
       "631    32  Tom Clancy's Rainbow Six Siege      4  2016        1649119   \n",
       "831    32  Tom Clancy's Rainbow Six Siege      5  2016        1856155   \n",
       "\n",
       "    Hours_Streamed  Peak_viewers  Peak_channels  Streamers  Avg_viewers  \\\n",
       "15    242134 hours         25742            694      42244         6549   \n",
       "217   219127 hours         28240            628      36759         4658   \n",
       "432   152463 hours         20699            503      26653         2574   \n",
       "631   143717 hours         35253            409      22162         2293   \n",
       "831   185962 hours         17742            653      33339         2498   \n",
       "\n",
       "     Avg_channels  Avg_viewer_ratio  \n",
       "15            325            20.100  \n",
       "217           315            14.770  \n",
       "432           205            12.550  \n",
       "631           199            11.470  \n",
       "831           250             9.980  "
      ]
     },
     "execution_count": 195,
     "metadata": {},
     "output_type": "execute_result"
    }
   ],
   "source": [
    "twitch[twitch[\"Game\"] == \"Tom Clancy's Rainbow Six Siege\"].head()\n"
   ]
  },
  {
   "cell_type": "code",
   "execution_count": 196,
   "id": "5012f5a8",
   "metadata": {},
   "outputs": [
    {
     "data": {
      "text/html": [
       "<div>\n",
       "<style scoped>\n",
       "    .dataframe tbody tr th:only-of-type {\n",
       "        vertical-align: middle;\n",
       "    }\n",
       "\n",
       "    .dataframe tbody tr th {\n",
       "        vertical-align: top;\n",
       "    }\n",
       "\n",
       "    .dataframe thead th {\n",
       "        text-align: right;\n",
       "    }\n",
       "</style>\n",
       "<table border=\"1\" class=\"dataframe\">\n",
       "  <thead>\n",
       "    <tr style=\"text-align: right;\">\n",
       "      <th></th>\n",
       "      <th>Rank</th>\n",
       "      <th>Game</th>\n",
       "      <th>Month</th>\n",
       "      <th>Year</th>\n",
       "      <th>Hours_watched</th>\n",
       "      <th>Hours_Streamed</th>\n",
       "      <th>Peak_viewers</th>\n",
       "      <th>Peak_channels</th>\n",
       "      <th>Streamers</th>\n",
       "      <th>Avg_viewers</th>\n",
       "      <th>Avg_channels</th>\n",
       "      <th>Avg_viewer_ratio</th>\n",
       "    </tr>\n",
       "  </thead>\n",
       "  <tbody>\n",
       "    <tr>\n",
       "      <th>0</th>\n",
       "      <td>1</td>\n",
       "      <td>League of Legends</td>\n",
       "      <td>1</td>\n",
       "      <td>2016</td>\n",
       "      <td>94377226</td>\n",
       "      <td>1362044 hours</td>\n",
       "      <td>530270</td>\n",
       "      <td>2903</td>\n",
       "      <td>129172</td>\n",
       "      <td>127021</td>\n",
       "      <td>1833</td>\n",
       "      <td>69.290</td>\n",
       "    </tr>\n",
       "    <tr>\n",
       "      <th>1</th>\n",
       "      <td>2</td>\n",
       "      <td>Counter-Strike: Global Offensive</td>\n",
       "      <td>1</td>\n",
       "      <td>2016</td>\n",
       "      <td>47832863</td>\n",
       "      <td>830105 hours</td>\n",
       "      <td>372654</td>\n",
       "      <td>2197</td>\n",
       "      <td>120849</td>\n",
       "      <td>64378</td>\n",
       "      <td>1117</td>\n",
       "      <td>57.620</td>\n",
       "    </tr>\n",
       "    <tr>\n",
       "      <th>2</th>\n",
       "      <td>3</td>\n",
       "      <td>Dota 2</td>\n",
       "      <td>1</td>\n",
       "      <td>2016</td>\n",
       "      <td>45185893</td>\n",
       "      <td>433397 hours</td>\n",
       "      <td>315083</td>\n",
       "      <td>1100</td>\n",
       "      <td>44074</td>\n",
       "      <td>60815</td>\n",
       "      <td>583</td>\n",
       "      <td>104.260</td>\n",
       "    </tr>\n",
       "    <tr>\n",
       "      <th>3</th>\n",
       "      <td>4</td>\n",
       "      <td>Hearthstone</td>\n",
       "      <td>1</td>\n",
       "      <td>2016</td>\n",
       "      <td>39936159</td>\n",
       "      <td>235903 hours</td>\n",
       "      <td>131357</td>\n",
       "      <td>517</td>\n",
       "      <td>36170</td>\n",
       "      <td>53749</td>\n",
       "      <td>317</td>\n",
       "      <td>169.290</td>\n",
       "    </tr>\n",
       "    <tr>\n",
       "      <th>4</th>\n",
       "      <td>5</td>\n",
       "      <td>Call of Duty: Black Ops III</td>\n",
       "      <td>1</td>\n",
       "      <td>2016</td>\n",
       "      <td>16153057</td>\n",
       "      <td>1151578 hours</td>\n",
       "      <td>71639</td>\n",
       "      <td>3620</td>\n",
       "      <td>214054</td>\n",
       "      <td>21740</td>\n",
       "      <td>1549</td>\n",
       "      <td>14.030</td>\n",
       "    </tr>\n",
       "  </tbody>\n",
       "</table>\n",
       "</div>"
      ],
      "text/plain": [
       "   Rank                              Game  Month  Year  Hours_watched  \\\n",
       "0     1                 League of Legends      1  2016       94377226   \n",
       "1     2  Counter-Strike: Global Offensive      1  2016       47832863   \n",
       "2     3                            Dota 2      1  2016       45185893   \n",
       "3     4                       Hearthstone      1  2016       39936159   \n",
       "4     5       Call of Duty: Black Ops III      1  2016       16153057   \n",
       "\n",
       "  Hours_Streamed  Peak_viewers  Peak_channels  Streamers  Avg_viewers  \\\n",
       "0  1362044 hours        530270           2903     129172       127021   \n",
       "1   830105 hours        372654           2197     120849        64378   \n",
       "2   433397 hours        315083           1100      44074        60815   \n",
       "3   235903 hours        131357            517      36170        53749   \n",
       "4  1151578 hours         71639           3620     214054        21740   \n",
       "\n",
       "   Avg_channels  Avg_viewer_ratio  \n",
       "0          1833            69.290  \n",
       "1          1117            57.620  \n",
       "2           583           104.260  \n",
       "3           317           169.290  \n",
       "4          1549            14.030  "
      ]
     },
     "execution_count": 196,
     "metadata": {},
     "output_type": "execute_result"
    }
   ],
   "source": [
    "twiitchcsgo = twiitch[twiitch[\"Game\"] == \"Counter-Strike: Global Offensive\"]\n",
    "twiitch.head()"
   ]
  },
  {
   "cell_type": "code",
   "execution_count": null,
   "id": "2ed27271",
   "metadata": {
    "scrolled": false
   },
   "outputs": [],
   "source": []
  },
  {
   "cell_type": "code",
   "execution_count": 198,
   "id": "5e65a03d",
   "metadata": {},
   "outputs": [],
   "source": [
    "#  I will make visualization to measure the correlation between variables"
   ]
  },
  {
   "cell_type": "code",
   "execution_count": 199,
   "id": "ab663ef1",
   "metadata": {},
   "outputs": [
    {
     "data": {
      "image/png": "[encoded data removed]",
      "text/plain": [
       "<Figure size 432x288 with 1 Axes>"
      ]
     },
     "metadata": {
      "needs_background": "light"
     },
     "output_type": "display_data"
    }
   ],
   "source": [
    "sns.scatterplot(x = \"Avg_viewers\", y = \"Streamers\",\n",
    "                color='b',\n",
    "                hue = \"Year\",\n",
    "                data = twitch);"
   ]
  },
  {
   "cell_type": "code",
   "execution_count": 200,
   "id": "654c2e9a",
   "metadata": {
    "scrolled": false
   },
   "outputs": [
    {
     "data": {
      "image/png": "[encoded data removed]",
      "text/plain": [
       "<Figure size 432x432 with 3 Axes>"
      ]
     },
     "metadata": {
      "needs_background": "light"
     },
     "output_type": "display_data"
    }
   ],
   "source": [
    "sns.jointplot(x = \"Peak_viewers\", y = \"Peak_channels\", \n",
    "              color = \"g\" , \n",
    "              kind = \"reg\" ,\n",
    "              data = twitch);"
   ]
  },
  {
   "cell_type": "code",
   "execution_count": 201,
   "id": "f99aae71",
   "metadata": {},
   "outputs": [],
   "source": [
    "#let's prepare our variables for the predict model"
   ]
  },
  {
   "cell_type": "code",
   "execution_count": 202,
   "id": "3f560faa",
   "metadata": {},
   "outputs": [],
   "source": [
    "df=pd.read_csv(\"son data.csv\")\n",
    "df['Date'] = df.apply(lambda row: datetime.strptime(f\"{int(row.Year)}-{int(row.Month)}\", '%Y-%m'),axis=1)\n",
    "df.drop(['Month','Year'], axis='columns', inplace = True)"
   ]
  },
  {
   "cell_type": "code",
   "execution_count": 203,
   "id": "4370749b",
   "metadata": {},
   "outputs": [],
   "source": [
    "# We choose 3 games for predict : Rainbow, CS-Go, Fortress, Cod, Apex, Battlefield\n",
    "# We are subtracting other variables to predict Avg_viewers"
   ]
  },
  {
   "cell_type": "code",
   "execution_count": 204,
   "id": "cdfe42d4",
   "metadata": {},
   "outputs": [],
   "source": [
    "dfrbs = df[df[\"Game\"] == \"Tom Clancy's Rainbow Six Siege\"]\n",
    "dfcsgo = df[df[\"Game\"] == \"Counter-Strike: Global Offensive\"]\n",
    "dftf2 = df[df[\"Game\"] == \"Team Fortress 2\"]\n",
    "dfcod = df[df[\"Game\"] == \"Call of Duty: Modern Warfare Remastered\"]\n",
    "dfapex = df[df[\"Game\"] == \"Apex Legends\"]\n",
    "dfbf=df[df[\"Game\"] == \"Battlefield V\"]\n"
   ]
  },
  {
   "cell_type": "code",
   "execution_count": 205,
   "id": "a6119191",
   "metadata": {},
   "outputs": [],
   "source": [
    "x = [\"Rank\",\"Game\",\"Hours_watched\",\"Hours_Streamed\",\"Peak_viewers\",\"Peak_channels\",\"Streamers\",\"Avg_channels\",\"Avg_viewer_ratio\"]\n",
    "dfrbs.drop(x, axis = 1 , inplace = True)\n",
    "dfcsgo.drop(x, axis = 1 , inplace = True)\n",
    "dftf2.drop(x, axis = 1 , inplace = True)\n",
    "dfcod.drop(x, axis = 1 , inplace = True)\n",
    "dfapex.drop(x, axis = 1 , inplace = True)\n",
    "dfbf.drop(x, axis = 1 , inplace = True)"
   ]
  },
  {
   "cell_type": "code",
   "execution_count": 206,
   "id": "dd8d38c0",
   "metadata": {},
   "outputs": [],
   "source": [
    "# Variables columns must be \"y\" and \"ds\", because prophet model needs it.\n",
    "\n",
    "# ds: date\n",
    "# y: predict value"
   ]
  },
  {
   "cell_type": "code",
   "execution_count": 207,
   "id": "39858fb0",
   "metadata": {},
   "outputs": [],
   "source": [
    "dfcsgo.columns = [\"y\" , \"ds\"]\n",
    "dfcod.columns = [\"y\" , \"ds\"]\n",
    "dfapex.columns = [\"y\" , \"ds\"]\n",
    "dfbf.columns = [\"y\" , \"ds\"]\n",
    "dftf2.columns = [\"y\" , \"ds\"]\n",
    "dfrbs.columns = [\"y\" , \"ds\"]"
   ]
  },
  {
   "cell_type": "code",
   "execution_count": 208,
   "id": "6abe4c9f",
   "metadata": {
    "scrolled": true
   },
   "outputs": [
    {
     "data": {
      "text/html": [
       "<div>\n",
       "<style scoped>\n",
       "    .dataframe tbody tr th:only-of-type {\n",
       "        vertical-align: middle;\n",
       "    }\n",
       "\n",
       "    .dataframe tbody tr th {\n",
       "        vertical-align: top;\n",
       "    }\n",
       "\n",
       "    .dataframe thead th {\n",
       "        text-align: right;\n",
       "    }\n",
       "</style>\n",
       "<table border=\"1\" class=\"dataframe\">\n",
       "  <thead>\n",
       "    <tr style=\"text-align: right;\">\n",
       "      <th></th>\n",
       "      <th>y</th>\n",
       "      <th>ds</th>\n",
       "    </tr>\n",
       "  </thead>\n",
       "  <tbody>\n",
       "    <tr>\n",
       "      <th>1</th>\n",
       "      <td>64378</td>\n",
       "      <td>2016-01-01</td>\n",
       "    </tr>\n",
       "    <tr>\n",
       "      <th>151</th>\n",
       "      <td>64652</td>\n",
       "      <td>2016-02-01</td>\n",
       "    </tr>\n",
       "    <tr>\n",
       "      <th>351</th>\n",
       "      <td>96854</td>\n",
       "      <td>2016-03-01</td>\n",
       "    </tr>\n",
       "    <tr>\n",
       "      <th>551</th>\n",
       "      <td>99754</td>\n",
       "      <td>2016-04-01</td>\n",
       "    </tr>\n",
       "    <tr>\n",
       "      <th>753</th>\n",
       "      <td>60407</td>\n",
       "      <td>2016-05-01</td>\n",
       "    </tr>\n",
       "    <tr>\n",
       "      <th>...</th>\n",
       "      <td>...</td>\n",
       "      <td>...</td>\n",
       "    </tr>\n",
       "    <tr>\n",
       "      <th>11758</th>\n",
       "      <td>81772</td>\n",
       "      <td>2020-12-01</td>\n",
       "    </tr>\n",
       "    <tr>\n",
       "      <th>11958</th>\n",
       "      <td>81964</td>\n",
       "      <td>2021-01-01</td>\n",
       "    </tr>\n",
       "    <tr>\n",
       "      <th>12157</th>\n",
       "      <td>100713</td>\n",
       "      <td>2021-02-01</td>\n",
       "    </tr>\n",
       "    <tr>\n",
       "      <th>12357</th>\n",
       "      <td>97409</td>\n",
       "      <td>2021-03-01</td>\n",
       "    </tr>\n",
       "    <tr>\n",
       "      <th>12557</th>\n",
       "      <td>97458</td>\n",
       "      <td>2021-04-01</td>\n",
       "    </tr>\n",
       "  </tbody>\n",
       "</table>\n",
       "<p>64 rows × 2 columns</p>\n",
       "</div>"
      ],
      "text/plain": [
       "            y         ds\n",
       "1       64378 2016-01-01\n",
       "151     64652 2016-02-01\n",
       "351     96854 2016-03-01\n",
       "551     99754 2016-04-01\n",
       "753     60407 2016-05-01\n",
       "...       ...        ...\n",
       "11758   81772 2020-12-01\n",
       "11958   81964 2021-01-01\n",
       "12157  100713 2021-02-01\n",
       "12357   97409 2021-03-01\n",
       "12557   97458 2021-04-01\n",
       "\n",
       "[64 rows x 2 columns]"
      ]
     },
     "execution_count": 208,
     "metadata": {},
     "output_type": "execute_result"
    }
   ],
   "source": [
    "dfcsgo"
   ]
  },
  {
   "cell_type": "markdown",
   "id": "145c7473",
   "metadata": {},
   "source": [
    "## Regression"
   ]
  },
  {
   "cell_type": "markdown",
   "id": "9adcc873",
   "metadata": {},
   "source": [
    "### Prophet"
   ]
  },
  {
   "cell_type": "code",
   "execution_count": 209,
   "id": "2d72d277",
   "metadata": {
    "scrolled": true
   },
   "outputs": [
    {
     "name": "stderr",
     "output_type": "stream",
     "text": [
      "INFO:fbprophet:Disabling weekly seasonality. Run prophet with weekly_seasonality=True to override this.\n"
     ]
    }
   ],
   "source": [
    "# Prophet is a procedure for forecasting time series data based on an additive model . \n",
    "\n",
    "m = Prophet(interval_width = 0.95 , daily_seasonality = True)\n",
    "model1 = m.fit(dfcsgo)"
   ]
  },
  {
   "cell_type": "code",
   "execution_count": 210,
   "id": "83169c42",
   "metadata": {},
   "outputs": [],
   "source": [
    "future = m.make_future_dataframe(periods = 16 , freq = \"M\")\n",
    "forecastcsgo = m.predict(future)"
   ]
  },
  {
   "cell_type": "code",
   "execution_count": 211,
   "id": "4877608d",
   "metadata": {
    "scrolled": false
   },
   "outputs": [
    {
     "data": {
      "image/png": "[encoded data removed]",
      "text/plain": [
       "<Figure size 720x432 with 1 Axes>"
      ]
     },
     "metadata": {},
     "output_type": "display_data"
    }
   ],
   "source": [
    "plotcsgo = m.plot(forecastcsgo)"
   ]
  },
  {
   "cell_type": "code",
   "execution_count": 212,
   "id": "d13c70f7",
   "metadata": {},
   "outputs": [],
   "source": [
    "#  The model also easily gives us the changes point times in the data set. \n",
    "# Let's rake a look at the dates and their places in the dataset"
   ]
  },
  {
   "cell_type": "code",
   "execution_count": 213,
   "id": "5622fd1d",
   "metadata": {
    "scrolled": false
   },
   "outputs": [
    {
     "data": {
      "image/png": "[encoded data removed]",
      "text/plain": [
       "<Figure size 648x648 with 3 Axes>"
      ]
     },
     "metadata": {},
     "output_type": "display_data"
    }
   ],
   "source": [
    "plottscgo = m.plot_components(forecastcsgo)"
   ]
  },
  {
   "cell_type": "code",
   "execution_count": 214,
   "id": "d2504024",
   "metadata": {},
   "outputs": [],
   "source": [
    "# Forecasting for Cs:go"
   ]
  },
  {
   "cell_type": "code",
   "execution_count": 215,
   "id": "c06d2cf5",
   "metadata": {},
   "outputs": [
    {
     "data": {
      "text/html": [
       "<div>\n",
       "<style scoped>\n",
       "    .dataframe tbody tr th:only-of-type {\n",
       "        vertical-align: middle;\n",
       "    }\n",
       "\n",
       "    .dataframe tbody tr th {\n",
       "        vertical-align: top;\n",
       "    }\n",
       "\n",
       "    .dataframe thead th {\n",
       "        text-align: right;\n",
       "    }\n",
       "</style>\n",
       "<table border=\"1\" class=\"dataframe\">\n",
       "  <thead>\n",
       "    <tr style=\"text-align: right;\">\n",
       "      <th></th>\n",
       "      <th>ds</th>\n",
       "      <th>yhat</th>\n",
       "    </tr>\n",
       "  </thead>\n",
       "  <tbody>\n",
       "    <tr>\n",
       "      <th>66</th>\n",
       "      <td>2021-06-30</td>\n",
       "      <td>81541.500</td>\n",
       "    </tr>\n",
       "    <tr>\n",
       "      <th>67</th>\n",
       "      <td>2021-07-31</td>\n",
       "      <td>76446.408</td>\n",
       "    </tr>\n",
       "    <tr>\n",
       "      <th>68</th>\n",
       "      <td>2021-08-31</td>\n",
       "      <td>105301.371</td>\n",
       "    </tr>\n",
       "    <tr>\n",
       "      <th>69</th>\n",
       "      <td>2021-09-30</td>\n",
       "      <td>51342.921</td>\n",
       "    </tr>\n",
       "    <tr>\n",
       "      <th>70</th>\n",
       "      <td>2021-10-31</td>\n",
       "      <td>46611.613</td>\n",
       "    </tr>\n",
       "    <tr>\n",
       "      <th>71</th>\n",
       "      <td>2021-11-30</td>\n",
       "      <td>66703.946</td>\n",
       "    </tr>\n",
       "    <tr>\n",
       "      <th>72</th>\n",
       "      <td>2021-12-31</td>\n",
       "      <td>75946.647</td>\n",
       "    </tr>\n",
       "    <tr>\n",
       "      <th>73</th>\n",
       "      <td>2022-01-31</td>\n",
       "      <td>128840.550</td>\n",
       "    </tr>\n",
       "    <tr>\n",
       "      <th>74</th>\n",
       "      <td>2022-02-28</td>\n",
       "      <td>93603.353</td>\n",
       "    </tr>\n",
       "    <tr>\n",
       "      <th>75</th>\n",
       "      <td>2022-03-31</td>\n",
       "      <td>56128.590</td>\n",
       "    </tr>\n",
       "    <tr>\n",
       "      <th>76</th>\n",
       "      <td>2022-04-30</td>\n",
       "      <td>79353.291</td>\n",
       "    </tr>\n",
       "    <tr>\n",
       "      <th>77</th>\n",
       "      <td>2022-05-31</td>\n",
       "      <td>64800.961</td>\n",
       "    </tr>\n",
       "    <tr>\n",
       "      <th>78</th>\n",
       "      <td>2022-06-30</td>\n",
       "      <td>88200.278</td>\n",
       "    </tr>\n",
       "    <tr>\n",
       "      <th>79</th>\n",
       "      <td>2022-07-31</td>\n",
       "      <td>86447.302</td>\n",
       "    </tr>\n",
       "  </tbody>\n",
       "</table>\n",
       "</div>"
      ],
      "text/plain": [
       "           ds       yhat\n",
       "66 2021-06-30  81541.500\n",
       "67 2021-07-31  76446.408\n",
       "68 2021-08-31 105301.371\n",
       "69 2021-09-30  51342.921\n",
       "70 2021-10-31  46611.613\n",
       "71 2021-11-30  66703.946\n",
       "72 2021-12-31  75946.647\n",
       "73 2022-01-31 128840.550\n",
       "74 2022-02-28  93603.353\n",
       "75 2022-03-31  56128.590\n",
       "76 2022-04-30  79353.291\n",
       "77 2022-05-31  64800.961\n",
       "78 2022-06-30  88200.278\n",
       "79 2022-07-31  86447.302"
      ]
     },
     "execution_count": 215,
     "metadata": {},
     "output_type": "execute_result"
    }
   ],
   "source": [
    "forecastcsgo[[\"ds\" , \"yhat\"]].iloc[66:80]"
   ]
  },
  {
   "cell_type": "markdown",
   "id": "446747d8",
   "metadata": {},
   "source": [
    "## Regression Analysis"
   ]
  },
  {
   "cell_type": "code",
   "execution_count": 216,
   "id": "3d99b13d",
   "metadata": {},
   "outputs": [],
   "source": [
    "rrr=twiitch[['Year','Hours_watched','Avg_viewers','Peak_viewers']]\n",
    "\n",
    "np.random.seed(42)\n",
    "x=rrr.drop([\"Hours_watched\"],axis=1)\n",
    "y=rrr[\"Hours_watched\"]\n",
    "x_train,x_test,y_train,y_test=train_test_split(x,y,test_size=0.2)\n"
   ]
  },
  {
   "cell_type": "code",
   "execution_count": 217,
   "id": "4896e3b3",
   "metadata": {},
   "outputs": [],
   "source": [
    "model=RandomForestRegressor(n_estimators=100)\n",
    "model.fit(x_train,y_train);"
   ]
  },
  {
   "cell_type": "code",
   "execution_count": 218,
   "id": "eb24f362",
   "metadata": {},
   "outputs": [
    {
     "data": {
      "text/plain": [
       "0.9991157677138484"
      ]
     },
     "execution_count": 218,
     "metadata": {},
     "output_type": "execute_result"
    }
   ],
   "source": [
    "model.score(x_test,y_test)"
   ]
  },
  {
   "cell_type": "markdown",
   "id": "222e8767",
   "metadata": {},
   "source": [
    "## R2\n",
    "###  What R-squared does:Compares your models predictions to the mean of the targets. Values can range from negative infinity (a very poor model) to 1. For example if all your model does is predict the mean of the targets, it's R^2 value would be 0. And if your model perfectly predicts a range of numbers it's R^2 value would be 1."
   ]
  },
  {
   "cell_type": "code",
   "execution_count": 219,
   "id": "52d6e31b",
   "metadata": {},
   "outputs": [],
   "source": [
    "y_test_mean=np.full(len(y_test),y_test.mean())"
   ]
  },
  {
   "cell_type": "code",
   "execution_count": 220,
   "id": "74ca3257",
   "metadata": {},
   "outputs": [
    {
     "data": {
      "text/plain": [
       "0.0"
      ]
     },
     "execution_count": 220,
     "metadata": {},
     "output_type": "execute_result"
    }
   ],
   "source": [
    "r2_score(y_test,y_test_mean)"
   ]
  },
  {
   "cell_type": "code",
   "execution_count": 221,
   "id": "577bbf66",
   "metadata": {},
   "outputs": [
    {
     "data": {
      "text/plain": [
       "1.0"
      ]
     },
     "execution_count": 221,
     "metadata": {},
     "output_type": "execute_result"
    }
   ],
   "source": [
    "r2_score(y_test,y_test)"
   ]
  }
 ],
 "metadata": {
  "kernelspec": {
   "display_name": "Python 3",
   "language": "python",
   "name": "python3"
  },
  "language_info": {
   "codemirror_mode": {
    "name": "ipython",
    "version": 3
   },
   "file_extension": ".py",
   "mimetype": "text/x-python",
   "name": "python",
   "nbconvert_exporter": "python",
   "pygments_lexer": "ipython3",
   "version": "3.8.8"
  }
 },
 "nbformat": 4,
 "nbformat_minor": 5
}
